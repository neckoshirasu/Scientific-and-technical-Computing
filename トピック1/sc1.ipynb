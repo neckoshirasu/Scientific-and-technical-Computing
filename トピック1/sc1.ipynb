{
 "cells": [
  {
   "cell_type": "markdown",
   "metadata": {},
   "source": [
    "# 1. <a id='toc1_'></a>[科学技術計算 1](#toc0_)\n",
    "\n",
    "ここでは Python と notebook の簡単な使い方と，math, numpy, scipy, matplotlib などの簡単な使い方を説明する．\n",
    "\n",
    "すべてを説明していないので，不明な点は，インターネットや書籍で適宜調べながら進めること．\n",
    "\n",
    "- The Python Software Foundation, [Python ドキュメント](https://docs.python.org/ja/3/index.html)\n",
    "- python.jp, [ゼロからの Python 入門講座](https://www.python.jp/train/index.html)\n",
    "- note.nkmk.me, [Python 関連記事まとめ](https://note.nkmk.me/python-post-summary/)\n",
    "- note.nkmk.me, [NumPy 関連記事まとめ](https://note.nkmk.me/python-numpy-post-summary/)\n",
    "- Python 学習講座, [Numpy 入門](https://www.python.ambitious-engineer.com/numpy-index)\n",
    "- DXCEL WAVE, [Numpy 基本操作一覧](https://di-acc2.com/programming/python/4896/)\n",
    "- 文部科学省, [高等学校情報科「情報 Ⅰ」教員研修用教材（本編）](https://www.mext.go.jp/a_menu/shotou/zyouhou/detail/1416756.htm), [第 3 章　コンピュータとプログラミング](https://www.mext.go.jp/content/20200722-mxt_jogai02-100013300_005.pdf)\n",
    "\n",
    "また常に公式ドキュメントを参照すること．\n",
    "\n",
    "- Python <https://docs.python.org/ja/3/index.html>\n",
    "    > Python is a programming language that lets you work quickly and integrate systems more effectively.\n",
    "- math <https://docs.python.org/ja/3/library/math.html>\n",
    "    > This module provides access to the mathematical functions defined by the C standard.\n",
    "- Numpy <https://numpy.org/doc/stable/reference/>\n",
    "    > NumPy is the fundamental package for scientific computing in Python.\n",
    "- Scipy <https://docs.scipy.org/doc/scipy/reference/>\n",
    "    > SciPy provides algorithms for optimization, integration, interpolation, eigenvalue problems, algebraic equations, differential equations, statistics and many other classes of problems.\n",
    "- Matplotlib <https://matplotlib.org/>\n",
    "    > Matplotlib is a comprehensive library for creating static, animated, and interactive visualizations in Python.\n",
    "- scikit-learn <https://scikit-learn.org/stable/modules/classes.html>\n",
    "    > Scikit-learn is an open source machine learning library that supports supervised and unsupervised learning.\n"
   ]
  },
  {
   "cell_type": "markdown",
   "metadata": {},
   "source": [
    "**目次**<a id='toc0_'></a>    \n",
    "- 1. [科学技術計算 1](#toc1_)    \n",
    "  - 1.1. [実行環境についての用語](#toc1_1_)    \n",
    "  - 1.2. [notebook の実行方法](#toc1_2_)    \n",
    "  - 1.3. [notebook の注意点](#toc1_3_)    \n",
    "    - 1.3.1. [値の変更](#toc1_3_1_)    \n",
    "    - 1.3.2. [カーネルの再起動](#toc1_3_2_)    \n",
    "  - 1.4. [notebook における python の実行](#toc1_4_)    \n",
    "    - 1.4.1. [表示と print](#toc1_4_1_)    \n",
    "    - 1.4.2. [四則演算](#toc1_4_2_)    \n",
    "    - 1.4.3. [組み込み関数と代入に関する注意](#toc1_4_3_)    \n",
    "  - 1.5. [リスト](#toc1_5_)    \n",
    "      - 1.5.1.1. [文字列](#toc1_5_1_1_)    \n",
    "      - 1.5.1.2. [文字列への変換と文字列の連結](#toc1_5_1_2_)    \n",
    "      - 1.5.1.3. [range()](#toc1_5_1_3_)    \n",
    "      - 1.5.1.4. [rangeはイテレータオブジェクト](#toc1_5_1_4_)    \n",
    "      - 1.5.1.5. [空リストと append](#toc1_5_1_5_)    \n",
    "      - 1.5.1.6. [リストの連結](#toc1_5_1_6_)    \n",
    "      - 1.5.1.7. [リストの反復](#toc1_5_1_7_)    \n",
    "      - 1.5.1.8. [最大，最小など](#toc1_5_1_8_)    \n",
    "      - 1.5.1.9. [リストの要素の改行](#toc1_5_1_9_)    \n",
    "  - 1.6. [2 次元配列：リストのリスト](#toc1_6_)    \n",
    "      - 1.6.1.1. [要素数の取得](#toc1_6_1_1_)    \n",
    "      - 1.6.1.2. [多次元リスト](#toc1_6_1_2_)    \n",
    "  - 1.7. [タプル](#toc1_7_)    \n",
    "  - 1.8. [制御文](#toc1_8_)    \n",
    "    - 1.8.1. [比較演算子](#toc1_8_1_)    \n",
    "    - 1.8.2. [制御文：if](#toc1_8_2_)    \n",
    "      - 1.8.2.1. [論理演算子](#toc1_8_2_1_)    \n",
    "      - 1.8.2.2. [in 演算子](#toc1_8_2_2_)    \n",
    "    - 1.8.3. [制御文：for](#toc1_8_3_)    \n",
    "      - 1.8.3.1. [リストを反復する例](#toc1_8_3_1_)    \n",
    "      - 1.8.3.2. [rangeを用いる例](#toc1_8_3_2_)    \n",
    "      - 1.8.3.3. [rangeとlenの組み合わせ](#toc1_8_3_3_)    \n",
    "      - 1.8.3.4. [enumerateを用いる例](#toc1_8_3_4_)    \n",
    "    - 1.8.4. [制御文：while](#toc1_8_4_)    \n",
    "    - 1.8.5. [内包表記](#toc1_8_5_)    \n",
    "  - 1.9. [関数](#toc1_9_)    \n",
    "    - 1.9.1. [返り値がタプルの例](#toc1_9_1_)    \n",
    "    - 1.9.2. [返り値がリストの例](#toc1_9_2_)    \n",
    "    - 1.9.3. [キーワード引数](#toc1_9_3_)    \n",
    "    - 1.9.4. [assert 文](#toc1_9_4_)    \n",
    "    - 1.9.5. [型ヒント，関数アノテーション](#toc1_9_5_)    \n",
    "    - 1.9.6. [Docstring](#toc1_9_6_)    \n",
    "    - 1.9.7. [値渡しと参照渡し](#toc1_9_7_)    \n",
    "  - 1.10. [print の出力フォーマット](#toc1_10_)    \n",
    "  - 1.11. [モジュールの読み込み](#toc1_11_)    \n",
    "    - 1.11.1. [math](#toc1_11_1_)    \n",
    "  - 1.12. [数値計算モジュール Numpy](#toc1_12_)    \n",
    "      - 1.12.1.1. [arange](#toc1_12_1_1_)    \n",
    "      - 1.12.1.2. [shape](#toc1_12_1_2_)    \n",
    "      - 1.12.1.3. [ndim](#toc1_12_1_3_)    \n",
    "    - 1.12.2. [要素へのアクセス](#toc1_12_2_)    \n",
    "      - 1.12.2.1. [インデキシング](#toc1_12_2_1_)    \n",
    "      - 1.12.2.2. [スライシング](#toc1_12_2_2_)    \n",
    "        - 1.12.2.2.1. [2次元ndarrayのスライシング](#toc1_12_2_2_1_)    \n",
    "        - 1.12.2.2.2. [行列の行と列を取り出す](#toc1_12_2_2_2_)    \n",
    "        - 1.12.2.2.3. [インデキシングとスライシングの注意点](#toc1_12_2_2_3_)    \n",
    "    - 1.12.3. [要素毎の処理](#toc1_12_3_)    \n",
    "      - 1.12.3.1. [スライシングと参照：注意点](#toc1_12_3_1_)    \n",
    "      - 1.12.3.2. [要素の入れ替え（swap）](#toc1_12_3_2_)    \n",
    "    - 1.12.4. [ndarrayを作成・処理する関数](#toc1_12_4_)    \n",
    "      - 1.12.4.1. [乱数](#toc1_12_4_1_)    \n",
    "      - 1.12.4.2. [0 ndarray](#toc1_12_4_2_)    \n",
    "      - 1.12.4.3. [1 ndarray](#toc1_12_4_3_)    \n",
    "      - 1.12.4.4. [np.full()](#toc1_12_4_4_)    \n",
    "      - 1.12.4.5. [統計量](#toc1_12_4_5_)    \n",
    "      - 1.12.4.6. [reshape](#toc1_12_4_6_)    \n",
    "      - 1.12.4.7. [linspace, logspace](#toc1_12_4_7_)    \n",
    "      - 1.12.4.8. [hstack, vstack](#toc1_12_4_8_)    \n",
    "  - 1.13. [科学計算モジュール Scipy](#toc1_13_)    \n",
    "  - 1.14. [機械学習モジュール scikit-learn](#toc1_14_)    \n",
    "  - 1.15. [モジュールのインポート](#toc1_15_)    \n",
    "    - 1.15.1. [バージョンの確認](#toc1_15_1_)    \n",
    "  - 1.16. [プロット用モジュール Matplotlib](#toc1_16_)    \n",
    "    - 1.16.1. [基本のプロット](#toc1_16_1_)    \n",
    "    - 1.16.2. [線のスタイル，ラベル，軸のカスタマイズ](#toc1_16_2_)    \n",
    "    - 1.16.3. [2次元散布図](#toc1_16_3_)    \n",
    "    - 1.16.4. [複数プロットの作成](#toc1_16_4_)    \n",
    "    - 1.16.5. [プロットの例：級数の収束](#toc1_16_5_)    \n",
    "      - 1.16.5.1. [例：ライプニッツの公式](#toc1_16_5_1_)    \n",
    "\n",
    "<!-- vscode-jupyter-toc-config\n",
    "\tnumbering=true\n",
    "\tanchor=true\n",
    "\tflat=false\n",
    "\tminLevel=1\n",
    "\tmaxLevel=6\n",
    "\t/vscode-jupyter-toc-config -->\n",
    "<!-- THIS CELL WILL BE REPLACED ON TOC UPDATE. DO NOT WRITE YOUR TEXT IN THIS CELL -->"
   ]
  },
  {
   "cell_type": "markdown",
   "metadata": {},
   "source": [
    "## 1.1. <a id='toc1_1_'></a>[実行環境についての用語](#toc0_)\n",
    "\n",
    "以降では python を用いて説明する．また実行環境は jupyter notebook である．\n",
    "\n",
    "- Python <https://www.python.jp>：科学技術計算から大規模 web サービスまで様々な分野で利用されているスクリプト言語\n",
    "    > Python(パイソン) は1990年代初頭ごろから公開されているプログラミング言語で、わかりやすく、実用的な言語として、広く使われ続けています。\n",
    "- IPython <https://ipython.org>：Python のインタラクティブな実行環境\n",
    "    > IPython provides a rich architecture for interactive computing\n",
    "- Jupyter notebook <http://jupyter.org>：\n",
    "    IPython などの言語をブラウザベースで実行することができる，インタラクティブな実行環境．\n",
    "    計算手順と計算結果を（まさにこのドキュメントのように）そのまま残すことができる．\n",
    "    > The Jupyter Notebook is the original web application for creating and sharing computational documents. It offers a simple, streamlined, document-centric experience.\n",
    "- Google Colaboratory <http://colab.research.google.com/>：\n",
    "    Google 上の仮想マシンで notebook をブラウザベースで実行することができる，インタラクティブな実行環境．ローカルに実行環境がなくてもクラウド上で実行が可能．\n",
    "    > Colab（正式名称「Colaboratory」）では、ブラウザ上で Python を記述、実行できます。以下の機能を使用できます。"
   ]
  },
  {
   "cell_type": "markdown",
   "metadata": {},
   "source": [
    "## 1.2. <a id='toc1_2_'></a>[notebook の実行方法](#toc0_)\n",
    "\n",
    "notebook はセル単位で実行する．\n",
    "\n",
    "- セルにキーフォーカスを移動してから「Ctrl + Enter」または「Shift + Enter」キーを押す\n",
    "- Colaboratory なら三角形の実行ボタンを押す\n",
    "\n",
    "なお python と同様に，`#`以降はコメントになる．また`\"\"\"`で囲まれた複数行もコメントになる．\n"
   ]
  },
  {
   "cell_type": "code",
   "execution_count": null,
   "metadata": {},
   "outputs": [],
   "source": [
    "1 + 1  # これはコメント\n"
   ]
  },
  {
   "cell_type": "code",
   "execution_count": null,
   "metadata": {},
   "outputs": [],
   "source": [
    "# ここはコメント\n",
    "\n",
    "\"\"\"\n",
    "これは複数行のコメント\n",
    "これは複数行のコメント\n",
    "これは複数行のコメント\n",
    "\"\"\"\n",
    "\n",
    "f = 150  # 変数fを使う\n",
    "g = 200 + f  # 変数gを使う\n",
    "print(f)  # 変数fを表示\n",
    "print(g)  # 変数gを表示\n"
   ]
  },
  {
   "cell_type": "markdown",
   "metadata": {},
   "source": [
    "## 1.3. <a id='toc1_3_'></a>[notebook の注意点](#toc0_)\n"
   ]
  },
  {
   "cell_type": "markdown",
   "metadata": {},
   "source": [
    "### 1.3.1. <a id='toc1_3_1_'></a>[値の変更](#toc0_)\n",
    "\n",
    "上の方のセルで使用した変数`f`と`g`は，以下でも使える．\n"
   ]
  },
  {
   "cell_type": "code",
   "execution_count": null,
   "metadata": {},
   "outputs": [],
   "source": [
    "print(f, g)\n"
   ]
  },
  {
   "cell_type": "markdown",
   "metadata": {},
   "source": [
    "しかし，以下のコードを実行すると，値が書き換わる．\n"
   ]
  },
  {
   "cell_type": "code",
   "execution_count": null,
   "metadata": {},
   "outputs": [],
   "source": [
    "f = 100\n",
    "g = 80\n"
   ]
  },
  {
   "cell_type": "markdown",
   "metadata": {},
   "source": [
    "もう一度，f と g の値を表示している上のセルに戻って，実行し直すと，表示される値が変わっている．\n",
    "このように，いつ変数が宣言されていつ値が書き換わるのかが，普通のプログラミングとは少し違うので，注意すること．\n"
   ]
  },
  {
   "cell_type": "code",
   "execution_count": null,
   "metadata": {},
   "outputs": [],
   "source": [
    "print(f, g)\n"
   ]
  },
  {
   "cell_type": "markdown",
   "metadata": {},
   "source": [
    "### 1.3.2. <a id='toc1_3_2_'></a>[カーネルの再起動](#toc0_)\n",
    "\n",
    "上記の変数`f`と`g`は，カーネル（裏で動いている実体）が終了したり再起動したりすると，使えなくなる．（Google Colab では「ランタイム」と呼ばれている）\n"
   ]
  },
  {
   "cell_type": "markdown",
   "metadata": {},
   "source": [
    "カーネル（もしくはランタイム）を再起動してから，以下のコードを実行すると，宣言されていない変数（`f`と`g`）を参照した，というエラーが出る．\n"
   ]
  },
  {
   "cell_type": "code",
   "execution_count": null,
   "metadata": {},
   "outputs": [],
   "source": [
    "print(f, g)\n"
   ]
  },
  {
   "cell_type": "markdown",
   "metadata": {},
   "source": [
    "エラーの内容\n",
    "\n",
    "```bash\n",
    "---------------------------------------------------------------------------\n",
    "NameError                                 Traceback (most recent call last)\n",
    "<ipython-input-1-1fc60b275fa3> in <module>()\n",
    "----> 1 print(f, g)\n",
    "\n",
    "NameError: name 'f' is not defined\n",
    "```\n"
   ]
  },
  {
   "cell_type": "markdown",
   "metadata": {},
   "source": [
    "notebook を終了してまた起動しても，同じことが起こる．\n",
    "「一旦保存して，明日また起動」するときには注意すること．\n"
   ]
  },
  {
   "cell_type": "markdown",
   "metadata": {},
   "source": [
    "## 1.4. <a id='toc1_4_'></a>[notebook における python の実行](#toc0_)\n",
    "\n",
    "では notebook で python を実行する方法を説明する．\n",
    "\n",
    "### 1.4.1. <a id='toc1_4_1_'></a>[表示と print](#toc0_)\n",
    "\n",
    "セルでは，以下のようにセル内の最後の行で評価された値が表示される．\n"
   ]
  },
  {
   "cell_type": "code",
   "execution_count": null,
   "metadata": {},
   "outputs": [],
   "source": [
    "a = 10\n",
    "20\n"
   ]
  },
  {
   "cell_type": "code",
   "execution_count": null,
   "metadata": {},
   "outputs": [],
   "source": [
    "a\n"
   ]
  },
  {
   "cell_type": "markdown",
   "metadata": {},
   "source": [
    "変数「`a`」を値を表示したければセルの最後で`a`とするだけでもよい．\n",
    "しかし複数の値を表示したい場合には`print()`を使う．\n",
    "\n",
    "なお式評価による出力と print の出力が違う場合もあるので注意（np.ndarray などのオブジェクトの出力）．\n"
   ]
  },
  {
   "cell_type": "code",
   "execution_count": null,
   "metadata": {},
   "outputs": [],
   "source": [
    "print(a)\n"
   ]
  },
  {
   "cell_type": "code",
   "execution_count": null,
   "metadata": {},
   "outputs": [],
   "source": [
    "print(10)\n",
    "print(20)\n",
    "print(a)\n"
   ]
  },
  {
   "cell_type": "markdown",
   "metadata": {},
   "source": [
    "`print()`には複数の値を引数に与えることができる．これらは改行せずに表示される．\n"
   ]
  },
  {
   "cell_type": "code",
   "execution_count": null,
   "metadata": {},
   "outputs": [],
   "source": [
    "print(10, 20, a)\n",
    "print(\"a is\", a, \", which is 20.\")\n"
   ]
  },
  {
   "cell_type": "markdown",
   "metadata": {},
   "source": [
    "デフォルトで`print()`は改行を出力するが，キーワード引数`end`に改行文字を指定できる．\n",
    "`end=\"\"`とすると改行文字が何もなくなるため，改行しない表示ができる．\n"
   ]
  },
  {
   "cell_type": "code",
   "execution_count": null,
   "metadata": {},
   "outputs": [],
   "source": [
    "print(\"Hello World\")  # 改行される\n",
    "print(\"Hello World\")\n",
    "print(\"Hello World\")\n"
   ]
  },
  {
   "cell_type": "code",
   "execution_count": null,
   "metadata": {},
   "outputs": [],
   "source": [
    "print(\"Hello\", end=\"\")  # 改行されない\n",
    "print(\"World\")\n",
    "\n",
    "print(\"Hello\", end=\" \")\n",
    "print(\"World\")\n",
    "\n",
    "print(\"Hello\", end=\"my\")\n",
    "print(\"World\")\n"
   ]
  },
  {
   "cell_type": "markdown",
   "metadata": {},
   "source": [
    "### 1.4.2. <a id='toc1_4_2_'></a>[四則演算](#toc0_)\n",
    "\n",
    "Python の四則演算は，通常のプログラミング言語での四則演算記号と同じである．\n",
    "割り算は，除算の場合には`/`，商を求める場合には`//`を使う．\n"
   ]
  },
  {
   "cell_type": "code",
   "execution_count": null,
   "metadata": {},
   "outputs": [],
   "source": [
    "print(5 + 2, \"is int\")  # 加算\n",
    "print(5 - 2, \"is int\")  # 減算\n",
    "print(5 * 2, \"is int\")  # 積\n",
    "print(5 / 2, \"is float\")  # 除算\n",
    "print(5 // 2, \"is int\")  # 商\n",
    "print(5 % 2, \"is int\")  # 剰余\n"
   ]
  },
  {
   "cell_type": "markdown",
   "metadata": {},
   "source": [
    "Python では，明示的に型を指定する必要はない\n",
    "\n",
    "- 代入する場合には`=`を使う．型が異なっても代入できる．\n",
    "- 変数の型を知りたい場合には`type()`を使う．\n"
   ]
  },
  {
   "cell_type": "code",
   "execution_count": null,
   "metadata": {},
   "outputs": [],
   "source": [
    "a = 10\n",
    "print(a, type(a))\n"
   ]
  },
  {
   "cell_type": "code",
   "execution_count": null,
   "metadata": {},
   "outputs": [],
   "source": [
    "a = 10.2\n",
    "print(a, type(a))\n"
   ]
  },
  {
   "cell_type": "code",
   "execution_count": null,
   "metadata": {},
   "outputs": [],
   "source": [
    "a = \"this is a text\"\n",
    "print(a, type(a))\n"
   ]
  },
  {
   "cell_type": "markdown",
   "metadata": {},
   "source": [
    "なお組み込み関数の一覧は次の情報を参照すること．\n",
    "\n",
    "- <https://docs.python.org/ja/3/library/functions.html>\n",
    "    > Python インタプリタには数多くの関数と型が組み込まれており、いつでも利用できます。\n",
    "\n",
    "### 1.4.3. <a id='toc1_4_3_'></a>[組み込み関数と代入に関する注意](#toc0_)\n",
    "\n",
    "組み込み関数であっても変数として代入できてしまうため，意図しない挙動を引き起こす場合があるため注意すること．\n",
    "\n",
    "例えば，組み込み関数`sum()`があるのに，変数として`sum = 0`など使えてしまうが，それ以降は組み込み関数としては使えなくなってしまうため注意が必要である．このようなことをうっかりしてしまう組み込み関数には他にも`max(), min(), len(), str(), all(), lambda()`等がある．\n"
   ]
  },
  {
   "cell_type": "markdown",
   "metadata": {},
   "source": [
    "## 1.5. <a id='toc1_5_'></a>[リスト](#toc0_)\n",
    "\n",
    "Python でもっとも重要で基本的な型がリスト（配列）である．リストを生成するには要素を並べて`[]`でくくる．\n",
    "\n",
    "- https://docs.python.org/ja/3/tutorial/introduction.html#lists\n",
    "    > 最も汎用性が高いのは リスト (list) で、コンマ区切りの値 (要素) の並びを角括弧で囲んだものとして書き表されます。\n",
    "- https://docs.python.org/ja/3/library/stdtypes.html#list\n",
    "    > リストはミュータブルなシーケンスで、一般的に同種の項目の集まりを格納するために使われます\n"
   ]
  },
  {
   "cell_type": "code",
   "execution_count": null,
   "metadata": {},
   "outputs": [],
   "source": [
    "a = [0, 1, 2, 3, 4]  # 1次元配列\n",
    "print(a)\n",
    "print(type(a))\n"
   ]
  },
  {
   "cell_type": "markdown",
   "metadata": {},
   "source": [
    "他のプログラミング言語と同様に，\n",
    "要素にアクセスするには`[]`でインデックスを指定する．\n",
    "`N`個の要素からなるリストのインデックスは`0`から`N-1`までである．\n"
   ]
  },
  {
   "cell_type": "code",
   "execution_count": null,
   "metadata": {
    "scrolled": true
   },
   "outputs": [],
   "source": [
    "a[3] = 100\n",
    "\n",
    "print(a[0])  # 最初の要素\n",
    "print(a[1])\n",
    "print(a[2])\n",
    "print(a[3])\n",
    "print(a[4])  # 最後の要素\n",
    "\n",
    "print(a)\n"
   ]
  },
  {
   "cell_type": "markdown",
   "metadata": {},
   "source": [
    "他のプログラミング言語とは異なり，\n",
    "インデックスに負の値を指定すると，要素の最後からアクセスすることができる．\n",
    "したがって，`-1`は最後の要素を，`-2`は最後から 2 番目の要素を，という意味になる．\n",
    "負のインデックスは`-1`から`-N`までである．\n"
   ]
  },
  {
   "cell_type": "code",
   "execution_count": null,
   "metadata": {},
   "outputs": [],
   "source": [
    "print(a)\n",
    "\n",
    "print(a[-1])  # 最後の要素\n",
    "print(a[-2])\n",
    "print(a[-3])\n",
    "print(a[-4])\n",
    "print(a[-5])  # 最初の要素\n"
   ]
  },
  {
   "cell_type": "markdown",
   "metadata": {},
   "source": [
    "リストの要素の個数は`len(リスト名)`で得られる．\n"
   ]
  },
  {
   "cell_type": "code",
   "execution_count": null,
   "metadata": {},
   "outputs": [],
   "source": [
    "print(len(a))\n"
   ]
  },
  {
   "cell_type": "markdown",
   "metadata": {},
   "source": [
    "#### 1.5.1.1. <a id='toc1_5_1_1_'></a>[文字列](#toc0_)\n",
    "\n",
    "pythonにおいて`\"abcd\"`などの文字列は，リストではないが，リストと同様に各文字にアクセスできる．\n",
    "\n",
    "以下は文字列と文字のリストを作成し，各要素にアクセスする例である．"
   ]
  },
  {
   "cell_type": "code",
   "execution_count": null,
   "metadata": {},
   "outputs": [],
   "source": [
    "my_string = \"abcdefg\"\n",
    "\n",
    "print(\"my_string is\", my_string)\n",
    "print(len(my_string))\n",
    "print(my_string[0])\n",
    "print(my_string[1])\n",
    "print(my_string[2])\n",
    "print(my_string[3])\n",
    "\n",
    "my_string_list = [\"a\", \"b\", \"c\", \"d\", \"e\", \"f\", \"g\"]\n",
    "\n",
    "print(\"my_string_list is\", my_string_list)\n",
    "print(len(my_string_list))\n",
    "print(my_string_list[0])\n",
    "print(my_string_list[1])\n",
    "print(my_string_list[2])\n",
    "print(my_string_list[3])\n"
   ]
  },
  {
   "cell_type": "markdown",
   "metadata": {},
   "source": [
    "#### 1.5.1.2. <a id='toc1_5_1_2_'></a>[文字列への変換と文字列の連結](#toc0_)\n",
    "\n",
    "数値を文字列へ変換するには`str()`を用いる．\n",
    "また文字列同士の連結には演算子`+`を用いる．\n",
    "\n",
    "- https://docs.python.org/ja/3/library/stdtypes.html#str\n",
    "    > object の 文字列 版を返します。"
   ]
  },
  {
   "cell_type": "code",
   "execution_count": null,
   "metadata": {
    "slideshow": {
     "slide_type": ""
    },
    "tags": []
   },
   "outputs": [],
   "source": [
    "a = 10\n",
    "b = 1.2\n",
    "\n",
    "a_str = str(a)\n",
    "b_str = str(b)\n",
    "message_a = \"a is \" + a_str + \", and its type is \" + str(type(a))\n",
    "message_b = \"b is \" + b_str + \", and its type is \" + str(type(b))\n",
    "\n",
    "print(\"message a:\", message_a)\n",
    "print(\"message b:\", message_b)\n"
   ]
  },
  {
   "cell_type": "markdown",
   "metadata": {},
   "source": [
    "#### 1.5.1.3. <a id='toc1_5_1_3_'></a>[range()](#toc0_)\n",
    "\n",
    "連続する整数値のリストを作成するには`range()`を使う．\n",
    "ループで頻繁に使用するため，python では重要な関数である．\n",
    "\n",
    "ただし python3 では`range`はイテレータオブジェクトを返すので，\n",
    "以下では表示のためにリストに変換するために`list()`を使っている．\n",
    "\n",
    "- https://docs.python.org/ja/3/library/stdtypes.html#range\n",
    "- https://docs.python.org/ja/3/tutorial/controlflow.html#the-range-function\n",
    "    > 数列にわたって反復を行う必要がある場合、組み込み関数 range() が便利です。この関数は算術型の数列を生成します\n",
    "\n",
    "引数が 1 つの場合，`range(a)`は 0 から`a`未満のリスト`[0, 1, ..., a-1]`を表す．\n"
   ]
  },
  {
   "cell_type": "code",
   "execution_count": null,
   "metadata": {},
   "outputs": [],
   "source": [
    "print(list(range(10)))  # 0から9まで（10未満）\n",
    "print(list(range(5)))  # 0から4まで（5未満）\n"
   ]
  },
  {
   "cell_type": "markdown",
   "metadata": {},
   "source": [
    "引数が 2 つの場合，`range(a, b)`は`a`から`b`未満のリスト`[a, a+1, ..., b-1]`を表す．\n"
   ]
  },
  {
   "cell_type": "code",
   "execution_count": null,
   "metadata": {},
   "outputs": [],
   "source": [
    "print(list(range(1, 10)))  # 1から9まで（10未満）\n",
    "print(list(range(1, 11)))  # 1から10まで（11未満）\n",
    "print(list(range(-4, 8)))  # -4から7まで（8未満）\n",
    "print(list(range(8, -4)))  # 8から-4まで，はできないので空リストになる\n"
   ]
  },
  {
   "cell_type": "markdown",
   "metadata": {},
   "source": [
    "引数が 3 つの場合，`range(a, b, c)`は`a`から`b`未満のステップ（インクリメント）が`c`であるリスト`[a, a+c, a+2c, ..., b-1]`を表す（最後の要素は`b-1`とは限らない）．ステップ`c`は負でもよい．\n"
   ]
  },
  {
   "cell_type": "code",
   "execution_count": null,
   "metadata": {},
   "outputs": [],
   "source": [
    "print(list(range(0, 10, 2)))  # 0から9までステップ2\n",
    "print(list(range(0, 10, 3)))  # 1から9までステップ3\n",
    "print(list(range(8, -4, -1)))  # 8から-4までステップ-1\n",
    "print(list(range(8, -4, -3)))  # 8から-4までステップ-3\n"
   ]
  },
  {
   "cell_type": "markdown",
   "metadata": {},
   "source": [
    "#### 1.5.1.4. <a id='toc1_5_1_4_'></a>[rangeはイテレータオブジェクト](#toc0_)\n",
    "\n",
    "`list()`でリストに変換しない場合には`range()`オブジェクトとして表示される．\n",
    "以下で説明する通常のループなどで使用する場合には，リストに変換せず`range()`オブジェクトのまま使用する．\n",
    "その理由は，非常に長い連続するリストを使う場合，実際にリストに変換してしまうと，その時点でそのリスト全体を保持する大量のメモリ領域が必要になってしまうからである．変換せずに`range()`のまま使用するのであれば，必要になった時点で要素を１つずつ生成するだけであるため，大量のメモリを必要としない．\n",
    "\n",
    "- https://docs.python.org/ja/3/library/stdtypes.html#typesseq-range\n",
    "    > range 型は、数のイミュータブルなシーケンスを表し、一般に for ループにおいて特定の回数のループに使われます。\n"
   ]
  },
  {
   "cell_type": "code",
   "execution_count": null,
   "metadata": {},
   "outputs": [],
   "source": [
    "print(type(range(4, 8)))  # rengeはrangeオブジェクトを返す\n",
    "print(type(list(range(4, 8))))  # listはリストを返す\n",
    "print(range(4, 8))\n",
    "print(range(4, -8, -1))\n",
    "print(range(10000000000))\n"
   ]
  },
  {
   "cell_type": "markdown",
   "metadata": {},
   "source": [
    "#### 1.5.1.5. <a id='toc1_5_1_5_'></a>[空リストと append](#toc0_)\n",
    "\n",
    "リストは空のまま生成できる．空リストに後から要素を追加するには`append()`を用いる．\n",
    "\n",
    "- https://docs.python.org/ja/3/library/stdtypes.html#mutable-sequence-types\n",
    "    > `s.append(x)`: x をシーケンスの最後に加えます"
   ]
  },
  {
   "cell_type": "code",
   "execution_count": null,
   "metadata": {},
   "outputs": [],
   "source": [
    "a = []\n",
    "print(a)\n",
    "\n",
    "a.append(4)\n",
    "print(a)\n",
    "a.append(2)\n",
    "print(a)\n",
    "a.append(8)\n",
    "print(a)\n"
   ]
  },
  {
   "cell_type": "markdown",
   "metadata": {},
   "source": [
    "ループ処理では，リストの初期値を空リストにしておき，ループ内で要素を追加するという処理をよく行う．\n",
    "ただし（アルゴリズムとデータ構造で学ぶように，線形リストに）要素を追加する`append()`はやや処理時間がかかるため，\n",
    "大量の要素（例えば 100 万個）を逐次的に append することには向いていない．\n",
    "その場合にはあらかじめ固定長のリストを生成しておき，そのリストの要素を上書きしたほうがよい．\n"
   ]
  },
  {
   "cell_type": "markdown",
   "metadata": {},
   "source": [
    "#### 1.5.1.6. <a id='toc1_5_1_6_'></a>[リストの連結](#toc0_)\n",
    "\n",
    "リスト同士の連結には演算子`+`を用いる．もしくは`extend()`を用いる．\n",
    "\n",
    "- https://docs.python.org/ja/3/library/stdtypes.html#mutable-sequence-types\n",
    "    > `s.extend(t) または s += t`: s を t の内容で拡張します"
   ]
  },
  {
   "cell_type": "code",
   "execution_count": null,
   "metadata": {},
   "outputs": [],
   "source": [
    "first_list = list(range(4))\n",
    "second_list = list(range(5, 10))\n",
    "print(first_list)\n",
    "print(second_list)\n",
    "\n",
    "cat_list = first_list + second_list\n",
    "print(cat_list)\n",
    "\n",
    "cat_list2 = first_list.extend(second_list)\n",
    "print(cat_list)\n"
   ]
  },
  {
   "cell_type": "markdown",
   "metadata": {},
   "source": [
    "#### 1.5.1.7. <a id='toc1_5_1_7_'></a>[リストの反復](#toc0_)\n",
    "\n",
    "リストの繰り返しには`*`を用いる．\n",
    "\n",
    "- https://docs.python.org/ja/3/library/stdtypes.html#mutable-sequence-types\n",
    "- https://docs.python.org/ja/3/library/stdtypes.html#typesseq-common\n",
    "    > `s * n または n * s`: s 自身を n 回足すのと同じ\n"
   ]
  },
  {
   "cell_type": "code",
   "execution_count": null,
   "metadata": {},
   "outputs": [],
   "source": [
    "first_list = [0, 1]\n",
    "second_list = [5, 6, 7]\n",
    "\n",
    "first_list = first_list * 3\n",
    "second_list = second_list * 2\n",
    "\n",
    "print(first_list)\n",
    "print(second_list)\n"
   ]
  },
  {
   "cell_type": "markdown",
   "metadata": {},
   "source": [
    "#### 1.5.1.8. <a id='toc1_5_1_8_'></a>[最大，最小など](#toc0_)\n",
    "\n",
    "リストの最大値，最小値，合計は次のように組み込み関数で求められる．\n"
   ]
  },
  {
   "cell_type": "code",
   "execution_count": null,
   "metadata": {},
   "outputs": [],
   "source": [
    "print(cat_list)\n",
    "print(\"max is\", max(cat_list))\n",
    "print(\"min is\", min(cat_list))\n",
    "print(\"sum is\", sum(cat_list))\n",
    "print(\"mean is\", sum(cat_list) / len(cat_list))\n"
   ]
  },
  {
   "cell_type": "markdown",
   "metadata": {},
   "source": [
    "#### 1.5.1.9. <a id='toc1_5_1_9_'></a>[リストの要素の改行](#toc0_)\n",
    "\n",
    "リスト要素を代入する際には，以下のように要素ごとに改行することもできる（ただし適切なインデントが必要）．\n"
   ]
  },
  {
   "cell_type": "code",
   "execution_count": null,
   "metadata": {},
   "outputs": [],
   "source": [
    "a = [1, 2, 3]\n",
    "print(a)\n",
    "\n",
    "a = [\n",
    "    1,\n",
    "    2,\n",
    "    3\n",
    "]\n",
    "print(a)\n"
   ]
  },
  {
   "cell_type": "markdown",
   "metadata": {},
   "source": [
    "## 1.6. <a id='toc1_6_'></a>[2 次元配列：リストのリスト](#toc0_)\n",
    "\n",
    "2 次元配列は`[]`の中に要素としてリストを指定する．\n",
    "リストのリストであるため，以下のように改行して並べると見やすくなる（ただし適切なインデントが必要）．\n"
   ]
  },
  {
   "cell_type": "code",
   "execution_count": null,
   "metadata": {},
   "outputs": [],
   "source": [
    "a = [[0, 1, 2], [3, 4, 5, 6], [7]]\n",
    "print(a)\n",
    "\n",
    "a = [\n",
    "    [0, 1, 2],\n",
    "    [3, 4, 5, 6],\n",
    "    [7]\n",
    "]\n",
    "print(a)\n"
   ]
  },
  {
   "cell_type": "markdown",
   "metadata": {},
   "source": [
    "リストのリストであるため，1 つ目のインデックスで指定するのは要素としてのリストである．\n"
   ]
  },
  {
   "cell_type": "code",
   "execution_count": null,
   "metadata": {},
   "outputs": [],
   "source": [
    "print(a[0])  # aの中の最初のリスト\n",
    "print(a[1])  # aの中の次のリスト\n"
   ]
  },
  {
   "cell_type": "markdown",
   "metadata": {},
   "source": [
    "2 つ目のインデックスで，要素としてのリストの中の要素を指定できる．\n",
    "\n",
    "なお`a[0]`で`a`の中の最初のリストにアクセスし，それに対して`[0]`で要素にアクセスするため，`a[0][0]`と書く．\n",
    "したがって`a[0, 0]`と書くことはできない（`a`に対するインデックス指定としては無効）．\n"
   ]
  },
  {
   "cell_type": "code",
   "execution_count": null,
   "metadata": {},
   "outputs": [],
   "source": [
    "print(a[0][0])  # aの中の最初のリストa[0]の，最初の要素[0]\n",
    "print(a[1][0])  # aの中の最初のリストa[1]の，最初の要素[0]\n",
    "\n",
    "print(a[0][1])  # aの中の最初のリストa[0]の，2つ目の要素[1]\n",
    "print(a[1][1])  # aの中の最初のリストa[1]の，2つ目の要素[1]\n"
   ]
  },
  {
   "cell_type": "code",
   "execution_count": null,
   "metadata": {},
   "outputs": [],
   "source": [
    "print(a[0, 0])  # リストに対しては，これはエラーになる\n"
   ]
  },
  {
   "cell_type": "markdown",
   "metadata": {},
   "source": [
    "#### 1.6.1.1. <a id='toc1_6_1_1_'></a>[要素数の取得](#toc0_)\n",
    "\n",
    "2 次元リストのサイズ（つまり要素としてのリストの数）も`len()`で取得できる．\n",
    "\n",
    "リスト\n",
    "`a = [ [0, 1, 2], [3, 4, 5, 6], [7] ]`\n",
    "の要素はリストなので，要素の個数を`len()`で表示すると 3 になる．\n",
    "さらにそれぞれの要素に対して`len()`で個数を表示すると，それぞれ 3, 4, 1 になる．\n"
   ]
  },
  {
   "cell_type": "code",
   "execution_count": null,
   "metadata": {},
   "outputs": [],
   "source": [
    "print(len(a), a)\n",
    "print(len(a[0]), a[0])\n",
    "print(len(a[1]), a[1])\n"
   ]
  },
  {
   "cell_type": "markdown",
   "metadata": {},
   "source": [
    "#### 1.6.1.2. <a id='toc1_6_1_2_'></a>[多次元リスト](#toc0_)\n",
    "\n",
    "2 次元以上のリストも可能である．しかし以降では使用しないため（以降の説明では ndarray のほうが重要であるため）これ以上の説明はしない．\n"
   ]
  },
  {
   "cell_type": "code",
   "execution_count": null,
   "metadata": {},
   "outputs": [],
   "source": [
    "a = [\n",
    "    [\n",
    "        [1, 2, 3],\n",
    "        [4, 5]\n",
    "    ],\n",
    "    [\n",
    "        [6, 7, 8, 9],\n",
    "        [10],\n",
    "        [11, 12, 13]\n",
    "    ],\n",
    "    [\n",
    "        [],\n",
    "    ]\n",
    "]\n",
    "\n",
    "print(a)\n"
   ]
  },
  {
   "cell_type": "markdown",
   "metadata": {},
   "source": [
    "## 1.7. <a id='toc1_7_'></a>[タプル](#toc0_)\n",
    "\n",
    "pythonでは，2つ以上の値や変数をカッコ「()」で囲んでカンマ「,」で区切り，ひとまとめにして代入などに用いることができる．これをタプル（tuple）と呼ぶ．タプルはリストと並んでpythonでよく用いられる基本的な型である．\n",
    "\n",
    "以下は，右辺でタプルを生成し，左辺でタプルそれぞれの要素を受け取っている例である．カッコ「()」はなくてもよい．"
   ]
  },
  {
   "cell_type": "code",
   "execution_count": null,
   "metadata": {},
   "outputs": [],
   "source": [
    "(a, b) = (10, 20)\n",
    "print(a, b)\n",
    "\n",
    "a, b = 10, 20\n",
    "print(a, b)\n",
    "\n",
    "c, d, e, f = a + 1, b * 10, 100, 200\n",
    "print(c, d, e, f)\n"
   ]
  },
  {
   "cell_type": "markdown",
   "metadata": {},
   "source": [
    "以下は，タプルを`a`に代入し（`a`はタプルになる），次にその要素を`b`と`c`に分けて代入している例である．このように代入によってタプルの要素を別々に受け取ることができる．"
   ]
  },
  {
   "cell_type": "code",
   "execution_count": null,
   "metadata": {},
   "outputs": [],
   "source": [
    "a = 10, 20\n",
    "print(a)\n",
    "\n",
    "b, c = a\n",
    "print(b, c)\n"
   ]
  },
  {
   "cell_type": "markdown",
   "metadata": {},
   "source": [
    "またタプルの要素にアクセスするには，リストと同様に`[]`を用いることができる（インデックスの範囲は 0 から）．\n",
    "ただしタプル型はリストとは異なり，要素に値を代入することはできない．\n",
    "\n",
    "- https://docs.python.org/ja/3/tutorial/datastructures.html#tuples-and-sequences\n",
    "    > タプルはコンマで区切られたいくつかの値からなります。"
   ]
  },
  {
   "cell_type": "code",
   "execution_count": null,
   "metadata": {},
   "outputs": [],
   "source": [
    "a = 10, 20\n",
    "b = a[0]\n",
    "c = a[1]\n",
    "print(b, c)"
   ]
  },
  {
   "cell_type": "markdown",
   "metadata": {},
   "source": [
    "## 1.8. <a id='toc1_8_'></a>[制御文](#toc0_)\n",
    "\n",
    "他のプログラミング言語と同様に，python の制御文は if, for, while の 3 つである．\n",
    "なお以降の説明のループ処理に使うのはほとんどが for である．\n"
   ]
  },
  {
   "cell_type": "markdown",
   "metadata": {},
   "source": [
    "### 1.8.1. <a id='toc1_8_1_'></a>[比較演算子](#toc0_)\n",
    "\n",
    "- https://docs.python.org/ja/3/library/stdtypes.html#comparisons\n",
    "    > Python には 8 種の比較演算があります。\n",
    "\n",
    "まず演算子をいくつか紹介する．\n",
    "python でよく使われる比較演算子は以下の通りである．\n",
    "\n",
    "- `<=`：以下\n",
    "- `<`：小さい\n",
    "- `>=`：以上\n",
    "- `>`：大きい\n",
    "- `==`：等しい\n",
    "- `!=`：等しくない\n",
    "\n",
    "比較演算子の評価結果は真偽値で表され，真なら`True`，偽なら`False`である．\n"
   ]
  },
  {
   "cell_type": "code",
   "execution_count": null,
   "metadata": {},
   "outputs": [],
   "source": [
    "a = 10\n",
    "print(\"a == 10 ?\", a == 10)\n",
    "print(\"a >= 20 ?\", a >= 20)\n",
    "\n",
    "b = (a == 10)\n",
    "c = (a >= 20)\n",
    "print(b, c)\n",
    "\n",
    "b = True\n",
    "c = False\n",
    "print(b, c)\n"
   ]
  },
  {
   "cell_type": "markdown",
   "metadata": {},
   "source": [
    "### 1.8.2. <a id='toc1_8_2_'></a>[制御文：if](#toc0_)\n",
    "\n",
    "- https://docs.python.org/ja/3/tutorial/controlflow.html#if-statements\n",
    "    > おそらく最もおなじみの文型は if 文でしょう\n",
    "\n",
    "基本的な`if`文の構文は以下の通りである．\n",
    "\n",
    "```python\n",
    "if 条件:\n",
    "    # 条件が真の場合に実行するコード\n",
    "else:\n",
    "    # 条件が偽の場合に実行するコード\n",
    "```\n",
    "\n",
    "条件が`True`（真）であればインデントされた最初のブロック内の処理が実行され，\n",
    "`False`（偽）であれば else 節のブロック内の処理が実行される．\n",
    "なおブロックかどうかはインデント（空白 4 個）で区別される．\n",
    "このようなインデントは Python では必須である．\n",
    "\n",
    "なお`else`節は省略できる．\n",
    "\n",
    "```python\n",
    "if 条件:\n",
    "    # 条件が真の場合に実行するコード\n",
    "```\n",
    "\n",
    "複数の条件をチェックする場合には\n",
    "`else`と`if`を連続した`elif`節（else if の略）を用いる．\n",
    "\n",
    "```python\n",
    "if 条件1:\n",
    "    # 条件1が真の場合に実行するコード\n",
    "elif 条件2:\n",
    "    # 条件2が真の場合に実行するコード\n",
    "elif 条件3:\n",
    "    # 条件3が真の場合に実行するコード\n",
    "else:\n",
    "    # どの条件も偽の場合に実行するコード\n",
    "```\n",
    "\n",
    "以下はこれらの比較演算子を用いた`if`の例である．\n"
   ]
  },
  {
   "cell_type": "code",
   "execution_count": null,
   "metadata": {},
   "outputs": [],
   "source": [
    "a = 10\n",
    "\n",
    "if a > 5:\n",
    "    # if中はかならずインデントする（インデントとは，左側を空けること）\n",
    "    print(\"a is larger than 5\")\n",
    "    print(\"a is \", a)\n",
    "else:  # elseとifのインデントは同じにする\n",
    "    # elseも同様にインデントする\n",
    "    print(\"a is smaller than 5\")\n",
    "    print(\"a is \", a)\n",
    "\n",
    "# インデントが正しくないと，エラーになる\n"
   ]
  },
  {
   "cell_type": "code",
   "execution_count": null,
   "metadata": {},
   "outputs": [],
   "source": [
    "a = 8\n",
    "\n",
    "if a <= 10:\n",
    "    print(\"a is smaller than or equal to 10\")\n",
    "else:\n",
    "    print(\"a is larger than 10\")\n",
    "\n",
    "\n",
    "if a < 10:\n",
    "    print(\"a is smaller than 10\")\n",
    "elif a >= 10:\n",
    "    print(\"a is larger than or equal to 10\")\n",
    "elif a == 10:\n",
    "    print(\"a is equal to 10\")\n",
    "elif a != 10:\n",
    "    print(\"a is not equal to 10\")\n",
    "else:\n",
    "    print(\"a is a number\")\n"
   ]
  },
  {
   "cell_type": "markdown",
   "metadata": {},
   "source": [
    "#### 1.8.2.1. <a id='toc1_8_2_1_'></a>[論理演算子](#toc0_)\n",
    "\n",
    "- https://docs.python.org/ja/3/library/stdtypes.html#boolean-operations-and-or-not\n",
    "    > Python には 8 種の比較演算があります。\n",
    "\n",
    "論理演算子を使うと，比較演算を組み合わせて条件を記述できる．\n",
    "\n",
    "- `and`：両方成立するとき\n",
    "- `or`：どちらかが成立するとき\n",
    "- `not`：条件の否定\n"
   ]
  },
  {
   "cell_type": "code",
   "execution_count": null,
   "metadata": {},
   "outputs": [],
   "source": [
    "a = 0\n",
    "b = 10\n",
    "\n",
    "if a <= 10 and b >= 10:\n",
    "    print(\"a <= 10 and b >= 10\")\n",
    "\n",
    "if a < 10 or b > 12:\n",
    "    print(\"a < 10 or b > 12\")\n",
    "\n",
    "if not a >= 10:\n",
    "    print(\"not a >= 10\")\n"
   ]
  },
  {
   "cell_type": "markdown",
   "metadata": {},
   "source": [
    "なお他のプログラミング言語とは**異なり**，\n",
    "変数`a`の値が（例えば）$0 \\le a \\le 10$であるかどうかの条件を，\n",
    "python では`and`を用いずに以下のように書くこともできる．\n"
   ]
  },
  {
   "cell_type": "code",
   "execution_count": null,
   "metadata": {},
   "outputs": [],
   "source": [
    "a = 10\n",
    "\n",
    "if 0 <= a <= 10:\n",
    "    print(\"0 <= a <= 10\", a)\n",
    "\n",
    "if 0 <= a and a <= 10:\n",
    "    print(\"0 <= a <= 10\", a)\n",
    "\n",
    "a = 20\n",
    "\n",
    "if 0 <= a <= 10:\n",
    "    print(\"0 <= a <= 10\", a)\n",
    "\n",
    "if 0 <= a and a <= 10:\n",
    "    print(\"0 <= a <= 10\", a)\n"
   ]
  },
  {
   "cell_type": "markdown",
   "metadata": {},
   "source": [
    "#### 1.8.2.2. <a id='toc1_8_2_2_'></a>[in 演算子](#toc0_)\n",
    "\n",
    "ある要素がリストに含まれるかどうかを評価する演算子が`in`である．\n"
   ]
  },
  {
   "cell_type": "code",
   "execution_count": null,
   "metadata": {},
   "outputs": [],
   "source": [
    "a = [1, 2, 3, 4, 5]\n",
    "\n",
    "if 3 in a:\n",
    "    print(\"3 is in a\")\n",
    "\n",
    "if 6 not in a:\n",
    "    print(\"6 is NOT in a\")\n",
    "else:\n",
    "    print(\"6 is in a\")\n"
   ]
  },
  {
   "cell_type": "markdown",
   "metadata": {},
   "source": [
    "### 1.8.3. <a id='toc1_8_3_'></a>[制御文：for](#toc0_)\n",
    "\n",
    "- https://docs.python.org/ja/3/tutorial/controlflow.html#for-statements\n",
    "  > Python の for 文は、読者が C 言語や Pascal 言語で使いなれているかもしれない for 文とは少し違います。\n",
    "\n",
    "for 文の書式は以下の通りである．\n",
    "\n",
    "```python\n",
    "for 変数 in イテラブル:\n",
    "    繰り返し処理\n",
    "```\n",
    "\n",
    "イテラブルはリストや`range`などのオブジェクトであり，\n",
    "その**各要素**についてループが実行され，その要素は変数に格納される．\n",
    "\n",
    "- ループの内部ブロックはインデント（空白 4 個）で区別される．\n",
    "  - 内部ブロックに`if`や`for`があるなら，さらにインデントを追加する．\n",
    "- `break` 文を使うと for 文を途中で抜ける．\n",
    "- `continue` 文を使うと次のループへ移動する．\n",
    "\n",
    "- https://docs.python.org/ja/3/tutorial/controlflow.html#break-and-continue-statements-and-else-clauses-on-loops\n",
    "  > break 文は、その break 文を内包している最も内側にある for 文または while 文から抜け出すことができます。\n",
    "  > continue 文も C 言語から借りてきたもので、ループの次のイテレーションを実行します:\n",
    "\n",
    "\n",
    "#### 1.8.3.1. <a id='toc1_8_3_1_'></a>[リストを反復する例](#toc0_)\n",
    "\n",
    "以下はリストの総和の計算であるが，ただし負の値は除外し，100 以上であれば処理を中断する例である．\n",
    "（なお前述のとおり，`sum`は組み込み関数なので，変数名としては使わない）\n"
   ]
  },
  {
   "cell_type": "code",
   "execution_count": null,
   "metadata": {},
   "outputs": [],
   "source": [
    "numbers = [1, 2, -3, 4, 5, 100, -6, 7]\n",
    "total = 0\n",
    "\n",
    "for n in numbers:\n",
    "    print(n)\n",
    "    if n > 0:\n",
    "        total += n\n",
    "    if n >= 100:\n",
    "        break\n",
    "\n",
    "print(\"total:\", total)\n"
   ]
  },
  {
   "cell_type": "markdown",
   "metadata": {},
   "source": [
    "#### 1.8.3.2. <a id='toc1_8_3_2_'></a>[rangeを用いる例](#toc0_)\n",
    "\n",
    "上の例ではイテラブルはリストであるが，以下のように`range()`を使うこともできる．\n"
   ]
  },
  {
   "cell_type": "code",
   "execution_count": null,
   "metadata": {},
   "outputs": [],
   "source": [
    "total = 0\n",
    "\n",
    "for n in range(-10, 10, 2):\n",
    "    print(n)\n",
    "    if n > 0:\n",
    "        total += n\n",
    "    if n >= 100:\n",
    "        break\n",
    "\n",
    "print(\"total:\", total)\n"
   ]
  },
  {
   "cell_type": "markdown",
   "metadata": {},
   "source": [
    "#### 1.8.3.3. <a id='toc1_8_3_3_'></a>[rangeとlenの組み合わせ](#toc0_)\n",
    "\n",
    "上の例のように python ではリストの要素を直接`for`で扱えるため，\n",
    "このようにインデックスを使うことはあまり多くないが，\n",
    "それでも以下のような\n",
    "\n",
    "```python\n",
    "    for i in range(len(リスト)):\n",
    "```\n",
    "\n",
    "という書き方はよく見かける．\n",
    "\n",
    "以下は，インデックス変数`i`を用いてリストの要素にアクセスする例である．\n"
   ]
  },
  {
   "cell_type": "code",
   "execution_count": null,
   "metadata": {},
   "outputs": [],
   "source": [
    "numbers = [1, 2, -3, 4, 5, 100, -6, 7]\n",
    "used_index = []\n",
    "total = 0\n",
    "\n",
    "for i in range(len(numbers)):\n",
    "    if numbers[i] > 0:\n",
    "        total += numbers[i]\n",
    "        used_index.append(i)\n",
    "    if numbers[i] >= 100:\n",
    "        break\n",
    "\n",
    "print(\"total:\", total)\n",
    "print(\"used_index:\", used_index)\n",
    "\n",
    "for j in used_index:\n",
    "    print(\"numbers[\", j, \"] = \", numbers[j])\n"
   ]
  },
  {
   "cell_type": "markdown",
   "metadata": {},
   "source": [
    "#### 1.8.3.4. <a id='toc1_8_3_4_'></a>[enumerateを用いる例](#toc0_)\n",
    "\n",
    "上のような`range`と`len`を組み合わせる以外にも，`enumerate()`を用いる方法があり，\n",
    "こちらの方がよく使われる．\n",
    "\n",
    "for 文に与えるイテラブルを，`enumerate(イテラブル)`に変更し，\n",
    "さらに for 文の変数を 2 つにする（これはタプルである）．\n",
    "\n",
    "```python\n",
    "    for i, n in enumerate(mylist):\n",
    "        # do something here\n",
    "```\n",
    "\n",
    "1 つ目の変数`i`はインデックスが，2 つ目の変数`n`にはリストの要素が入る．\n",
    "これは以下とほぼ等価である．\n",
    "\n",
    "```python\n",
    "    for i in range(len(mylist)):\n",
    "        n = mylist[i]\n",
    "        # do something here\n",
    "```\n",
    "\n",
    "- https://docs.python.org/ja/3/library/functions.html#enumerate\n",
    "    > (デフォルトでは 0 となる start からの) カウントと、 iterable 上のイテレーションによって得られた値を含むタプルを返します。\n",
    "\n",
    "以下は上の例を`enumerate`を用いて書いた例である．\n"
   ]
  },
  {
   "cell_type": "code",
   "execution_count": null,
   "metadata": {},
   "outputs": [],
   "source": [
    "numbers = [1, 2, -3, 4, 5, 100, -6, 7]\n",
    "used_index = []\n",
    "total = 0\n",
    "\n",
    "for i, n in enumerate(numbers):\n",
    "    if n > 0:\n",
    "        total += n\n",
    "        used_index.append(i)\n",
    "    if n >= 100:\n",
    "        break\n",
    "\n",
    "print(\"total:\", total)\n",
    "print(\"used_index:\", used_index)\n",
    "\n",
    "for j in used_index:\n",
    "    print(\"numbers[\", j, \"] = \", numbers[j])\n"
   ]
  },
  {
   "cell_type": "markdown",
   "metadata": {},
   "source": [
    "### 1.8.4. <a id='toc1_8_4_'></a>[制御文：while](#toc0_)\n",
    "\n",
    "- https://docs.python.org/ja/3/reference/compound_stmts.html#while\n",
    "    > while 文は、式の値が真である間、実行を繰り返すために使われます:\n",
    "\n",
    "python でループを書く方法は`for`と`while`があるが，\n",
    "python では`for`が主流であり，\n",
    "以降の説明のほとんどは`for`であるため，\n",
    "ここでの説明は簡単に留める．\n",
    "\n",
    "while 文の書式は以下の通りである．\n",
    "\n",
    "```python\n",
    "while 条件:\n",
    "    繰り返し処理\n",
    "```\n",
    "\n",
    "`for`文と同様に，内部ブロックは空白 4 個のインデントで区別され，\n",
    "また`break`文と`continue`文が利用できる．\n",
    "\n",
    "以下はリストの総和の計算であるが，ただし負の値は除外し，100 以上であれば処理を中断する例である．\n"
   ]
  },
  {
   "cell_type": "code",
   "execution_count": null,
   "metadata": {},
   "outputs": [],
   "source": [
    "numbers = [1, 2, -3, 4, 5, 100, -6, 7]\n",
    "total = 0\n",
    "\n",
    "i = 0\n",
    "while True:\n",
    "    n = numbers[i]\n",
    "    if n > 0:\n",
    "        total += n\n",
    "    if n >= 100:\n",
    "        break\n",
    "    i += 1\n",
    "\n",
    "print(\"total:\", total)\n"
   ]
  },
  {
   "cell_type": "markdown",
   "metadata": {},
   "source": [
    "### 1.8.5. <a id='toc1_8_5_'></a>[内包表記](#toc0_)\n",
    "\n",
    "Python においてリストを用いた for ループはよく用いるが，\n",
    "それを簡潔に記述するため「内包表記（comprehension）」と呼ばれる Python 特有の方法がある．\n",
    "\n",
    "これはイテラブル（リストや範囲など）内の要素を順番に処理することで新しいリストを 1 行で作成する方法であり，\n",
    "簡潔で読みやすいコードを書くことができ，また for ループよりも高速である場合が多い．\n",
    "\n",
    "- https://docs.python.org/ja/3/glossary.html#term-list-comprehension\n",
    "    > (リスト内包表記) シーケンス中の全てあるいは一部の要素を処理して、その結果からなるリストを返す、コンパクトな方法です。\n",
    "\n",
    "以下が内包表記の基本的な構文である．\n",
    "イテラブル（リストなど）の要素を「変数」に代入し，「式」で処理して，\n",
    "新しいリストを作成する．\n",
    "\n",
    "```python\n",
    "    new_list = [式 for 変数 in イテラブルオブジェクト]\n",
    "```\n"
   ]
  },
  {
   "cell_type": "markdown",
   "metadata": {},
   "source": [
    "以下は，分散を「2 乗の平均ー平均の 2 乗」で計算する例を for 文を用いて計算する例である．\n",
    "平均の 2 乗は，組み込み関数`sum()`を使い平均を計算した後 2 乗すればよい．\n",
    "しかし 2 乗の平均は，まずリストの要素を 2 乗する必要がある．\n"
   ]
  },
  {
   "cell_type": "code",
   "execution_count": null,
   "metadata": {},
   "outputs": [],
   "source": [
    "from math import sqrt  # sqrt()を使うために必要なモジュール\n",
    "\n",
    "value_list = [22, 4, 11, 56, 33]\n",
    "n = len(value_list)\n",
    "average = sum(value_list) / n\n",
    "\n",
    "sum_squared = 0.0\n",
    "for value in value_list:\n",
    "    sum_squared += value**2  # 2乗の計算\n",
    "sum_squared /= n\n",
    "\n",
    "variance = sum_squared - average**2\n",
    "std = sqrt(variance)\n",
    "\n",
    "print(\"mean +/- std =  \", average, \"+/-\", std)\n"
   ]
  },
  {
   "cell_type": "markdown",
   "metadata": {},
   "source": [
    "内包表記を使うと，リストの要素を 2 乗したリストを，以下のように 1 行で作成できる．そのリストの合計を`sum()`で計算している．\n"
   ]
  },
  {
   "cell_type": "code",
   "execution_count": null,
   "metadata": {},
   "outputs": [],
   "source": [
    "from math import sqrt\n",
    "\n",
    "value_list = [22, 4, 11, 56, 33]\n",
    "n = len(value_list)\n",
    "average = sum(value_list) / n\n",
    "\n",
    "value2_list = [value**2 for value in value_list]\n",
    "sum_squared = sum(value2_list) / n\n",
    "\n",
    "variance = sum_squared - average**2\n",
    "std = sqrt(variance)\n",
    "\n",
    "print(\"mean +/- std =  \", average, \"+/-\", std)\n"
   ]
  },
  {
   "cell_type": "markdown",
   "metadata": {},
   "source": [
    "さらに`sum()`の引数として内包表記を用いると，以下のように簡潔に書くことができる．\n"
   ]
  },
  {
   "cell_type": "code",
   "execution_count": null,
   "metadata": {},
   "outputs": [],
   "source": [
    "from math import sqrt\n",
    "\n",
    "value_list = [22, 4, 11, 56, 33]\n",
    "n = len(value_list)\n",
    "\n",
    "average = sum(value_list) / n\n",
    "sum_squared = sum([value**2 for value in value_list]) / n\n",
    "\n",
    "variance = sum_squared - average**2\n",
    "std = sqrt(variance)\n",
    "\n",
    "print(\"mean +/- std =  \", average, \"+/-\", std)\n"
   ]
  },
  {
   "cell_type": "markdown",
   "metadata": {},
   "source": [
    "このような内包表記はpythonでは高速に計算されるため，頻繁に用いられる．"
   ]
  },
  {
   "cell_type": "markdown",
   "metadata": {},
   "source": [
    "## 1.9. <a id='toc1_9_'></a>[関数](#toc0_)\n",
    "\n",
    "- https://docs.python.org/ja/3/tutorial/controlflow.html#defining-functions\n",
    "    > def は関数の 定義 (definition) を導くキーワードです。 def の後には、関数名と仮引数を丸括弧で囲んだリストを続けなければなりません。関数の実体を構成する実行文は次の行から始め、インデントされていなければなりません。\n",
    "\n",
    "python での関数定義は次のように，`def`で始めて関数名を指定する．\n",
    "\n",
    "```python\n",
    "def 関数名(引数1, 引数2, ...):\n",
    "    # 関数の処理\n",
    "    return 返り値\n",
    "```\n",
    "\n",
    "引数が多い場合には以下のようにインデントすることが多い．\n",
    "\n",
    "```python\n",
    "def 関数名(\n",
    "        引数1,\n",
    "        引数2,\n",
    "        ...\n",
    "    ):\n",
    "    # 関数の処理\n",
    "    return 返り値\n",
    "```\n",
    "\n",
    "関数の内部ブロックはインデント（空白 4 個）で区別される．\n",
    "返り値は`return`文に指定する．\n",
    "なお返り値は 1 つだけでなく複数返すことができる．\n",
    "その場合にはコンマで区切る（実際にはこの返り値はタプル型になる）．\n",
    "\n",
    "なお notebook では，関数を定義するセルを実行した後でなければ，関数を呼び出せないことに注意．\n",
    "また関数を書き変えた後にそのセルを実行し直さないと，他のセルでは古い内容の関数を使ってしまうことにも注意．\n",
    "\n",
    "### 1.9.1. <a id='toc1_9_1_'></a>[返り値がタプルの例](#toc0_)\n",
    "\n",
    "以下は 2 次方程式$a x^2 + b x + c = 0$の解の公式を関数で作成する例である．\n",
    "この例では，判別式が負の場合には実数の範囲では計算できないとして，エラーのかわりに`None`型を返している．\n"
   ]
  },
  {
   "cell_type": "code",
   "execution_count": null,
   "metadata": {},
   "outputs": [],
   "source": [
    "from math import sqrt\n",
    "\n",
    "\n",
    "def solve_quadratic_equation(a, b, c):\n",
    "\n",
    "    discriminant = b**2 - 4 * a * c\n",
    "    if discriminant >= 0:\n",
    "        discriminant = sqrt(discriminant)\n",
    "        x1 = (-b + discriminant) / (2 * a)\n",
    "        x2 = (-b - discriminant) / (2 * a)\n",
    "        return x1, x2\n",
    "    else:\n",
    "        return None, None\n"
   ]
  },
  {
   "cell_type": "code",
   "execution_count": null,
   "metadata": {},
   "outputs": [],
   "source": [
    "x1, x2 = solve_quadratic_equation(10, 20, 5)\n",
    "print(x1, x2)\n",
    "\n",
    "x1, x2 = solve_quadratic_equation(10, 10, 4)\n",
    "print(x1, x2)\n"
   ]
  },
  {
   "cell_type": "markdown",
   "metadata": {},
   "source": [
    "この関数の返り値は 2 つあり，タプル型の変数 1 つで受け取ることができる．\n"
   ]
  },
  {
   "cell_type": "code",
   "execution_count": null,
   "metadata": {},
   "outputs": [],
   "source": [
    "x = solve_quadratic_equation(10, 20, 4)\n",
    "\n",
    "print(x)\n",
    "print(type(x))\n",
    "\n",
    "print(x[0], x[1])\n",
    "print(type(x[0]), type(x[1]))\n"
   ]
  },
  {
   "cell_type": "markdown",
   "metadata": {},
   "source": [
    "### 1.9.2. <a id='toc1_9_2_'></a>[返り値がリストの例](#toc0_)\n",
    "\n",
    "なお，以下のようにリストを返すこともできる．この場合には返り値は「リスト」という 1 つだけである．\n",
    "返り値を受け取った変数もリストであり，これはタプルではない．\n"
   ]
  },
  {
   "cell_type": "code",
   "execution_count": null,
   "metadata": {},
   "outputs": [],
   "source": [
    "from math import sqrt\n",
    "\n",
    "\n",
    "def solve_quadratic_equation(a, b, c):\n",
    "\n",
    "    discriminant = b**2 - 4 * a * c\n",
    "    if discriminant >= 0:\n",
    "        discriminant = sqrt(discriminant)\n",
    "        x1 = (-b + discriminant) / (2 * a)\n",
    "        x2 = (-b - discriminant) / (2 * a)\n",
    "        return [x1, x2]\n",
    "    else:\n",
    "        return [None, None]\n"
   ]
  },
  {
   "cell_type": "code",
   "execution_count": null,
   "metadata": {},
   "outputs": [],
   "source": [
    "x = solve_quadratic_equation(10, 20, 4)\n",
    "\n",
    "print(x)\n",
    "print(type(x))\n",
    "\n",
    "print(x[0], x[1])\n",
    "print(type(x[0]), type(x[1]))\n"
   ]
  },
  {
   "cell_type": "markdown",
   "metadata": {},
   "source": [
    "### 1.9.3. <a id='toc1_9_3_'></a>[キーワード引数](#toc0_)\n",
    "\n",
    "- https://docs.python.org/ja/3/tutorial/controlflow.html#keyword-arguments\n",
    "  > 関数を kwarg=value という形式の キーワード引数 を使って呼び出すこともできます。\n",
    "- https://docs.python.org/ja/3/tutorial/controlflow.html#default-argument-values\n",
    "  > もっとも便利なのは、一つ以上の引数に対してデフォルトの値を指定する形式です。この形式を使うと、定義されている引数より少ない個数の引数で呼び出せる関数を作成します\n",
    "\n",
    "関数の定義において，デフォルトの引数をキーワード引数として設定することができる．\n",
    "そのためには，関数の引数をキーワードと値のペアとして渡す．\n",
    "キーワード引数以外の引数の後であれば，キーワード引数は関数に与える順序は任意である．\n",
    "\n",
    "```python\n",
    "    def 関数名(引数1, 引数2, ..., キーワード引数1=デフォルト値1, キーワード引数2=デフォルト値2, ...):\n",
    "        # 関数の処理\n",
    "        return 返り値\n",
    "```\n",
    "\n",
    "以下の例では，\n",
    "\n",
    "- キーワード引数`use_real=True`の場合には，\n",
    "  - 判別式が負の場合にはエラー値`error_value`を返し，\n",
    "- そうでない場合には，\n",
    "  - 判別式が正の場合には実数の`sqrt`を利用し，\n",
    "  - 判別式が負の場合には複素数の`cmath.sqrt`を利用する．\n",
    "    - https://docs.python.org/ja/3/library/cmath.html\n"
   ]
  },
  {
   "cell_type": "code",
   "execution_count": null,
   "metadata": {},
   "outputs": [],
   "source": [
    "from math import sqrt\n",
    "import cmath  # 複素数を扱うsqrtを用いる\n",
    "\n",
    "\n",
    "def solve_quadratic_equation(\n",
    "        a, b, c, use_real=True, error_value=None\n",
    "    ):\n",
    "\n",
    "    discriminant = b**2 - 4 * a * c\n",
    "\n",
    "    if use_real and discriminant < 0:\n",
    "        return error_value, error_value\n",
    "\n",
    "    if discriminant > 0:\n",
    "        discriminant = sqrt(discriminant)\n",
    "    else:\n",
    "        discriminant = cmath.sqrt(discriminant)\n",
    "\n",
    "    x1 = (-b + discriminant) / (2 * a)\n",
    "    x2 = (-b - discriminant) / (2 * a)\n",
    "    return x1, x2\n"
   ]
  },
  {
   "cell_type": "code",
   "execution_count": null,
   "metadata": {},
   "outputs": [],
   "source": [
    "print(solve_quadratic_equation(10, 20, 4))\n",
    "print(solve_quadratic_equation(10, 10, 4))\n",
    "print(solve_quadratic_equation(\n",
    "    10, 10, 4, error_value=-1\n",
    "    ))\n",
    "print(solve_quadratic_equation(\n",
    "    10, 10, 4, error_value=-1, use_real=True\n",
    "    ))\n",
    "print(solve_quadratic_equation(\n",
    "    10, 10, 4, use_real=False\n",
    "    ))\n"
   ]
  },
  {
   "cell_type": "markdown",
   "metadata": {},
   "source": [
    "なお python において複素数は`実部+/-虚部j`で表現され，虚数単位は`j`であり，定数としては`-10.1+3.2j`などと書く．\n",
    "\n",
    "- https://docs.python.org/ja/3/library/functions.html#complex\n",
    "    > 単一の文字列や数値を複素数に変換する、あるいは実部と虚部から複素数を作成します。"
   ]
  },
  {
   "cell_type": "markdown",
   "metadata": {},
   "source": [
    "### 1.9.4. <a id='toc1_9_4_'></a>[assert 文](#toc0_)\n",
    "\n",
    "- https://docs.python.org/ja/3/reference/simple_stmts.html#the-assert-statement\n",
    "    > assert 文は、プログラム内にデバッグ用アサーション (debugging assertion) を仕掛けるための便利な方法です\n",
    "\n",
    "python において，\n",
    "簡便なデバッグやテストの目的で条件が真であることを検証するために使用されるのが assert 文である．\n",
    "\n",
    "```python\n",
    "    assert 条件式, エラーメッセージ\n",
    "```\n",
    "\n",
    "条件が満たされない場合には例外が発生し，エラーメッセージを表示して，処理が中断する．\n",
    "なお一般的にはエラーチェックのためには適切なエラーハンドリングを行うべきであり，\n",
    "あくまで assert 文は簡単にチェックするためのものである\n"
   ]
  },
  {
   "cell_type": "code",
   "execution_count": null,
   "metadata": {},
   "outputs": [],
   "source": [
    "from math import sqrt\n",
    "\n",
    "def solve_quadratic_equation(a, b, c):\n",
    "\n",
    "    discriminant = b**2 - 4 * a * c\n",
    "    assert discriminant >= 0, \"Discriminant D should be non-negative\"\n",
    "\n",
    "    discriminant = sqrt(discriminant)\n",
    "    x1 = (-b + discriminant) / (2 * a)\n",
    "    x2 = (-b - discriminant) / (2 * a)\n",
    "    return x1, x2\n"
   ]
  },
  {
   "cell_type": "code",
   "execution_count": null,
   "metadata": {},
   "outputs": [],
   "source": [
    "print(solve_quadratic_equation(10, 20, 4))\n",
    "print(solve_quadratic_equation(10, 10, 4))\n"
   ]
  },
  {
   "cell_type": "markdown",
   "metadata": {},
   "source": [
    "### 1.9.5. <a id='toc1_9_5_'></a>[型ヒント，関数アノテーション](#toc0_)\n",
    "\n",
    "- https://docs.python.org/ja/3/library/typing.html\n",
    "    > This module provides runtime support for type hints.\n",
    "- https://docs.python.org/ja/3/tutorial/controlflow.html#function-annotations\n",
    "    > 関数アノテーション はユーザ定義関数で使用される型についての完全にオプションなメタデータ情報です\n",
    "\n",
    "python は変数の型を気にせず使えることが利点である一方で，\n",
    "関数を作成し使う場合には，\n",
    "引数に与える変数の型が，関数本体が想定していないものも渡すことができてしまう．\n"
   ]
  },
  {
   "cell_type": "code",
   "execution_count": null,
   "metadata": {},
   "outputs": [],
   "source": [
    "solve_quadratic_equation(\"this\", \"is\", \"wrong\")  # this is wrong\n"
   ]
  },
  {
   "cell_type": "code",
   "execution_count": null,
   "metadata": {},
   "outputs": [],
   "source": [
    "solve_quadratic_equation([10, 1], [22, 4], 4)  # this is wrong\n"
   ]
  },
  {
   "cell_type": "markdown",
   "metadata": {},
   "source": [
    "上記は極端な例であるが，関数の引数と返り値の型が何であるかを指定したほうが，\n",
    "予期しない型の使用によるエラーを防ぐことができる．\n",
    "\n",
    "これが python における型ヒント（type hint）や関数アノテーションと呼ばれるものであり，\n",
    "関数の引数と返り値の型情報を示すための仕組みである．\n",
    "以下のように，関数定義のときに引数と返り値の型を`:`の後に書く．\n",
    "\n",
    "```python\n",
    "    def 関数名(\n",
    "        引数1: 型,\n",
    "        引数2: 型,\n",
    "        ...,\n",
    "        キーワード引数1: 型=デフォルト値1,\n",
    "        キーワード引数2: 型=デフォルト値2,\n",
    "        ...\n",
    "    ) -> 型:\n",
    "        # 関数の処理\n",
    "        return 返り値\n",
    "```\n",
    "\n",
    "型は`float`や`int`などである．\n",
    "また float の変数 2 つからなるタプルは`Tuple[float, float]`と書く．\n",
    "要素が float のリストは`List[float]`と書く．\n",
    "`float`と`int`のどちらでもよい場合には`float | int`と書く．\n",
    "`return`がなく返り値がない場合には，返り値の型は`None`とする．\n",
    "\n",
    "ただしあくまで関数を使う時の参考情報（ヒント）であって，実際の実行時には無視される．\n"
   ]
  },
  {
   "cell_type": "code",
   "execution_count": null,
   "metadata": {},
   "outputs": [],
   "source": [
    "from math import sqrt\n",
    "from typing import Tuple, List\n",
    "\n",
    "\n",
    "def solve_quadratic_equation(\n",
    "    a: float,\n",
    "    b: float,\n",
    "    c: float\n",
    ") -> Tuple[float, float]:\n",
    "\n",
    "    discriminant = b**2 - 4 * a * c\n",
    "    assert discriminant >= 0, \"discriminant should be non-negative\"\n",
    "\n",
    "    discriminant = sqrt(discriminant)\n",
    "    x1 = (-b + discriminant) / (2 * a)\n",
    "    x2 = (-b - discriminant) / (2 * a)\n",
    "    return x1, x2"
   ]
  },
  {
   "cell_type": "markdown",
   "metadata": {},
   "source": [
    "### 1.9.6. <a id='toc1_9_6_'></a>[Docstring](#toc0_)\n",
    "\n",
    "- https://docs.python.org/ja/3/glossary.html#term-docstring\n",
    "    > A string literal which appears as the first expression in a class, function or module.\n",
    "\n",
    "関数使用時のエラーを防ぐもう 1 つの手段が Docstring である．\n",
    "これは関数やクラスを説明するコメント文であり，\n",
    "関数定義の直後に複数行コメントとして書く．\n",
    "notebook や統合開発環境ではポップアップで，\n",
    "また`help()`実行時に，\n",
    "この docstring が関数のヘルプとして利用される．\n"
   ]
  },
  {
   "cell_type": "code",
   "execution_count": null,
   "metadata": {},
   "outputs": [],
   "source": [
    "from math import sqrt\n",
    "from typing import Tuple\n",
    "\n",
    "def solve_quadratic_equation(\n",
    "    a: float,\n",
    "    b: float,\n",
    "    c: float\n",
    ") -> Tuple[float, float]:\n",
    "    \"\"\"solve a quadtratic equation of the form\n",
    "       a x^2 + b x + c = 0\n",
    "\n",
    "    Args:\n",
    "        a (float): coefficient a of x^2\n",
    "        b (float): coefficient b of x\n",
    "        c (float): bias c\n",
    "\n",
    "    Returns:\n",
    "        Tuple[float, float]: two real solutions\n",
    "    \"\"\"\n",
    "\n",
    "    discriminant = b**2 - 4 * a * c\n",
    "    assert discriminant >= 0, \"discriminant should be non-negative\"\n",
    "\n",
    "    discriminant = sqrt(discriminant)\n",
    "    x1 = (-b + discriminant) / (2 * a)\n",
    "    x2 = (-b - discriminant) / (2 * a)\n",
    "    return x1, x2\n"
   ]
  },
  {
   "cell_type": "code",
   "execution_count": null,
   "metadata": {},
   "outputs": [],
   "source": [
    "help(solve_quadratic_equation)\n"
   ]
  },
  {
   "cell_type": "markdown",
   "metadata": {},
   "source": [
    "### 1.9.7. <a id='toc1_9_7_'></a>[値渡しと参照渡し](#toc0_)\n",
    "\n",
    "Python の関数定義における引数の扱いは厳密にはややこしいが（オブジェクトの参照が渡される），以下のように考えて良い．\n",
    "\n",
    "- 関数の呼び出し時，引数は「値渡し」される（とみなす）\n",
    "\n",
    "値渡しでは，引数として渡された変数に保持されている値のみがコピーされて関数内に渡されるため，関数内で値を変更しても，呼び出し元の変数には反映されない．\n",
    "\n",
    "このことは，2 つの変数の値を入れ替える`swap`関数の作成を考えるとわかりやすい．このプログラムを実行すると，`swap`関数の呼び出し前後で変数`a`, `b`の値が変わってないことが確認できる．\n",
    "\n",
    "- [値の変化を可視化するならこのページが便利である](https://pythontutor.com/visualize.html#code=def%20swap%28a,%20b%29%3A%0A%20%20%20%20temp%20%3D%20a%0A%20%20%20%20a%20%3D%20b%0A%20%20%20%20b%20%3D%20temp%0A%20%20%20%20print%28%22in%20swap%3A%20a%20%3D%20%7B%7D,%20b%20%3D%20%7B%7D%22.format%28a,%20b%29%29%0A%20%20%20%20%0A%0Aa%20%3D%201%0Ab%20%3D%202%0A%0Aprint%28%22before%20swap%3A%20a%20%3D%20%7B%7D,%20b%20%3D%20%7B%7D%22.format%28a,%20b%29%29%0A%0Aswap%28a,%20b%29%0A%0Aprint%28%22after%20swap%3A%20a%20%3D%20%7B%7D,%20b%20%3D%20%7B%7D%22.format%28a,%20b%29%29&cumulative=false&curInstr=0&heapPrimitives=nevernest&mode=display&origin=opt-frontend.js&py=3&rawInputLstJSON=%5B%5D&textReferences=false)．（next と prev のボタンで実行する行を移動してみると，右側の変数値が変化する様子がわかる）\n"
   ]
  },
  {
   "cell_type": "code",
   "execution_count": null,
   "metadata": {},
   "outputs": [],
   "source": [
    "def swap(a: int, b: int) -> None:\n",
    "    \"\"\"\n",
    "    関数内でaとbの値を入れ替える\n",
    "    \"\"\"\n",
    "\n",
    "    temp = a\n",
    "    a = b\n",
    "    b = temp\n",
    "    print(\"in swap: a =\", a, \"b =\", b)\n"
   ]
  },
  {
   "cell_type": "code",
   "execution_count": null,
   "metadata": {},
   "outputs": [],
   "source": [
    "# swap関数の呼び出し前後で変数a, bの値を確認\n",
    "\n",
    "a = 1\n",
    "b = 2\n",
    "\n",
    "print(f\"before swap: a =\", a, \"b =\", b)\n",
    "\n",
    "swap(a, b)\n",
    "\n",
    "print(f\"after swap: a =\", a, \"b =\", b)  # 値は変わっていない\n"
   ]
  },
  {
   "cell_type": "markdown",
   "metadata": {},
   "source": [
    "python の関数は複数の値を（タプルとして）返すことができる．\n",
    "そのため，引数に渡す変数の値を関数内で変更するのではなく，\n",
    "以下のように関数の返り値を複数の変数で（タプルとして）返すことができる．\n"
   ]
  },
  {
   "cell_type": "code",
   "execution_count": null,
   "metadata": {},
   "outputs": [],
   "source": [
    "def swap(a: int, b: int) -> Tuple[int, int]:\n",
    "    \"\"\"\n",
    "    aとbを入れ替えて返す\n",
    "    \"\"\"\n",
    "    return b, a\n",
    "\n",
    "a = 1\n",
    "b = 2\n",
    "\n",
    "print(f\"before swap: a =\", a, \"b =\", b)\n",
    "\n",
    "a, b = swap(a, b)\n",
    "\n",
    "print(f\"after swap: a =\", a, \"b =\", b)\n"
   ]
  },
  {
   "cell_type": "markdown",
   "metadata": {},
   "source": [
    "Python では代入文の両辺にタプルを使うことができるため，これをもっと簡略化して関数を使わずに以下のようにできる．\n"
   ]
  },
  {
   "cell_type": "code",
   "execution_count": null,
   "metadata": {},
   "outputs": [],
   "source": [
    "a, b = 1, 2\n",
    "\n",
    "print(f\"before swap: a =\", a, \"b =\", b)\n",
    "\n",
    "a, b = b, a\n",
    "\n",
    "print(f\"after swap: a =\", a, \"b =\", b)\n"
   ]
  },
  {
   "cell_type": "markdown",
   "metadata": {},
   "source": [
    "これを利用すると，同様にリストも swap できる．\n"
   ]
  },
  {
   "cell_type": "code",
   "execution_count": null,
   "metadata": {},
   "outputs": [],
   "source": [
    "a = [1, 2, 3]\n",
    "b = [4, 5, 6]\n",
    "\n",
    "print(a, b)\n",
    "\n",
    "a, b = b, a\n",
    "\n",
    "print(a, b)"
   ]
  },
  {
   "cell_type": "code",
   "execution_count": null,
   "metadata": {},
   "outputs": [],
   "source": [
    "a = [[1, 2, 3], [4, 5, 6]]\n",
    "\n",
    "print(a)\n",
    "\n",
    "a[0], a[1] = a[1], a[0]\n",
    "\n",
    "print(a)"
   ]
  },
  {
   "cell_type": "markdown",
   "metadata": {},
   "source": [
    "リストを関数へ渡した場合の注意点は，リストの中身を変更することができてしまうことである．\n",
    "\n",
    "これは，実際には変数への参照が関数へ渡されるためである．（「参照」とは変数の実体ではなく，実体のありかを指し示すもの）\n",
    "\n",
    "- [これも変数値の変化を可視化するとわかる](https://pythontutor.com/visualize.html#code=def%20put_zero%28a,%20b,%20c%29%3A%0A%20%20%20%20a%5B0%5D%20%3D%200%0A%20%20%20%20b%5B0%5D%20%3D%200%0A%20%20%20%20c%20%3D%200%0A%20%20%20%20print%28f%22in%20put_zero%3A%20a%20%3D%20%7Ba%7D,%20b%20%3D%20%7Bb%7D,%20c%20%3D%20%7Bc%7D%22%29%0A%0Aa%20%3D%20%5B1,%202,%203%5D%0Ab%20%3D%20%5B4,%205,%206%5D%0Ac%20%3D%207%0A%0Aprint%28f%22before%20swap%3A%20a%20%3D%20%7Ba%7D,%20b%20%3D%20%7Bb%7D,%20c%20%3D%20%7Bc%7D%22%29%0A%0Aput_zero%28a,%20b,%20c%29%0A%0Aprint%28f%22after%20put_zero%3A%20a%20%3D%20%7Ba%7D,%20b%20%3D%20%7Bb%7D,%20c%20%3D%20%7Bc%7D%22%29&cumulative=false&curInstr=0&heapPrimitives=nevernest&mode=display&origin=opt-frontend.js&py=3&rawInputLstJSON=%5B%5D&textReferences=false)\n"
   ]
  },
  {
   "cell_type": "code",
   "execution_count": null,
   "metadata": {},
   "outputs": [],
   "source": [
    "from typing import List\n",
    "\n",
    "def put_zero(a: List[int], b: List[int], c: int) -> None:\n",
    "    \"\"\"\n",
    "    関数内でaとbとcに0を代入する\n",
    "    \"\"\"\n",
    "\n",
    "    a[0] = 0\n",
    "    b[0] = 0\n",
    "    c = 0\n",
    "    print(f\"in put_zero: a =\", a, \"b =\", b, \"c =\", c)\n"
   ]
  },
  {
   "cell_type": "code",
   "execution_count": null,
   "metadata": {},
   "outputs": [],
   "source": [
    "# put_zero関数の呼び出し前後で変数a, b, cの値を確認\n",
    "\n",
    "a = [1, 2, 3]\n",
    "b = [4, 5, 6]\n",
    "c = 7\n",
    "\n",
    "print(f\"before put_zero: a =\", a, \"b =\", b, \"c =\", c)\n",
    "\n",
    "put_zero(a, b, c)\n",
    "\n",
    "print(f\"after put_zero: a =\", a, \"b =\", b, \"c =\", c)\n"
   ]
  },
  {
   "cell_type": "markdown",
   "metadata": {},
   "source": [
    "以下のように`copy()`を用いると，オブジェクトのコピーが生成され，それが関数へ渡されるため，関数内で中身を変更したとしても，呼び出し側の変数には影響を与えないようにできる．\n",
    "\n",
    "- [可視化した様子はこちら](https://pythontutor.com/visualize.html#code=def%20put_zero%28a,%20b,%20c%29%3A%0A%20%20%20%20a%5B0%5D%20%3D%200%0A%20%20%20%20b%5B0%5D%20%3D%200%0A%20%20%20%20c%20%3D%200%0A%20%20%20%20print%28f%22in%20put_zero%3A%20a%20%3D%20%7Ba%7D,%20b%20%3D%20%7Bb%7D,%20c%20%3D%20%7Bc%7D%22%29%0A%0Aa%20%3D%20%5B1,%202,%203%5D%0Ab%20%3D%20%5B4,%205,%206%5D%0Ac%20%3D%207%0A%0Aprint%28f%22before%20swap%3A%20a%20%3D%20%7Ba%7D,%20b%20%3D%20%7Bb%7D,%20c%20%3D%20%7Bc%7D%22%29%0A%0Aput_zero%28a.copy%28%29,%20b.copy%28%29,%20c%29%0A%0Aprint%28f%22after%20put_zero%3A%20a%20%3D%20%7Ba%7D,%20b%20%3D%20%7Bb%7D,%20c%20%3D%20%7Bc%7D%22%29&cumulative=false&curInstr=0&heapPrimitives=nevernest&mode=display&origin=opt-frontend.js&py=3&rawInputLstJSON=%5B%5D&textReferences=false)\n"
   ]
  },
  {
   "cell_type": "code",
   "execution_count": null,
   "metadata": {},
   "outputs": [],
   "source": [
    "# swap関数の呼び出し前後で変数a, b, cの値を確認\n",
    "\n",
    "a = [1, 2, 3]\n",
    "b = [4, 5, 6]\n",
    "c = 7\n",
    "\n",
    "print(f\"before swap: a =\", a, \"b =\", b, \"c =\", c)\n",
    "\n",
    "put_zero(a.copy(), b.copy(), c)\n",
    "\n",
    "print(f\"after put_zero: a =\", a, \"b =\", b, \"c =\", c)  # 値は変わっていない\n"
   ]
  },
  {
   "cell_type": "markdown",
   "metadata": {},
   "source": [
    "ただし shallow copy であるため，多重リスト（リストのリストなど）はコピーされない．その場合には[copy.deepcopy()](https://docs.python.org/ja/3/library/copy.html#copy.deepcopy)を利用する（ここでは説明しない）\n"
   ]
  },
  {
   "cell_type": "markdown",
   "metadata": {},
   "source": [
    "## 1.10. <a id='toc1_10_'></a>[print の出力フォーマット](#toc0_)\n",
    "\n",
    "値の表示には`print()`を用いるが，出力指定子を用いることで数値の表示を細かく制御できる．\n"
   ]
  },
  {
   "cell_type": "code",
   "execution_count": null,
   "metadata": {},
   "outputs": [],
   "source": [
    "x1, x2 = solve_quadratic_equation(10, 20, 4)\n",
    "print(\"two solutions are\", x1, \"and\", x2)\n"
   ]
  },
  {
   "cell_type": "markdown",
   "metadata": {},
   "source": [
    "以下の例では`format()`を用いて出力を指定している．これは文字列クラスのメソッドであり，引数に対応する位置の出力指定子に沿ったフォーマットで，変数を文字列に埋め込む関数である．\n",
    "\n",
    "- https://docs.python.org/ja/3/tutorial/inputoutput.html#the-string-format-method\n",
    "- https://docs.python.org/ja/3/library/stdtypes.html#str.format\n",
    "    > 文字列の書式化操作を行います。"
   ]
  },
  {
   "cell_type": "code",
   "execution_count": null,
   "metadata": {},
   "outputs": [],
   "source": [
    "print(\"two solutions are {:.08e} and {:.02f}.\".format(x1, x2))\n"
   ]
  },
  {
   "cell_type": "markdown",
   "metadata": {},
   "source": [
    "ここでは`x1`と`x2`はそれぞれ`{:.08f}`と`{:.02f}`という部分に，C 言語と同様の指定で文字列に変換されている（`.08`は小数第 8 位まで表示（0 埋め），`f`は実数，`e`は指数表示）．\n",
    "指定子に何も指定せず`{}`とするとデフォルトの設定が使われる．\n"
   ]
  },
  {
   "cell_type": "code",
   "execution_count": null,
   "metadata": {},
   "outputs": [],
   "source": [
    "print(\"two solutions are {} and {:.02f}.\".format(x1, x2))\n"
   ]
  },
  {
   "cell_type": "markdown",
   "metadata": {},
   "source": [
    "また指定子のコロン`:`の前には，`format()`に与えた引数の順番を指定することができる．\n"
   ]
  },
  {
   "cell_type": "code",
   "execution_count": null,
   "metadata": {},
   "outputs": [],
   "source": [
    "print(\"two solutions are {1} and {0:.02f}.\".format(x1, x2))\n"
   ]
  },
  {
   "cell_type": "markdown",
   "metadata": {},
   "source": [
    "また以下のように`f\"string {variable}\"`や`f\"string {式}\"`とすると，\n",
    "フォーマット済み文字列リテラル（f 文字列）として，文字列中に数式を使うことができる．\n",
    "\n",
    "- https://docs.python.org/ja/3/tutorial/inputoutput.html#formatted-string-literals\n",
    "    > フォーマット済み文字リテラル (短くして f-string とも呼びます) では、文字列の頭に f か F を付け、式を {expression} と書くことで、 Python の式の値を文字列の中に入れ込めます。\n"
   ]
  },
  {
   "cell_type": "code",
   "execution_count": null,
   "metadata": {},
   "outputs": [],
   "source": [
    "print(f\"two solutions are {x1} and {x2}.\")\n",
    "print(f\"two solutions are {x1:.08e} and {x2:.02f}.\")\n",
    "print(\"check the solutions:\")\n",
    "print(f\"f(x1) = {10 * x1**2 + 20 * x1 + 4}\")\n",
    "print(f\"f(x2) = {10 * x2**2 + 20 * x2 + 4:.025f}\")\n"
   ]
  },
  {
   "cell_type": "markdown",
   "metadata": {},
   "source": [
    "## 1.11. <a id='toc1_11_'></a>[モジュールの読み込み](#toc0_)\n",
    "\n",
    "### 1.11.1. <a id='toc1_11_1_'></a>[math](#toc0_)\n",
    "\n",
    "- https://docs.python.org/ja/3/library/math.html\n",
    "    > This module provides access to the mathematical functions defined by the C standard.\n",
    "- https://docs.python.org/ja/3/library/cmath.html\n",
    "    > This module provides access to mathematical functions for complex numbers.\n",
    "\n",
    "Python には様々なモジュール（ライブラリ）があり，それらを使うにはインポート（読み込み）する必要がある．\n",
    "\n",
    "これまで紹介したモジュールには`math`と`cmath`がある．\n",
    "説明のために各セルでインポートしていたが，\n",
    "実際には notebook のカーネルを起動後に最初に使い時だけモジュールのインポートが必要になるため，\n",
    "notebook のどこかのセルで起動後に 1 度インポートするだけでよい．\n",
    "\n",
    "以下のようにモジュール名（`math`）をインポートすると，\n",
    "そのモジュールのすべての関数が使えるようになるが，\n",
    "使う場合には`math.sqrt()`のように，\n",
    "モジュール名に引き続いて関数名を指定する．\n"
   ]
  },
  {
   "cell_type": "code",
   "execution_count": null,
   "metadata": {},
   "outputs": [],
   "source": [
    "# 数学モジュールのインポート\n",
    "import math\n",
    "\n",
    "print(math.sqrt(2))\n",
    "print(math.pi)\n",
    "print(math.e)\n",
    "print(math.log(3.0))\n",
    "print(math.exp(1.2))\n",
    "print(math.sin(2 * math.pi))\n",
    "print(math.cos(math.pi / 4))\n"
   ]
  },
  {
   "cell_type": "markdown",
   "metadata": {},
   "source": [
    "モジュールから必要な関数のみをインポートするには`from`を指定する．この場合には，使う場合にモジュール名は不要になる．\n"
   ]
  },
  {
   "cell_type": "code",
   "execution_count": null,
   "metadata": {},
   "outputs": [],
   "source": [
    "# 数学モジュールからsqrt, pi, logをインポート\n",
    "from math import sqrt, pi, log\n",
    "\n",
    "print(sqrt(2.0))\n",
    "print(pi)\n",
    "print(log(3.0))\n"
   ]
  },
  {
   "cell_type": "markdown",
   "metadata": {},
   "source": [
    "from で一部の関数だけをインポートすることも可能である．\n"
   ]
  },
  {
   "cell_type": "code",
   "execution_count": null,
   "metadata": {},
   "outputs": [],
   "source": [
    "# 数学モジュールからsqrtのみをインポート\n",
    "from math import sqrt\n",
    "import math\n",
    "\n",
    "print(sqrt(2.0))\n",
    "print(math.pi)\n",
    "print(math.log(3.0))\n"
   ]
  },
  {
   "cell_type": "markdown",
   "metadata": {},
   "source": [
    "複数のモジュールで同じ関数名を定義している場合には，from を使わずに，モジュール名＋関数名を使う方がよい．\n"
   ]
  },
  {
   "cell_type": "code",
   "execution_count": null,
   "metadata": {},
   "outputs": [],
   "source": [
    "import math\n",
    "import cmath\n",
    "\n",
    "print(math.sqrt(2.0))\n",
    "print(cmath.sqrt(2.1 + 1.2j))\n"
   ]
  },
  {
   "cell_type": "markdown",
   "metadata": {},
   "source": [
    "## 1.12. <a id='toc1_12_'></a>[数値計算モジュール Numpy](#toc0_)\n",
    "\n",
    "- https://numpy.org/doc/stable/reference/\n",
    "\n",
    "行列計算や信号処理・画像処理で用いる 2 次元配列・多次元配列は`ndarray`と呼ばれる．\n",
    "これを使うための科学技術計算用モジュールが Numpy （発音は「ナンパイ（ナムパイ）」）である．\n",
    "\n",
    "`ndarray`は次回以降の数値計算・行列計算において主要な役割を果たすため，\n",
    "十分に使いこなす必要がある．\n",
    "特に，\n",
    "- 線形代数を扱う場合には，1次元のndarrayはベクトル，2次元のndarrayは行列と「みなして」計算を行う．\n",
    "- 画像処理を行う場合には，2次元のndarrayはモノクロ（グレースケール）画像，\n",
    "3次元のndarrayはカラー（RGB）画像やマルチスペクトル画像と「みなして」処理を行う．\n",
    "\n",
    "\n",
    "numpy は一般的に次のように`np`という識別子で使えるようにインポートする．\n"
   ]
  },
  {
   "cell_type": "code",
   "execution_count": null,
   "metadata": {},
   "outputs": [],
   "source": [
    "import numpy as np\n"
   ]
  },
  {
   "cell_type": "markdown",
   "metadata": {},
   "source": [
    "これ以降は`np`という識別子を使う．\n",
    "\n",
    "リストから`ndarray`を作成するには以下のように`np.array()`を用い，引数にリストを与える．\n",
    "\n",
    "- https://numpy.org/doc/stable/reference/generated/numpy.array.html\n",
    "    > Create an array."
   ]
  },
  {
   "cell_type": "code",
   "execution_count": null,
   "metadata": {},
   "outputs": [],
   "source": [
    "a = np.array([10, 20, 30])  # リストから1次元arrayを作る\n",
    "print(a)\n",
    "print(len(a))\n",
    "print(type(a))  # aはnumpyのndarray型\n"
   ]
  },
  {
   "cell_type": "markdown",
   "metadata": {},
   "source": [
    "Python のリストと numpy の `ndarray` の大きな違いは，行列や画像の様に格子状に数値が並んだデータを扱うために特化していることである．そのため，\n",
    "\n",
    "- リストと違い，`ndarray` の要素の型はすべて同じである．\n",
    "- リストと違い，`ndarray` はすべての次元で同一の要素数を持つ．\n"
   ]
  },
  {
   "cell_type": "markdown",
   "metadata": {},
   "source": [
    "`ndarray` のデータの型を調べるには`.dtype`を使う．\n",
    "\n",
    "- https://numpy.org/doc/stable/reference/arrays.dtypes.html\n",
    "    > A data type object (an instance of numpy.dtype class)\n"
   ]
  },
  {
   "cell_type": "code",
   "execution_count": null,
   "metadata": {},
   "outputs": [],
   "source": [
    "print(a.dtype)  # デフォルトのデータの型はnp.int64またはnp.int32（OSや機種に依存）\n"
   ]
  },
  {
   "cell_type": "markdown",
   "metadata": {},
   "source": [
    "整数リストから生成されたndarrayは整数型（`np.int64`）であるが，\n",
    "作成時に一つでも実数値の要素があると，すべての要素が暗黙的に実数（`np.float64`）に変換される．\n",
    "\n",
    "- https://numpy.org/doc/stable/reference/arrays.scalars.html\n",
    "    > In NumPy, there are 24 new fundamental Python types to describe different types of scalars. \n"
   ]
  },
  {
   "cell_type": "code",
   "execution_count": null,
   "metadata": {},
   "outputs": [],
   "source": [
    "a = np.array([10, 20, 30])\n",
    "print(a, a.dtype)\n",
    "\n",
    "b = np.array([10, 20, 30.0])\n",
    "print(b, b.dtype)\n"
   ]
  },
  {
   "cell_type": "markdown",
   "metadata": {},
   "source": [
    "2 次元 ndarray も 2 次元リストと同様に作成できる．\n"
   ]
  },
  {
   "cell_type": "code",
   "execution_count": null,
   "metadata": {},
   "outputs": [],
   "source": [
    "a = np.array([\n",
    "    [0, 1, 2],\n",
    "    [3, 4, 5]\n",
    "])  # 2次元array\n",
    "\n",
    "print(a, a.dtype)  # 型はint\n"
   ]
  },
  {
   "cell_type": "markdown",
   "metadata": {},
   "source": [
    "リストとは違い，ndarray の要素の型は数値のみであり，すべて同じ型になる．\n",
    "整数だけのリストであれば作成される ndarray の型も整数になるが，\n",
    "実数が 1 つでもある場合には暗黙の型変換により実数の ndarray になる．\n",
    "\n",
    "`np.array()`には引数に`dtype`があり，これを指定するとその型の ndarray が作成される．\n"
   ]
  },
  {
   "cell_type": "code",
   "execution_count": null,
   "metadata": {},
   "outputs": [],
   "source": [
    "a = np.array([\n",
    "    [0, 1.5, 2],\n",
    "    [3, 4, 5]\n",
    "])  # ひとつでも実数があると\n",
    "print(a, a.dtype)  # 型はfloat\n",
    "\n",
    "a = np.array([\n",
    "    [0, 1, 2],\n",
    "    [3, 4, 5]],\n",
    "    dtype=float)  # dtypeをfloatに指定すると\n",
    "print(a, a.dtype)  # 型はnp.float64\n",
    "\n",
    "a = np.array([\n",
    "    [0, 1, 2],\n",
    "    [3, 4, 5]],\n",
    "    dtype=np.float64)  # dtypeをnp.float64に指定すると\n",
    "print(a, a.dtype)  # 型はnp.float64\n"
   ]
  },
  {
   "cell_type": "markdown",
   "metadata": {},
   "source": [
    "#### 1.12.1.1. <a id='toc1_12_1_1_'></a>[arange](#toc0_)\n",
    "\n",
    "- https://numpy.org/doc/stable/reference/generated/numpy.arange.html\n",
    "    > Return evenly spaced values within a given interval.\n",
    "\n",
    "`np.arange()`は，連続する数値の ndarray を作る関数である．\n",
    "使い方は`range()`と同じであるが，返り値は`ndarray`である．\n"
   ]
  },
  {
   "cell_type": "code",
   "execution_count": null,
   "metadata": {},
   "outputs": [],
   "source": [
    "a = np.arange(10)  # 0から9まで（10未満）のndarray\n",
    "print(a, type(a), a.dtype)\n"
   ]
  },
  {
   "cell_type": "code",
   "execution_count": null,
   "metadata": {},
   "outputs": [],
   "source": [
    "a = np.arange(-8, 8)  # -8から7まで（8未満）のndarray\n",
    "print(a, type(a), a.dtype)\n"
   ]
  },
  {
   "cell_type": "code",
   "execution_count": null,
   "metadata": {
    "scrolled": true
   },
   "outputs": [],
   "source": [
    "a = np.arange(-13, 13, 4)  # -13から12までstep=4のndarray\n",
    "print(a, type(a), a.dtype)\n"
   ]
  },
  {
   "cell_type": "code",
   "execution_count": null,
   "metadata": {},
   "outputs": [],
   "source": [
    "a = np.arange(-13, 13, 1.2)  # -13から12までstep=1.2のndarray\n",
    "print(a, type(a), a.dtype)\n"
   ]
  },
  {
   "cell_type": "markdown",
   "metadata": {},
   "source": [
    "ndarray は for ループのイテラブルとしても使える．\n"
   ]
  },
  {
   "cell_type": "code",
   "execution_count": null,
   "metadata": {},
   "outputs": [],
   "source": [
    "my_array = np.arange(-3, 10, 1.25)\n",
    "\n",
    "for element in my_array:\n",
    "    print(element)\n",
    "\n",
    "print(my_array)\n",
    "\n",
    "for i, element in enumerate(my_array):\n",
    "    print(f\"{i}-th element: {element}\")\n"
   ]
  },
  {
   "cell_type": "markdown",
   "metadata": {},
   "source": [
    "以下のように 2 次元の ndarray を 2 重ループで扱う場合，\n",
    "外側のループで ndarray をイテラブルとすると，各行の ndarray が得られる（`row`）．\n",
    "内側のループでそれをイテラブルとすると，その行の各要素が float として得られる（`c`）．\n"
   ]
  },
  {
   "cell_type": "code",
   "execution_count": null,
   "metadata": {},
   "outputs": [],
   "source": [
    "a = np.array([\n",
    "    [0, 1, 2],\n",
    "    [3, 4, 5],\n",
    "    [6, 7, 8]\n",
    "])\n",
    "\n",
    "for i, row in enumerate(a):\n",
    "    print(f\"{i}-th row\", row, type(row))\n",
    "    for c in row:\n",
    "        print(c, end=\" \")\n",
    "    print()\n"
   ]
  },
  {
   "cell_type": "markdown",
   "metadata": {},
   "source": [
    "#### 1.12.1.2. <a id='toc1_12_1_2_'></a>[shape](#toc0_)\n",
    "\n",
    "配列の縦横のサイズを取得するには`.shape`を用いる．\n",
    "返り値は，（高さ，幅）もしくは（行数，列数）の順番のタプルである．\n",
    "行列ならば，`shape[0]`は行数であり，`shape[1]`は列数である．\n",
    "\n",
    "ndarray を行列として計算する場合に，行列の次元を取得するために頻繁に用いる．\n",
    "\n",
    "- https://numpy.org/doc/stable/reference/generated/numpy.ndarray.shape.html\n",
    "    > Tuple of array dimensions.\n"
   ]
  },
  {
   "cell_type": "code",
   "execution_count": null,
   "metadata": {},
   "outputs": [],
   "source": [
    "a = np.array([\n",
    "    [0, 1, 2],\n",
    "    [3, 4, 5]\n",
    "])\n",
    "\n",
    "print(a)\n",
    "print(\"shape\", a.shape)\n",
    "\n",
    "rows, columns = a.shape\n",
    "print(\"number of rows\", rows)\n",
    "print(\"number of columns\", columns)\n",
    "\n",
    "print(\"number of rows\", a.shape[0])\n",
    "print(\"number of columns\", a.shape[1])\n"
   ]
  },
  {
   "cell_type": "markdown",
   "metadata": {},
   "source": [
    "1次元のndarrayの場合もshapeの返り値はタプルであるが，要素数は1である．"
   ]
  },
  {
   "cell_type": "code",
   "execution_count": null,
   "metadata": {},
   "outputs": [],
   "source": [
    "a = np.array([0, 1, 2])\n",
    "\n",
    "print(a)\n",
    "print(\"shape\", a.shape)"
   ]
  },
  {
   "cell_type": "markdown",
   "metadata": {},
   "source": [
    "#### 1.12.1.3. <a id='toc1_12_1_3_'></a>[ndim](#toc0_)\n",
    "\n",
    "ndarray の次元を取得するには`.ndim`を用いる．\n",
    "ndarray が 1 次元配列（1D array）であれば 1 になり，2 次元配列（2D array）であれば 2 になる．\n",
    "\n",
    "- https://numpy.org/doc/stable/reference/generated/numpy.ndarray.ndim.html\n",
    "    > Number of array dimensions.\n"
   ]
  },
  {
   "cell_type": "code",
   "execution_count": null,
   "metadata": {},
   "outputs": [],
   "source": [
    "a = np.array([\n",
    "    [0, 1, 2],\n",
    "    [3, 4, 5]\n",
    "])\n",
    "\n",
    "print(a)\n",
    "print(f\"shape of a is {a.shape} and it is {a.ndim}-d array\")\n",
    "\n",
    "\n",
    "a = np.array(\n",
    "    [0, 1, 2, 3, 4, 5]\n",
    ")\n",
    "\n",
    "print(a)\n",
    "print(f\"shape of a is {a.shape} and it is {a.ndim}-d array\")\n"
   ]
  },
  {
   "cell_type": "markdown",
   "metadata": {},
   "source": [
    "### 1.12.2. <a id='toc1_12_2_'></a>[要素へのアクセス](#toc0_)\n",
    "\n",
    "#### 1.12.2.1. <a id='toc1_12_2_1_'></a>[インデキシング](#toc0_)\n",
    "\n",
    "- https://numpy.org/doc/stable/reference/arrays.ndarray.html#indexing-arrays\n",
    "    > Arrays can be indexed using an extended Python slicing syntax, array[selection]. Similar syntax is also used for accessing fields in a structured data type.\n",
    "\n",
    "\n",
    "リストと同様に，ndarray の要素にアクセスするには`[]`でインデックスを指定する．\n",
    "負の値を指定すると，最後の要素から順にアクセスする．\n"
   ]
  },
  {
   "cell_type": "code",
   "execution_count": null,
   "metadata": {},
   "outputs": [],
   "source": [
    "a = np.arange(5, dtype=float)\n",
    "print(a)\n",
    "print(type(a))\n"
   ]
  },
  {
   "cell_type": "code",
   "execution_count": null,
   "metadata": {},
   "outputs": [],
   "source": [
    "a[3] = 100\n",
    "\n",
    "print(a[0])  # 最初の要素\n",
    "print(a[1])\n",
    "print(a[2])\n",
    "print(a[3])\n",
    "print(a[4])  # 最後の要素\n",
    "\n",
    "print(a)\n"
   ]
  },
  {
   "cell_type": "code",
   "execution_count": null,
   "metadata": {},
   "outputs": [],
   "source": [
    "print(a)\n",
    "\n",
    "print(a[-1])  # 最後の要素\n",
    "print(a[-2])\n",
    "print(a[-3])\n",
    "print(a[-4])\n",
    "print(a[-5])  # 最初の要素\n"
   ]
  },
  {
   "cell_type": "markdown",
   "metadata": {},
   "source": [
    "2 次元の ndarray の場合のインデックス指定は，リストとは異なり`[i, j]`のような指定もできる．\n"
   ]
  },
  {
   "cell_type": "code",
   "execution_count": null,
   "metadata": {},
   "outputs": [],
   "source": [
    "a = np.array([\n",
    "    [0, 1, 2, 3, 4],\n",
    "    [5, 6, 7, 8, 9],\n",
    "    [11, 12, 13, 14, 15]\n",
    "])\n",
    "print(a)\n",
    "\n",
    "print(a[0][0], a[1][2], a[1][0])\n",
    "print(a[0, 0], a[1, 2], a[1, 0])\n",
    "\n",
    "a[0, 0] = 100\n",
    "a[1, 2] = 200\n",
    "a[1, 0] = 300\n",
    "\n",
    "print(a)\n"
   ]
  },
  {
   "cell_type": "markdown",
   "metadata": {},
   "source": [
    "#### 1.12.2.2. <a id='toc1_12_2_2_'></a>[スライシング](#toc0_)\n",
    "\n",
    "ndarray の特定の範囲の要素に同時にアクセスするためには，以下のようスライシングを用いる．\n",
    "\n",
    "- <https://numpy.org/doc/stable/user/basics.indexing.html#slicing-and-striding>\n",
    "    > Basic slicing extends Python’s basic concept of slicing to N dimensions. Basic slicing occurs when obj is a slice object (constructed by start:stop:step notation inside of brackets), an integer, or a tuple of slice objects and integers. Ellipsis and newaxis objects can be interspersed with these as well.\n",
    "- <https://note.nkmk.me/python-numpy-ndarray-slice/>\n",
    "    > Pythonではコロンを使って表すスライス[start:stop:step]によって、リストや文字列、タプルなどのシーケンスオブジェクトの一部分を選択して取得したり別の値を代入したりできる。\n",
    "\n",
    "これは非常によく使う書き方であり，次回以降も登場するためよく理解する必要がある．\n"
   ]
  },
  {
   "cell_type": "markdown",
   "metadata": {},
   "source": [
    "スライシングの範囲指定には「`:`」を使う．\n",
    "`a[start:stop]`と指定すると，`a[start]`から`a[stop-1]`までの要素からなる ndarray にアクセスできる．\n",
    "これはコピーではなく元の ndarray への参照（view）であるため，スカラーや ndarray を代入することもできる．\n",
    "\n",
    "以下は`a[5]`から`a[11]`までに一度に代入している例である\n"
   ]
  },
  {
   "cell_type": "code",
   "execution_count": null,
   "metadata": {},
   "outputs": [],
   "source": [
    "a = np.arange(20)\n",
    "print(a[0:10])\n",
    "\n",
    "a[5:12] = -1\n",
    "print(a)\n",
    "\n",
    "a[5:12] = np.arange(7)\n",
    "print(a)\n"
   ]
  },
  {
   "cell_type": "markdown",
   "metadata": {},
   "source": [
    "`start`と`stop`はどちらかを省略することができる．\n",
    "その場合には，「最初から」もしくは「最後まで」という意味になる．\n"
   ]
  },
  {
   "cell_type": "code",
   "execution_count": null,
   "metadata": {},
   "outputs": [],
   "source": [
    "a = np.arange(20)\n",
    "\n",
    "print(a[:10])\n",
    "print(a[10:])\n",
    "\n",
    "print(a[:-5])\n",
    "print(a[-5:])\n"
   ]
  },
  {
   "cell_type": "markdown",
   "metadata": {},
   "source": [
    "`start`と`stop`の両方を省略すると，ndaray 全体が得られる．\n",
    "1 次元の場合にはほぼ意味がないが，2 次元以上では有効な使い道がある．\n"
   ]
  },
  {
   "cell_type": "code",
   "execution_count": null,
   "metadata": {},
   "outputs": [],
   "source": [
    "a = np.arange(20)\n",
    "\n",
    "print(a)\n",
    "print(a[:])\n"
   ]
  },
  {
   "cell_type": "markdown",
   "metadata": {},
   "source": [
    "さらに，`a[start:stop:step]`と指定すると，`a[start], a[start + step], a[start + 2 * step], ...`の要素からなる ndarray にアクセスできる．\n"
   ]
  },
  {
   "cell_type": "code",
   "execution_count": null,
   "metadata": {},
   "outputs": [],
   "source": [
    "a = np.arange(20)\n",
    "print(a[0:10:2])\n",
    "\n",
    "a[5:12:2] = -1\n",
    "print(a)\n",
    "\n",
    "a[5:12:2] = np.arange(4)\n",
    "print(a)\n"
   ]
  },
  {
   "cell_type": "markdown",
   "metadata": {},
   "source": [
    "`step`は負にすることもできる．\n"
   ]
  },
  {
   "cell_type": "code",
   "execution_count": null,
   "metadata": {},
   "outputs": [],
   "source": [
    "a = np.arange(20)\n",
    "print(a[10:0:-1])\n",
    "print(a[10:0:-2])\n"
   ]
  },
  {
   "cell_type": "markdown",
   "metadata": {},
   "source": [
    "`step=-1`の有効な使い道の一つは，ndarray を逆順に入れ替えることである．\n",
    "特に`start`と`stop`を省略して`step=-1`を指定することで，ndarray 全体を逆順に入れ替えることができる．\n"
   ]
  },
  {
   "cell_type": "code",
   "execution_count": null,
   "metadata": {},
   "outputs": [],
   "source": [
    "a = np.arange(20)\n",
    "print(a[10:5:-1])\n",
    "\n",
    "print(a[::-1])\n",
    "\n",
    "a = a[::-1]\n",
    "print(a)\n"
   ]
  },
  {
   "cell_type": "markdown",
   "metadata": {},
   "source": [
    "##### 1.12.2.2.1. <a id='toc1_12_2_2_1_'></a>[2次元ndarrayのスライシング](#toc0_)\n",
    "\n",
    "2次元ndarrayの場合は，各次元でスライシングが可能である．\n",
    "\n",
    "以下の例では`a[0:2, 1:4]`という指定をしているが，これは\n",
    "- 最初の指定「0:2」は，上から0,1行目（2は含まない）を取り出し，\n",
    "- 次の指定「1:4」は，左から1,2,3列目（4は含まない）を取り出している\n",
    "\n"
   ]
  },
  {
   "cell_type": "code",
   "execution_count": null,
   "metadata": {},
   "outputs": [],
   "source": [
    "a = np.array([\n",
    "    [0, 1, 2, 3, 4],\n",
    "    [5, 6, 7, 8, 9],\n",
    "    [11, 12, 13, 14, 15]\n",
    "])\n",
    "\n",
    "print(a[0:2, 1:4])\n"
   ]
  },
  {
   "cell_type": "markdown",
   "metadata": {},
   "source": [
    "また，スライシングで指定した範囲にスカラーを代入することができる．"
   ]
  },
  {
   "cell_type": "code",
   "execution_count": null,
   "metadata": {},
   "outputs": [],
   "source": [
    "a = np.array([\n",
    "    [0, 1, 2, 3, 4],\n",
    "    [5, 6, 7, 8, 9],\n",
    "    [11, 12, 13, 14, 15]\n",
    "])\n",
    "\n",
    "a[0:2, 1:4] = -33\n",
    "\n",
    "print(a)\n"
   ]
  },
  {
   "cell_type": "markdown",
   "metadata": {},
   "source": [
    "さらに，スライシングで指定した範囲に別のndarrayを代入することもできる．"
   ]
  },
  {
   "cell_type": "code",
   "execution_count": null,
   "metadata": {},
   "outputs": [],
   "source": [
    "a = np.array([\n",
    "    [0, 1, 2, 3, 4],\n",
    "    [5, 6, 7, 8, 9],\n",
    "    [11, 12, 13, 14, 15]\n",
    "])\n",
    "\n",
    "a[0:2, 1:4] = np.array([\n",
    "    [-1, -2, -3],\n",
    "    [-4, -5, -6]\n",
    "    ])\n",
    "\n",
    "print(a)\n"
   ]
  },
  {
   "cell_type": "markdown",
   "metadata": {},
   "source": [
    "##### 1.12.2.2.2. <a id='toc1_12_2_2_2_'></a>[行列の行と列を取り出す](#toc0_)\n",
    "\n",
    "線形代数を実装する場合，\n",
    "2次元ndarrayを行列とみなして，指定した列や行を取り出して別の1次元ndarrayに代入してベクトルとみなす，\n",
    "という処理を行うことが多い．\n",
    "\n",
    "まず`i`列目だけ列として取り出す方法はいくつかある．\n",
    "\n",
    "以下のように最初の次元（行方向）はすべての要素をスライシングで，2つ目の次元（行方向）は列`i`を指定すると，\n",
    "1次元ndarrayとして列が得られる．"
   ]
  },
  {
   "cell_type": "code",
   "execution_count": null,
   "metadata": {},
   "outputs": [],
   "source": [
    "a = np.array([\n",
    "    [0, 1, 2, 3, 4],\n",
    "    [5, 6, 7, 8, 9],\n",
    "    [11, 12, 13, 14, 15]\n",
    "])\n",
    "\n",
    "i = 0\n",
    "b = a[:, i]\n",
    "print(b, b.shape, b.ndim)\n"
   ]
  },
  {
   "cell_type": "markdown",
   "metadata": {},
   "source": [
    "以下のように最初の次元（行方向）はすべての要素をスライシングで，2つ目の次元（行方向）もスライシングで列`i`から`i+1`未満と指定すると，2次元ndarrayとして列が得られる．"
   ]
  },
  {
   "cell_type": "code",
   "execution_count": null,
   "metadata": {},
   "outputs": [],
   "source": [
    "i = 0\n",
    "b = a[:, i:i+1]\n",
    "print(b)\n",
    "print(b.shape, b.ndim)\n"
   ]
  },
  {
   "cell_type": "markdown",
   "metadata": {},
   "source": [
    "`i`行目だけを取り出すには以下のようにする．\n",
    "\n",
    "1つ目の次元（行方向）に行`i`を指定し，\n",
    "2つ目の次元（列方向）はすべての要素をスライシングで指定すると，\n",
    "1次元ndarrayとして行が得られる．"
   ]
  },
  {
   "cell_type": "code",
   "execution_count": null,
   "metadata": {},
   "outputs": [],
   "source": [
    "i = 0\n",
    "b = a[i, :]\n",
    "print(b)\n",
    "print(b.shape, b.ndim)"
   ]
  },
  {
   "cell_type": "markdown",
   "metadata": {},
   "source": [
    "1つ目の次元（行方向）にスライシングで行`i`から`i+1`未満と指定し，\n",
    "2つ目の次元（列方向）はすべての要素をスライシングで指定すると，\n",
    "2次元ndarrayとして行が得られる．"
   ]
  },
  {
   "cell_type": "code",
   "execution_count": null,
   "metadata": {},
   "outputs": [],
   "source": [
    "i = 0\n",
    "b = a[i:i+1, :]\n",
    "print(b)\n",
    "print(b.shape, b.ndim)"
   ]
  },
  {
   "cell_type": "markdown",
   "metadata": {},
   "source": [
    "##### 1.12.2.2.3. <a id='toc1_12_2_2_3_'></a>[インデキシングとスライシングの注意点](#toc0_)\n",
    "\n",
    "上記の`a[0, 0]`のように，通常のインデキシングやスライシングを行う場合には問題は生じないが，\n",
    "`a[0][0]`などとする場合には，混乱のもとになる場合があるので，注意が必要である．\n",
    "これは，一旦`a[0]`でインデキシングを行ってndarrayを取り出してから，再度`(a[0])[0]`というインデキシングを行っていることになるため，\n",
    "以下のようにndarrayのshapeが一見してわかりにくくなってしまう．\n"
   ]
  },
  {
   "cell_type": "code",
   "execution_count": null,
   "metadata": {},
   "outputs": [],
   "source": [
    "a = np.array([\n",
    "    [0, 1, 2],\n",
    "    [5, 6, 7],\n",
    "    [11, 12, 13]\n",
    "])\n",
    "\n",
    "print(a[0, 0])  # (3, 3) --> scalar\n",
    "print(a[0:1], a[0:1].ndim, a[0:1].shape)  # (3, 3) --> (1, 3)\n",
    "print(a[0:1][0], a[0:1][0].ndim, a[0:1][0].shape)  # (3, 3) --> (3,)\n",
    "print(a[0:1][0][0:1], a[0:1][0][0:1].ndim, a[0:1][0][0:1].shape)  # (3, 3) --> (3,) --> (1,)\n",
    "print(a[0:1][0:1], a[0:1][0:1].ndim, a[0:1][0:1].shape)  # (3, 3) --> (1, 3)\n",
    "print(a[0:1, 0:1], a[0:1, 0:1].ndim, a[0:1, 0:1].shape)  # (3, 3) --> (1, 1)\n"
   ]
  },
  {
   "cell_type": "markdown",
   "metadata": {},
   "source": [
    "なおスカラー（実数）と，shapeが`(1, 1)`や`(1, )`のndarrayは型が異なるため，\n",
    "左辺がスカラーであるndarrayの要素にこれらを代入しようとすると，警告が表示される．"
   ]
  },
  {
   "cell_type": "code",
   "execution_count": null,
   "metadata": {},
   "outputs": [],
   "source": [
    "a[0, 0] = np.ndarray([1])  # shapeが(1, )のndarrayを代入しようとした\n",
    "a[0, 0] = a[0:1, 0:1]  # shapeが(1, 1)のndarrayを代入しようとした\n"
   ]
  },
  {
   "cell_type": "markdown",
   "metadata": {},
   "source": [
    "shapeが`(1, 1)`や`(1, )`のndarrayから要素をスカラーとして取り出すには，以下のように`.item()`を用いる．"
   ]
  },
  {
   "cell_type": "code",
   "execution_count": null,
   "metadata": {},
   "outputs": [],
   "source": [
    "a[0, 0] = np.ndarray([1]).item()\n",
    "a[0, 0] = a[0:1, 0:1].item()"
   ]
  },
  {
   "cell_type": "markdown",
   "metadata": {},
   "source": [
    "### 1.12.3. <a id='toc1_12_3_'></a>[要素毎の処理](#toc0_)\n",
    "\n",
    "各要素で独立の処理は，2 重ループを使わず，ndarray に対する演算を使って書く．\n",
    "ループ処理よりも非常に高速であり，numpy ではできるだけループを使わずに書くほうがよい．\n",
    "\n",
    "スカラーとの四則演算`+, -, *, /`などはndarrayのすべての要素に対して行われる．\n",
    "これは複合代入演算子（`+=, -=, *=, /=`）などや，\n",
    "numpyの関数（`np.sqrt()`や`np.log()`など）でも同様である．"
   ]
  },
  {
   "cell_type": "code",
   "execution_count": null,
   "metadata": {},
   "outputs": [],
   "source": [
    "a = np.array([\n",
    "    [0, 1, 2, 3, 4],\n",
    "    [5, 6, 7, 8, 9],\n",
    "    [11, 12, 13, 14, 15]\n",
    "])\n",
    "print(\"a is\\n\", a)\n",
    "\n",
    "a += 1\n",
    "print(\"a is now\\n\", a)\n",
    "\n",
    "b = a * 10.1\n",
    "print(\"b=a * 10.1\\n\", b)\n",
    "\n",
    "b = 10.1 * a\n",
    "print(\"b=10.1 * a\\n\", b)\n",
    "\n",
    "print(\"a^2\\n\", a**2)\n",
    "print(\"sqrt(a)\\n\", np.sqrt(a))\n",
    "print(\"log(a)\\n\", np.log(a))\n",
    "print(\"sin(a)\\n\", np.sin(a))\n"
   ]
  },
  {
   "cell_type": "markdown",
   "metadata": {},
   "source": [
    "なおndarrayに対しては`math`モジュールの関数は使えない（エラーになる）．"
   ]
  },
  {
   "cell_type": "code",
   "execution_count": null,
   "metadata": {},
   "outputs": [],
   "source": [
    "math.sqrt(a)\n"
   ]
  },
  {
   "cell_type": "markdown",
   "metadata": {},
   "source": [
    "関数を要素ごとに計算するように定義すると，以下のように ndarray でもスカラでも同様に扱うことができる．\n"
   ]
  },
  {
   "cell_type": "code",
   "execution_count": null,
   "metadata": {},
   "outputs": [],
   "source": [
    "def my_add(\n",
    "    x: int | float | np.ndarray\n",
    ") -> int | float | np.ndarray:\n",
    "    \"\"\"\n",
    "    xに1を足して返す\n",
    "    \"\"\"\n",
    "    return x + 1\n",
    "\n",
    "\n",
    "def my_sqrt(\n",
    "    x: int | float | np.ndarray\n",
    ") -> int | float | np.ndarray:\n",
    "    \"\"\"\n",
    "    ndarrayであるxの各要素の平方根に1を足して返す\n",
    "    \"\"\"\n",
    "    return np.sqrt(x)\n",
    "\n",
    "\n",
    "a = np.array([\n",
    "    [0, 1, 2, 3, 4],\n",
    "    [5, 6, 7, 8, 9],\n",
    "    [11, 12, 13, 14, 15]\n",
    "])\n",
    "b = np.array([0, 1, 2, 3, 4])\n",
    "c = 1\n",
    "\n",
    "print(\"add 1 to 2D array:\\n\", my_add(a))\n",
    "print(\"add 1 to 1D array:\\n\", my_add(b))\n",
    "print(\"add 1 to a scalar:\\n\", my_add(c))\n",
    "\n",
    "print(\"sqrt of 2D array:\\n\", my_sqrt(a))\n",
    "print(\"sqrt of 1D array:\\n\", my_sqrt(b))\n",
    "print(\"sqrt of a scalar:\\n\", my_sqrt(c))\n"
   ]
  },
  {
   "cell_type": "markdown",
   "metadata": {},
   "source": [
    "#### 1.12.3.1. <a id='toc1_12_3_1_'></a>[スライシングと参照：注意点](#toc0_)\n",
    "\n",
    "上記の演算は，スライシングで取り出したndarrayについても同様である．\n",
    "\n",
    "以下は，1行目を100倍するという処理である．\n",
    "ここで注意しておきたいことは，スライシングで取り出した部分ndarrayは単なる参照（view）であり，\n",
    "元のndarrayとメモリ領域が同一である，という点である．\n",
    "そのためスライシングで取り出したndarrayに変更を加えると，\n",
    "元のndarrayに変更を加えることになる．\n",
    "\n",
    "この挙動は，便利でもありバグにもなるので，注意が必要である．"
   ]
  },
  {
   "cell_type": "code",
   "execution_count": null,
   "metadata": {},
   "outputs": [],
   "source": [
    "a = np.array([\n",
    "    [0, 1, 2, 3, 4],\n",
    "    [5, 6, 7, 8, 9],\n",
    "    [11, 12, 13, 14, 15]\n",
    "])\n",
    "\n",
    "a[0, :] *= 100  # aを直接書き換えているため，aは変更される\n",
    "print(\"now a is\\n\", a)\n",
    "\n",
    "a[1, :] = a[1, :] + 100  # aに代入しているため，aは変更される\n",
    "print(\"now a is\\n\", a)\n",
    "\n",
    "b = a[2, :]  # bはa[2]のviewであり，メモリは同一\n",
    "b -= 1200  # bを変更するとaも変更される\n",
    "print(\"b is\\n\", b)\n",
    "print(\"now a is\\n\", a)\n"
   ]
  },
  {
   "cell_type": "markdown",
   "metadata": {},
   "source": [
    "ただし，スライシングで取り出した部分ndarrayの`.copy()`を用いると，\n",
    "参照ではなく新しいndarrayを返すため，元のndarrayは変更されない．\n",
    "\n",
    "またスライシングで取り出した部分ndarrayに対して複合代入演算子（`-=`）ではなく，\n",
    "右辺で演算を行った結果を代入すると，右辺の演算で中間のndarrayが作成されるため，\n",
    "元のndarrayは変更されない．"
   ]
  },
  {
   "cell_type": "code",
   "execution_count": null,
   "metadata": {},
   "outputs": [],
   "source": [
    "a = np.array([\n",
    "    [0, 1, 2, 3, 4],\n",
    "    [5, 6, 7, 8, 9],\n",
    "    [11, 12, 13, 14, 15]\n",
    "])\n",
    "\n",
    "b = a[0, :] + 100  # 中間オブジェクトが生成されてからbに代入されるので，aは変更されない\n",
    "print(\"b is\\n\", b)\n",
    "print(\"now a is\\n\", a)\n",
    "\n",
    "b = a[1, :].copy()  # aのコピーがbに代入されるので，aは変更されない\n",
    "b -= 1200\n",
    "print(\"b is\\n\", b)\n",
    "print(\"now a is\\n\", a)\n",
    "\n",
    "b = a[2, :]  # bはa[2]のviewであり，メモリは同一\n",
    "b = b - 1200  # 中間オブジェクトが生成されてからbに再代入されるので，aは変更されない\n",
    "print(\"b is\\n\", b)\n",
    "print(\"now a is\\n\", a)\n"
   ]
  },
  {
   "cell_type": "markdown",
   "metadata": {},
   "source": [
    "#### 1.12.3.2. <a id='toc1_12_3_2_'></a>[要素の入れ替え（swap）](#toc0_)\n",
    "\n",
    "リストと同様に，ndarray も swap できる．\n"
   ]
  },
  {
   "cell_type": "code",
   "execution_count": null,
   "metadata": {},
   "outputs": [],
   "source": [
    "a = np.array([1, 2, 3])\n",
    "b = np.array([4, 5, 6])\n",
    "\n",
    "print(\"a=\", a, \"b=\", b)\n",
    "\n",
    "a, b = b, a\n",
    "\n",
    "print(\"a=\", a, \"b=\", b)\n"
   ]
  },
  {
   "cell_type": "markdown",
   "metadata": {},
   "source": [
    "ただし 1 つ注意が必要である．\n",
    "リストの場合には，以下のように 2 次元リスト中のリストの入れ替えが可能だった．\n"
   ]
  },
  {
   "cell_type": "code",
   "execution_count": null,
   "metadata": {},
   "outputs": [],
   "source": [
    "a = [[1, 2, 3], [4, 5, 6]]\n",
    "\n",
    "print(a)\n",
    "\n",
    "a[0], a[1] = a[1], a[0]\n",
    "\n",
    "print(a)\n"
   ]
  },
  {
   "cell_type": "markdown",
   "metadata": {},
   "source": [
    "しかし numpy では，同様にして行を入れ替えようとしても，参照（view）であるため，入れ替えができない．\n",
    "以下のコードは，リストの場合と同じ様に入れ替えようとして，失敗している例である．"
   ]
  },
  {
   "cell_type": "code",
   "execution_count": null,
   "metadata": {},
   "outputs": [],
   "source": [
    "a = np.array([[1, 2, 3], [4, 5, 6]])\n",
    "\n",
    "print(a)\n",
    "\n",
    "a[0], a[1] = a[1], a[0]\n",
    "\n",
    "print(a)\n"
   ]
  },
  {
   "cell_type": "markdown",
   "metadata": {},
   "source": [
    "numpyで行の入れ替えを行うには，右辺で`.copy()`を用いてndarrayのコピーを作成し，それを代入する．\n",
    "こうすると，右辺で一旦コピーが作成されるため，行の入れ替えができる．\n"
   ]
  },
  {
   "cell_type": "code",
   "execution_count": null,
   "metadata": {},
   "outputs": [],
   "source": [
    "a = np.array([[1, 2, 3], [4, 5, 6]])\n",
    "\n",
    "print(a)\n",
    "\n",
    "a[0], a[1] = a[1].copy(), a[0].copy()\n",
    "\n",
    "print(a)\n"
   ]
  },
  {
   "cell_type": "markdown",
   "metadata": {},
   "source": [
    "もしくは，advanced indexingの機能を用いる．以下のように，行のインデックスにlistやndarrayを指定することで，そのインデックスで指定した順番で，複数行のコピーを生成することができる．\n",
    "\n",
    "- https://numpy.org/doc/stable/user/basics.indexing.html#advanced-indexing\n",
    "    > Advanced indexing always returns a copy of the data (contrast with basic slicing that returns a view).\n",
    "\n",
    "以下のコードでは，advanced indexingによって右辺で一旦コピーを作成し，行を入れ替えている．"
   ]
  },
  {
   "cell_type": "code",
   "execution_count": null,
   "metadata": {},
   "outputs": [],
   "source": [
    "a = np.array([[1, 2, 3], [4, 5, 6]])\n",
    "\n",
    "print(a)\n",
    "\n",
    "a[[0, 1]] = a[[1, 0]]  # aの1行目と0行目を取り出して，それを0行目と1行目にしたndarrayを生成\n",
    "\n",
    "print(a)\n"
   ]
  },
  {
   "cell_type": "markdown",
   "metadata": {},
   "source": [
    "列も同様であり，`.copy()`を用いない場合には，以下のコードでは入れ替えは失敗する．"
   ]
  },
  {
   "cell_type": "code",
   "execution_count": null,
   "metadata": {},
   "outputs": [],
   "source": [
    "a = np.array([[1, 2, 3], [4, 5, 6]])\n",
    "\n",
    "print(a)\n",
    "\n",
    "a[:, 0], a[:, 1] = a[:, 1], a[:, 0]\n",
    "\n",
    "print(a)\n"
   ]
  },
  {
   "cell_type": "markdown",
   "metadata": {},
   "source": [
    "そこで，業の入れ替えと同様に，`.copy()`を用いて右辺で列のコピーを作成すると，正しく入れ替えができる．"
   ]
  },
  {
   "cell_type": "code",
   "execution_count": null,
   "metadata": {},
   "outputs": [],
   "source": [
    "a = np.array([[1, 2, 3], [4, 5, 6]])\n",
    "\n",
    "print(a)\n",
    "\n",
    "a[:, 0], a[:, 1] = a[:, 1].copy(), a[:, 0].copy()\n",
    "\n",
    "print(a)\n"
   ]
  },
  {
   "cell_type": "markdown",
   "metadata": {},
   "source": [
    "また，列のインデックスに対しても，行の場合と同様に，advanced indexingの機能が使えるため，以下のようにしてもよい．"
   ]
  },
  {
   "cell_type": "code",
   "execution_count": null,
   "metadata": {},
   "outputs": [],
   "source": [
    "a = np.array([[1, 2, 3], [4, 5, 6]])\n",
    "\n",
    "print(a)\n",
    "\n",
    "a[:, [0, 1]] = a[:, [1, 0]]\n",
    "\n",
    "print(a)\n"
   ]
  },
  {
   "cell_type": "markdown",
   "metadata": {},
   "source": [
    "### 1.12.4. <a id='toc1_12_4_'></a>[ndarrayを作成・処理する関数](#toc0_)\n",
    "\n",
    "今後必要となる ndarray に対する関数を紹介する．詳細は以下を参照すること．\n",
    "\n",
    "- <https://numpy.org/doc/stable/reference/index.html>\n",
    "    > This reference manual details functions, modules, and objects included in NumPy, describing what they are and what they do."
   ]
  },
  {
   "cell_type": "markdown",
   "metadata": {},
   "source": [
    "#### 1.12.4.1. <a id='toc1_12_4_1_'></a>[乱数](#toc0_)\n",
    "\n",
    "要素がランダムなndarrayは`np.random`モジュールの各種関数で作成できる．\n",
    "これは任意の行列に対して処理が適切かどうかを確認するを使うときなどに利用する．\n",
    "\n",
    "なおネットで検索するとよく出てくる`np.random.rand()/randn()/randint()`などはすでにレガシーであるため，新しい関数を使う方がよい．\n",
    "\n",
    "- レガシー https://numpy.org/doc/stable/reference/random/legacy.html\n",
    "    > should only be used if it is essential to have randoms that are identical to what would have been produced by previous versions of NumPy.\n",
    "- 最新 https://numpy.org/doc/stable/reference/random/generator.html\n",
    "    > The Generator provides access to a wide range of distributions"
   ]
  },
  {
   "cell_type": "code",
   "execution_count": null,
   "metadata": {},
   "outputs": [],
   "source": [
    "rng = np.random.default_rng()  # 乱数オブジェクト（ジェネレータ）の生成\n",
    "\n",
    "# サイズが10の乱数ndarrayを作成．値は0から99まで（100未満）の整数\n",
    "a = rng.integers(100, size=10)\n",
    "print(a)\n",
    "\n",
    "# サイズが10の乱数ndarrayを作成．値は50から59まで（60未満）の整数\n",
    "a = rng.integers(50, 60, size=10)\n",
    "print(a)\n",
    "\n",
    "a = rng.integers(10, size=(2, 3))  # ランダムな2x3の整数値ndarrayを作成\n",
    "print(a)\n",
    "\n",
    "a = rng.random(size=(2, 3))  # [0.0, 1.0)の一様乱数から抽出した2x3のndarrayを作成\n",
    "print(a)\n",
    "\n",
    "a = rng.uniform(5.0, 10.0, size=(2, 3))  # [5.0, 10.0)の一様乱数から抽出した2x3のndarrayを作成\n",
    "print(a)\n"
   ]
  },
  {
   "cell_type": "markdown",
   "metadata": {},
   "source": [
    "#### 1.12.4.2. <a id='toc1_12_4_2_'></a>[0 ndarray](#toc0_)\n",
    "\n",
    "要素が0のndarrayを作成するには`np.zeros()`などを利用する．\n",
    "これはゼロ行列やゼロベクトルの作成に利用する．\n",
    "\n",
    "- https://numpy.org/doc/stable/reference/generated/numpy.zeros.html\n",
    "    > Return a new array of given shape and type, filled with zeros.\n",
    "- https://numpy.org/doc/stable/reference/generated/numpy.zeros_like.html\n",
    "    > Return an array of zeros with the same shape and type as a given array.\n",
    "    "
   ]
  },
  {
   "cell_type": "code",
   "execution_count": null,
   "metadata": {},
   "outputs": [],
   "source": [
    "# サイズが3x8のゼロ行列を生成\n",
    "a = np.zeros(shape=(3, 8))\n",
    "print(\"a is \\n\", a)\n",
    "a = np.zeros((3, 8))\n",
    "print(\"a is \\n\", a)\n",
    "\n",
    "# サイズが8のゼロベクトルを生成\n",
    "b = np.zeros(8)\n",
    "print(\"b is \", b)\n",
    "\n",
    "\n",
    "# サイズがaと同じshapeとdtypeのゼロarrayを生成\n",
    "c = np.zeros_like(a)\n",
    "print(\"c is \", c)\n"
   ]
  },
  {
   "cell_type": "markdown",
   "metadata": {},
   "source": [
    "#### 1.12.4.3. <a id='toc1_12_4_3_'></a>[1 ndarray](#toc0_)\n",
    "\n",
    "要素が1のndarrayを作成するには`np.ones()`などを利用する．\n",
    "\n",
    "- https://numpy.org/doc/stable/reference/generated/numpy.ones.html\n",
    "    > Return a new array of given shape and type, filled with ones.\n",
    "- https://numpy.org/doc/stable/reference/generated/numpy.ones_like.html\n",
    "    > Return an array of ones with the same shape and type as a given array."
   ]
  },
  {
   "cell_type": "code",
   "execution_count": null,
   "metadata": {},
   "outputs": [],
   "source": [
    "# サイズが3x8の1行列を生成\n",
    "a = np.ones(shape=(3, 8))\n",
    "print(\"a is \\n\", a)\n",
    "a = np.ones((3, 8))\n",
    "print(\"a is \\n\", a)\n",
    "\n",
    "# サイズが8の1ベクトルを生成\n",
    "b = np.ones(8)\n",
    "print(\"b is \", b)\n",
    "\n",
    "# サイズがaと同じshapeとdtypeの1ベクトルを生成\n",
    "c = np.ones_like(a)\n",
    "print(\"c is \", c)\n"
   ]
  },
  {
   "cell_type": "markdown",
   "metadata": {},
   "source": [
    "#### 1.12.4.4. <a id='toc1_12_4_4_'></a>[np.full()](#toc0_)\n",
    "\n",
    "0や1以外の固定値を要素とするndarrayを作成するには`np.full()`を用いる．\n",
    "\n",
    "- https://numpy.org/doc/stable/reference/generated/numpy.full.html\n",
    "    > Return a new array of given shape and type, filled with fill_value.\n",
    "- https://numpy.org/doc/stable/reference/generated/numpy.full_like.html\n",
    "    > Return a full array with the same shape and type as a given array.\n"
   ]
  },
  {
   "cell_type": "code",
   "execution_count": null,
   "metadata": {},
   "outputs": [],
   "source": [
    "value = 3.5\n",
    "\n",
    "# サイズが3x8の行列を生成\n",
    "a = np.full((3, 8), value)\n",
    "print(\"a is \\n\", a)\n",
    "\n",
    "# サイズが8のベクトルを生成\n",
    "b = np.full(8, value)\n",
    "print(\"b is \", b)\n",
    "\n",
    "# サイズがaと同じshapeとdtypeのベクトルを生成\n",
    "c = np.full_like(a, value)\n",
    "print(\"c is \", c)\n"
   ]
  },
  {
   "cell_type": "markdown",
   "metadata": {},
   "source": [
    "#### 1.12.4.5. <a id='toc1_12_4_5_'></a>[統計量](#toc0_)\n",
    "\n",
    "ndarrayの各種統計量を計算するにはndarrayの`.max()`や`.min()`などのメソッドを用いる．\n",
    "2次元のndarrayに対しては，行方向（0次元目）と列方向（1次元目）のどちら方向に対して処理をするかという引数`axis`もある．これは行列の平均列ベクトルや平均行ベクトルなどを計算するために用いる．\n",
    "指定がなければ，すべての要素に対しての（平均などの）統計量，指定するとその軸（次元）の統計量を計算する．\n"
   ]
  },
  {
   "cell_type": "code",
   "execution_count": null,
   "metadata": {},
   "outputs": [],
   "source": [
    "rng = np.random.default_rng()\n",
    "a = rng.random(size=(3, 4)) * 2 - 1\n",
    "print(a)\n",
    "\n",
    "print()\n",
    "print(\"all elements\")\n",
    "print(\"mean\", a.mean())\n",
    "print(\"standard deviation\", a.std())\n",
    "print(\"variance\", a.var())\n",
    "print(\"max\", a.max())\n",
    "print(\"min\", a.min())\n",
    "print(\"sum\", a.sum())\n",
    "print(\"median\", np.median(a))\n",
    "\n",
    "print()\n",
    "print(\"axis=0\")\n",
    "print(\"mean\", a.mean(axis=0))\n",
    "print(\"standard deviation\", a.std(axis=0))\n",
    "print(\"variance\", a.var(axis=0))\n",
    "print(\"max\", a.max(axis=0))\n",
    "print(\"min\", a.min(axis=0))\n",
    "print(\"sum\", a.sum(axis=0))\n",
    "print(\"median\", np.median(a, axis=0))\n",
    "\n",
    "print()\n",
    "print(\"axis=1\")\n",
    "print(\"mean\", a.mean(axis=1))\n",
    "print(\"standard deviation\", a.std(axis=1))\n",
    "print(\"variance\", a.var(axis=1))\n",
    "print(\"max\", a.max(axis=1))\n",
    "print(\"min\", a.min(axis=1))\n",
    "print(\"sum\", a.sum(axis=1))\n",
    "print(\"median\", np.median(a, axis=1))\n"
   ]
  },
  {
   "cell_type": "markdown",
   "metadata": {},
   "source": [
    "統計量は，ndarrayを要素毎に処理した結果に対しても計算することができる．"
   ]
  },
  {
   "cell_type": "code",
   "execution_count": null,
   "metadata": {},
   "outputs": [],
   "source": [
    "print(\"|a|\\n\", np.abs(a))\n",
    "print(\"sum of |a|\", np.abs(a).sum())\n",
    "\n",
    "print(\"a^2\\n\", a**2)\n",
    "print(\"sum of a^2\", (a**2).sum())\n"
   ]
  },
  {
   "cell_type": "markdown",
   "metadata": {},
   "source": [
    "#### 1.12.4.6. <a id='toc1_12_4_6_'></a>[reshape](#toc0_)\n",
    "\n",
    "ndarrayの形状を変形して要素を詰め直すには`.reshape()`を用いる．\n",
    "次回以降ではほとんど使用しないが，\n",
    "縦ベクトル（列ベクトル）を横ベクトル（行ベクトル）に変換するために用いることができる．\n",
    "実用的なコードでは頻繁に用いられる．\n",
    "\n",
    "- https://numpy.org/doc/stable/reference/generated/numpy.reshape.html\n",
    "    > Gives a new shape to an array without changing its data.\n",
    "- https://numpy.org/doc/stable/reference/generated/numpy.ndarray.reshape.html\n",
    "    > Returns an array containing the same data with a new shape.\n",
    "\n",
    "以下は1次元のndarrayである`a`を変形して，縦ベクトル`b`を作成している．`b`は4x1の2次元ndarrayである．\n",
    "それを変形して1x4の横ベクトル`c`を作成している．（なお以下のコードの`-1`は，もう一方の次元を自動的に決定するための指定である）"
   ]
  },
  {
   "cell_type": "code",
   "execution_count": null,
   "metadata": {},
   "outputs": [],
   "source": [
    "a = np.arange(4)\n",
    "print(a, a.shape, a.ndim)\n",
    "\n",
    "b = a.reshape(4, 1)\n",
    "print(b, b.shape, b.ndim)\n",
    "\n",
    "b = a.reshape(2, 2)\n",
    "print(b, b.shape, b.ndim)\n",
    "\n",
    "b = a.reshape(-1, 1)\n",
    "print(b, b.shape, b.ndim)\n",
    "\n",
    "b = a.reshape(-1, 2)\n",
    "print(b, b.shape, b.ndim)\n",
    "\n",
    "c = b.reshape(1, -1)\n",
    "print(c, c.shape, c.ndim)\n"
   ]
  },
  {
   "cell_type": "markdown",
   "metadata": {},
   "source": [
    "#### 1.12.4.7. <a id='toc1_12_4_7_'></a>[linspace, logspace](#toc0_)\n",
    "\n",
    "`np.arange()`は数列を作成するものであるが，指定の仕方が異なる別の関数が\n",
    "`np.linspace()`と`np.logspace()`である．\n",
    "それぞれ線形と対数で数列を生成し，初期値と終了値，それの間を何等分するかという整数値を引数に与える．\n",
    "\n",
    "- https://numpy.org/doc/stable/reference/generated/numpy.linspace.html\n",
    "    > Return evenly spaced numbers over a specified interval.\n",
    "- https://numpy.org/doc/stable/reference/generated/numpy.logspace.html\n",
    "    > Return numbers spaced evenly on a log scale.\n"
   ]
  },
  {
   "cell_type": "code",
   "execution_count": null,
   "metadata": {},
   "outputs": [],
   "source": [
    "a = np.arange(10)  # 0から9までのndarray\n",
    "print(a)\n",
    "\n",
    "a = np.linspace(0, 10, 50)  # 0から10までを50等分した数列のndarray\n",
    "print(a)\n",
    "\n",
    "a = np.logspace(0, 10, 10)  # 0から10までを対数スケールで10等分した数列のndarray\n",
    "print(a)\n"
   ]
  },
  {
   "cell_type": "markdown",
   "metadata": {},
   "source": [
    "#### 1.12.4.8. <a id='toc1_12_4_8_'></a>[hstack, vstack](#toc0_)\n",
    "\n",
    "`np.hstack()`と`np.vstack()`は，ndarrayを連結するメソッドであり，\n",
    "それぞれ横方向（horizontal）と縦方向（vertical）に連結する．\n",
    "\n",
    "- https://numpy.org/doc/stable/reference/generated/numpy.vstack.html\n",
    "    > Stack arrays in sequence vertically (row wise).\n",
    "- https://numpy.org/doc/stable/reference/generated/numpy.hstack.html\n",
    "    > Stack arrays in sequence horizontally (column wise)."
   ]
  },
  {
   "cell_type": "code",
   "execution_count": null,
   "metadata": {},
   "outputs": [],
   "source": [
    "a = rng.random(size=(2, 3))\n",
    "b = rng.random(size=(2, 3))\n",
    "c = rng.random(size=(4, 3))\n",
    "print(\"a\\n\", a)\n",
    "print(\"b\\n\", b)\n",
    "print(\"c\\n\", c)\n",
    "\n",
    "d = np.vstack((a, b))  # 縦方向(vertical)にスタック\n",
    "print(\n",
    "    \"\"\"d = [a]\n",
    "    [b], vertical stack\\n\"\"\",\n",
    "    d,\n",
    ")\n",
    "e = np.hstack((c, d))  # 横方向(horizontal)にスタック\n",
    "print(\"e = [c d], horizontal stack\\n\", e)\n"
   ]
  },
  {
   "cell_type": "markdown",
   "metadata": {},
   "source": [
    "また`np.row_stack()`と`np.column_stack()`も，ndarrayを連結するメソッドであり，\n",
    "それぞれ横方向（horizontal）と縦方向（vertical）に連結する．\n",
    "\n",
    "- https://numpy.org/doc/stable/reference/generated/numpy.row_stack.html\n",
    "    > Stack arrays in sequence vertically (row wise).\n",
    "- https://numpy.org/doc/stable/reference/generated/numpy.column_stack.html\n",
    "    > Stack 1-D arrays as columns into a 2-D array.\n"
   ]
  },
  {
   "cell_type": "code",
   "execution_count": null,
   "metadata": {},
   "outputs": [],
   "source": [
    "d = np.row_stack((a, b))  # 縦方向(vertical)にスタック\n",
    "print(\n",
    "    \"\"\"d = [a]\n",
    "    [b], vertical stack\\n\"\"\",\n",
    "    d,\n",
    ")\n",
    "e = np.column_stack((c, d))  # 横方向(horizontal)にスタック\n",
    "print(\"e = [c d], horizontal stack\\n\", e)\n"
   ]
  },
  {
   "cell_type": "markdown",
   "metadata": {},
   "source": [
    "## 1.13. <a id='toc1_13_'></a>[科学計算モジュール Scipy](#toc0_)\n",
    "\n",
    "- https://docs.scipy.org/doc/scipy/reference/\n",
    "\n",
    "科学技術計算などで用いられるアルゴリズムを実装したモジュールが Scipy （発音は「サイパイ」）である．\n",
    "numpyのndarrayに対する処理のうち，numpyよりも高度なものが多数実装されており，\n",
    "次回以降では最適化や線形代数の計算に用いる．\n",
    "\n",
    "なおscipyをインポートするだけなら，numpyにもある関数が利用できるため，numpyをインポートするのとほぼ同等である．\n",
    "しかし，scipyで実装されていたnumpyと同じ機能のものは，廃止されnumpyに移行しているものもある．\n",
    "\n",
    "\n",
    "以下は[第 1 種ベッセル関数](https://docs.scipy.org/doc/scipy/reference/generated/scipy.special.jv.html#scipy.special.jv)を計算する例である．\n"
   ]
  },
  {
   "cell_type": "code",
   "execution_count": null,
   "metadata": {},
   "outputs": [],
   "source": [
    "from scipy.special import jv\n",
    "\n",
    "print(jv(0, 1.0))\n"
   ]
  },
  {
   "cell_type": "markdown",
   "metadata": {},
   "source": [
    "## 1.14. <a id='toc1_14_'></a>[機械学習モジュール scikit-learn](#toc0_)\n",
    "\n",
    "- https://scikit-learn.org/stable/modules/classes.html\n",
    "\n",
    "\n",
    "機械学習の様々な手法を実装しているモジュールがscikit-learnである．\n",
    "[scikits (scipy toolkits)](https://svn.scipy.org/scikits.html)の\n",
    "[1つである](https://scikit-learn.org/stable/faq.html#why-scikit)．\n",
    "\n",
    "識別や回帰のためのデータ形式は`np.ndarray`であり，\n",
    "様々な手法だけでなく，データセットをndarrayで返す関数も提供している．\n",
    "次回以降ではデータセット取得や主成分分析などに用いる．\n",
    "\n",
    "インポートするモジュール名は`sklearn`である．\n",
    "\n",
    "以下は$y = a x +  b$に対して線形回帰を行っている例である．"
   ]
  },
  {
   "cell_type": "code",
   "execution_count": null,
   "metadata": {},
   "outputs": [],
   "source": [
    "from sklearn import linear_model\n",
    "regressor = linear_model.LinearRegression()\n",
    "\n",
    "rng = np.random.default_rng()\n",
    "\n",
    "slope = 2.1\n",
    "bias = 1.4\n",
    "x = np.arange(0, 10, 0.1)\n",
    "y = x * slope + bias + rng.normal(size=(len(x)))\n",
    "\n",
    "regressor.fit(x.reshape(-1, 1), y)\n",
    "print(f\"true     : y = {slope:.08f} x + {bias:.08f}\")\n",
    "print(f\"estimated: y = {regressor.coef_[0]:.08f} x + {regressor.intercept_:.08f}\")\n"
   ]
  },
  {
   "cell_type": "markdown",
   "metadata": {},
   "source": [
    "## 1.15. <a id='toc1_15_'></a>[モジュールのインポート](#toc0_)\n",
    "\n",
    "同じ機能が複数のモジュールで実装されている場合（かつそれらのモジュールを同時に使用している）には，\n",
    "どのモジュールのものを使っているのかが明らかになるように，\n",
    "トップレベルのモジュール名だけを指定してインポートして使う方がよい（`import math`など）．\n",
    "\n",
    "そのような混乱がなければ，頻繁に使用する関数を直接インポートすると，\n",
    "コードが短く簡潔になる（`from math import sqrt`など）．\n",
    "\n",
    "- https://docs.python.org/ja/3/library/math.html#constants\n",
    "- https://docs.scipy.org/doc/scipy/reference/constants.html#mathematical-constants\n",
    "- https://numpy.org/doc/stable/reference/constants.html"
   ]
  },
  {
   "cell_type": "code",
   "execution_count": null,
   "metadata": {},
   "outputs": [],
   "source": [
    "import math\n",
    "import numpy as np\n",
    "import scipy\n",
    "\n",
    "print(\"pi\")\n",
    "print(math.pi)\n",
    "print(np.pi)\n",
    "print(scipy.constants.pi)\n",
    "\n",
    "print(\"e\")\n",
    "print(math.e)\n",
    "print(np.e)\n",
    "print(scipy.constants.e)\n",
    "\n",
    "print(\"sqrt(2)\")\n",
    "print(math.sqrt(2))\n",
    "print(np.sqrt(2))\n",
    "# print(scipy.sqrt(2))  # deprecated\n",
    "\n",
    "print(\"sin(pi/4), cos(pi/4)\")\n",
    "print(math.sin(math.pi / 4), math.cos(math.pi / 4))\n",
    "print(np.sin(np.pi / 4), np.cos(np.pi / 4))\n",
    "# print(\n",
    "#     scipy.sin(scipy.pi / 4), scipy.cos(scipy.pi / 4)\n",
    "# )  # deprecated\n"
   ]
  },
  {
   "cell_type": "markdown",
   "metadata": {},
   "source": [
    "### 1.15.1. <a id='toc1_15_1_'></a>[バージョンの確認](#toc0_)\n",
    "\n",
    "またバージョンによって使える関数が異なったり，引数（やその意味）が変更されている場合があるため，なにか問題が発生した場合にはまずバージョンを確認すること．\n"
   ]
  },
  {
   "cell_type": "code",
   "execution_count": null,
   "metadata": {},
   "outputs": [],
   "source": [
    "import numpy as np\n",
    "import scipy\n",
    "import sklearn\n",
    "\n",
    "print(\"numpy:\", np.__version__)\n",
    "print(\"scipy:\", scipy.__version__)\n",
    "print(\"scikit-learn:\", sklearn.__version__)\n",
    "\n",
    "import sys\n",
    "print(\"python:\", sys.version_info)\n",
    "\n",
    "import platform\n",
    "print(\"python:\", platform.python_version())\n"
   ]
  },
  {
   "cell_type": "markdown",
   "metadata": {},
   "source": [
    "## 1.16. <a id='toc1_16_'></a>[プロット用モジュール Matplotlib](#toc0_)\n",
    "\n",
    "計算結果を様々なプロットで表示・保存するためのモジュールが matplotlib である．\n",
    "\n",
    "- https://matplotlib.org/stable/index.html\n",
    "\n",
    "一般的に次のように`matplotlib.pyplot`を`plt`という識別子で使えるようにインポートする．\n",
    "\n",
    "- https://matplotlib.org/stable/api/matplotlib_configuration_api.html\n",
    "    > An object-oriented plotting library.\n"
   ]
  },
  {
   "cell_type": "code",
   "execution_count": null,
   "metadata": {},
   "outputs": [],
   "source": [
    "import matplotlib.pyplot as plt\n"
   ]
  },
  {
   "cell_type": "markdown",
   "metadata": {},
   "source": [
    "また以下のようにすると，デフォルトでは大きすぎるプロットの余白が少なくなる．以降では推奨の設定である．\n",
    "\n",
    "- https://matplotlib.org/stable/api/matplotlib_configuration_api.html#matplotlib.rcParams\n",
    "    > An instance of RcParams for handling default Matplotlib values.\n"
   ]
  },
  {
   "cell_type": "code",
   "execution_count": null,
   "metadata": {},
   "outputs": [],
   "source": [
    "from matplotlib import rcParams\n",
    "rcParams[\"savefig.bbox\"] = \"tight\"  # 周囲の余白を削除する\n"
   ]
  },
  {
   "cell_type": "markdown",
   "metadata": {},
   "source": [
    "### 1.16.1. <a id='toc1_16_1_'></a>[基本のプロット](#toc0_)\n",
    "\n",
    "プロットを描画するには，x の値と y の値をそれぞれ 1 次元の ndarray として作成し，それを`plot()`に渡す．\n",
    "\n",
    "\n",
    "\n",
    "以降のコードでの基本的なプロット方法は以下の通りである．\n",
    "\n",
    "- `plt.figure()`でプロットを作成し，`plt.show()`で表示する．\n",
    "  - その間に複数の`ax.plot()`を実行することで複数のグラフを描画できる．\n",
    "    - 第1引数にx座標のndarrayを，第2引数にy座標のndarrayを与える．\n",
    "    - 線の色や幅は自動で決まる（オプションで細かく指定できる）．\n",
    "  - グラフの設定には`ax.***()`を用いる．\n",
    "- ファイルへの保存には`fig.savefig()`を用いる．\n",
    "  - png, jpgなど各種フォーマットで保存できる．latexレポート用にはpdfで保存する．\n",
    "\n",
    "\n",
    "\n",
    "以下は$\\sin(x)$と$\\cos(x)$を$\\pm \\pi$の範囲でプロットする例である．\n",
    "様々な書き方があるが，以下はまず`fig`を作成し，それに対して`ax`を作るという方法を説明している．\n",
    "\n",
    "参考：\n",
    "- `figure()`: https://matplotlib.org/stable/api/figure_api.html\n",
    "- `subplots()`: https://matplotlib.org/stable/api/figure_api.html#matplotlib.figure.Figure.subplots\n",
    "- `plot()`:\n",
    "  - https://matplotlib.org/stable/api/_as_gen/matplotlib.pyplot.plot.html\n",
    "  - https://matplotlib.org/stable/api/_as_gen/matplotlib.axes.Axes.plot.html\n",
    "- `set_xlabel()`: https://matplotlib.org/stable/api/_as_gen/matplotlib.axes.Axes.set_xlabel.html\n",
    "- `set_ylabel()`: https://matplotlib.org/stable/api/_as_gen/matplotlib.axes.Axes.set_ylabel.html\n",
    "- `set_xlim()`: https://matplotlib.org/stable/api/_as_gen/matplotlib.axes.Axes.set_xlim.html\n",
    "- `set_ylim()`: https://matplotlib.org/stable/api/_as_gen/matplotlib.axes.Axes.set_ylim.html\n",
    "- `legend()`: https://matplotlib.org/stable/api/_as_gen/matplotlib.axes.Axes.legend.html\n",
    "- `savefig()`: https://matplotlib.org/stable/api/_as_gen/matplotlib.pyplot.savefig.html\n",
    "- `show()`: https://matplotlib.org/stable/api/_as_gen/matplotlib.pyplot.show.html\n"
   ]
  },
  {
   "cell_type": "code",
   "execution_count": null,
   "metadata": {},
   "outputs": [],
   "source": [
    "x = np.linspace(-np.pi, np.pi, 200)\n",
    "y1 = np.sin(x)\n",
    "y2 = np.cos(x)\n",
    "\n",
    "fig = plt.figure()  # プロット用figureを作成\n",
    "ax = fig.subplots()  # figureにaxisを作成\n",
    "\n",
    "###################### ここからプロットを作成するコードを書く\n",
    "\n",
    "ax.plot(x, y1, label=\"sin(x)\")  # labelには凡例用のラベル文字列を指定\n",
    "ax.plot(x, y2, label=\"cos(x)\")\n",
    "\n",
    "ax.set_xlabel(\"x\")  # 横軸のラベル\n",
    "ax.set_ylabel(\"sin(x) / cos(x)\")  # 縦軸のラベル\n",
    "ax.set_xlim(-np.pi, np.pi)  # 横軸の表示範囲\n",
    "ax.set_ylim(-1.0, 1.0)  # 縦軸の表示範囲\n",
    "ax.legend()  # 凡例を作成\n",
    "\n",
    "###################### プロットを作成するコードはここまで\n",
    "\n",
    "# プロットを描画\n",
    "plt.show()\n",
    "\n",
    "# プロットを保存．必要なものを残せば良い\n",
    "# fig.savefig(\"fig_sin_cos.pdf\")\n",
    "# fig.savefig(\"fig_sin_cos.png\")\n",
    "# fig.savefig(\"fig_sin_cos.jpg\")\n",
    "# fig.savefig(\"fig_sin_cos.svg\")\n"
   ]
  },
  {
   "cell_type": "markdown",
   "metadata": {},
   "source": [
    "### 1.16.2. <a id='toc1_16_2_'></a>[線のスタイル，ラベル，軸のカスタマイズ](#toc0_)\n",
    "\n",
    "以下は$y_1 = \\exp(x)$と$y_2=\\exp(x+1)+5$を，スタイルやラベル，軸などを変更してプロットする例である．\n",
    "\n",
    "- `set_yscale()`: https://matplotlib.org/stable/api/_as_gen/matplotlib.axes.Axes.set_yscale.html\n",
    "- `figsize`: https://matplotlib.org/stable/api/_as_gen/matplotlib.pyplot.figure.html\n",
    "    > Width, height in inches. (default: [6.4, 4.8])\n"
   ]
  },
  {
   "cell_type": "code",
   "execution_count": null,
   "metadata": {},
   "outputs": [],
   "source": [
    "x = np.linspace(-np.pi, np.pi, 20)\n",
    "y1 = np.exp(x)\n",
    "y2 = np.exp(x + 1) + 5.0\n",
    "\n",
    "fig = plt.figure(figsize=(6, 3))  # 縦横比（サイズ）を6:3にする（6inch x 3inch）\n",
    "ax = fig.subplots()\n",
    "\n",
    "ax.plot(x, y1, lw=5, c=\"g\", label=\"exp^x\")  # lwは線幅（line width），cは色（color）でgはgreen\n",
    "ax.plot(\n",
    "    x, y2, \"r.\", label=\"$e^{x+1} + 5$\"\n",
    ")  # rはred，.は点で表示．ラベル文字列を$$で囲むとlatex数式が使える\n",
    "\n",
    "ax.set_yscale(\"log\")  # y軸を対数にする\n",
    "ax.legend()\n",
    "\n",
    "plt.show()\n"
   ]
  },
  {
   "cell_type": "markdown",
   "metadata": {},
   "source": [
    "### 1.16.3. <a id='toc1_16_3_'></a>[2次元散布図](#toc0_)\n",
    "\n",
    "以下は癌のデータを2次元プロットしたものである．\n",
    "\n",
    "2次元散布図には`scatter()`を用いる．\n",
    "\n",
    "- https://scikit-learn.org/stable/modules/generated/sklearn.datasets.load_breast_cancer.html\n",
    "- `scatter()`: https://matplotlib.org/stable/api/_as_gen/matplotlib.axes.Axes.scatter.html"
   ]
  },
  {
   "cell_type": "code",
   "execution_count": null,
   "metadata": {},
   "outputs": [],
   "source": [
    "from sklearn.datasets import load_breast_cancer\n",
    "cancer_dataset = load_breast_cancer()\n",
    "\n",
    "fig = plt.figure(figsize=(5, 5))\n",
    "ax = fig.subplots()\n",
    "ax.axis(\"equal\")  # 縦横比（縦軸と横軸の目盛りの比率）を等しくする\n",
    "\n",
    "x_index = 0\n",
    "y_index = 1\n",
    "\n",
    "ax.scatter(\n",
    "    cancer_dataset.data[:, x_index],\n",
    "    cancer_dataset.data[:, y_index],\n",
    "    s=10,  # マーカーサイズ\n",
    "    c=\"w\",  # マーカーの塗りつぶし色．wはwhite\n",
    "    edgecolors=\"k\",  # マーカーの線の色．kはblack\n",
    ")\n",
    "ax.set_xlabel(cancer_dataset.feature_names[x_index])\n",
    "ax.set_ylabel(cancer_dataset.feature_names[y_index])\n",
    "\n",
    "plt.show()\n"
   ]
  },
  {
   "cell_type": "markdown",
   "metadata": {},
   "source": [
    "以下は2つの2次元正規分布からサンプリングした点を散布図にしたものである．"
   ]
  },
  {
   "cell_type": "code",
   "execution_count": null,
   "metadata": {},
   "outputs": [],
   "source": [
    "rng = np.random.default_rng()\n",
    "\n",
    "data1 = rng.normal(loc=(0, 0), size=(100, 2))\n",
    "data2 = rng.normal(loc=(5, 5), size=(100, 2))\n",
    "\n",
    "fig = plt.figure(figsize=(5, 5))\n",
    "ax = fig.subplots()\n",
    "ax.axis(\"equal\")\n",
    "\n",
    "ax.scatter(\n",
    "    data1[:, 0],\n",
    "    data1[:, 1],\n",
    "    s=10,\n",
    "    c=\"w\",\n",
    "    edgecolors=\"k\",\n",
    "    label=\"data1\",\n",
    ")\n",
    "\n",
    "ax.scatter(\n",
    "    data2[:, 0],\n",
    "    data2[:, 1],\n",
    "    s=10,\n",
    "    c=\"r\",  # red\n",
    "    label=\"data2\",\n",
    ")\n",
    "\n",
    "ax.legend()\n",
    "ax.set_xlabel(\"x\")\n",
    "ax.set_ylabel(\"y\")\n",
    "\n",
    "plt.show()\n"
   ]
  },
  {
   "cell_type": "markdown",
   "metadata": {},
   "source": [
    "### 1.16.4. <a id='toc1_16_4_'></a>[複数プロットの作成](#toc0_)\n",
    "\n",
    "`subplots()`の引数に2以上の整数値を与えて`ax`を複数作成することで，複数プロットを並べることができる．\n",
    "複数作成された`axes`はndarrayになっており，0番目，1番目，，，とインデックス指定してアクセスできる．\n",
    "\n",
    "なおここでは`hlines()`と`vlines()`を用いて縦横の直線（点線）を引いている．\n",
    "\n",
    "- `hlines()`: https://matplotlib.org/stable/api/_as_gen/matplotlib.axes.Axes.hlines.html\n",
    "- `vlines()`: https://matplotlib.org/stable/api/_as_gen/matplotlib.axes.Axes.vlines.html\n",
    "\n",
    "以下は上下に2つのプロットを作成する例である．この場合，`subplots()`の引数には縦方向のプロット数を与える．`sharex=True`を指定すると，2つのプロットで共通するx軸が描画される（指定しない，もしくは`False`にすると，別々にx軸が描画される）．"
   ]
  },
  {
   "cell_type": "code",
   "execution_count": null,
   "metadata": {},
   "outputs": [],
   "source": [
    "x = np.linspace(-np.pi, np.pi, 100)\n",
    "y1 = np.sin(x)\n",
    "y2 = np.cos(x)\n",
    "\n",
    "fig = plt.figure()\n",
    "axes = fig.subplots(2, sharex=True)  # axisを縦に2つ用意．sharex=Trueで横軸を共有する\n",
    "\n",
    "# 1つ目のプロット\n",
    "ax = axes[0]\n",
    "ax.plot(x, y1, label=\"sin(x)\")\n",
    "ax.set_ylabel(\"sin(x)\")\n",
    "ax.hlines(y=0, xmin=-np.pi, xmax=np.pi, linestyles=\"dotted\", lw=1)\n",
    "ax.legend()\n",
    "\n",
    "# 2つ目のプロット\n",
    "ax = axes[1]\n",
    "ax.plot(x, y2, label=\"cos(x)\")\n",
    "ax.set_xlabel(\"x\")\n",
    "ax.set_ylabel(\"cos(x)\")\n",
    "ax.vlines(x=0, ymin=-1, ymax=1, linestyles=\"dotted\", lw=1)\n",
    "ax.hlines(y=1, xmin=-np.pi, xmax=0, linestyles=\"dotted\", lw=1)\n",
    "ax.legend()\n",
    "\n",
    "# 全体の描画\n",
    "plt.show()\n"
   ]
  },
  {
   "cell_type": "markdown",
   "metadata": {},
   "source": [
    "以下は左右に2つのプロットを作成する例である．コードは上下に2つプロットする場合とほぼ同じである．\n",
    "この場合，`subplots()`の引数には縦方向と横方向のプロット数をそれぞれ与えるが，縦方向は1とする．\n",
    "`sharey=True`を指定すると，2つのプロットで共通するy軸が描画される（指定しない，もしくは`False`にすると，別々にy軸が描画される）．"
   ]
  },
  {
   "cell_type": "code",
   "execution_count": null,
   "metadata": {},
   "outputs": [],
   "source": [
    "fig = plt.figure()\n",
    "axes = fig.subplots(1, 2, sharey=True)  # axisを縦1，横2の配置で合計2個用意．sharey=Trueで縦軸を共有する\n",
    "\n",
    "ax = axes[0]\n",
    "ax.plot(x, y1, label=\"sin(x)\")\n",
    "ax.set_xlabel(\"x\")\n",
    "ax.set_ylabel(\"sin(x)\")\n",
    "ax.legend()\n",
    "\n",
    "ax = axes[1]\n",
    "ax.plot(x, y2, label=\"cos(x)\")\n",
    "ax.set_xlabel(\"x\")\n",
    "ax.set_ylabel(\"cos(x)\")\n",
    "ax.legend()\n",
    "\n",
    "plt.show()\n"
   ]
  },
  {
   "cell_type": "markdown",
   "metadata": {},
   "source": [
    "以下は上下左右に4つのプロットを作成する例である．\n",
    "この場合，`subplots()`の引数には縦方向と横方向のプロット数をそれぞれ与えると，\n",
    "で2x2の`ax`が作成される．\n",
    "これに対して2次元のndarrayとして`axes`をインデックス指定できるため，\n",
    "ループで描画することもできる．"
   ]
  },
  {
   "cell_type": "code",
   "execution_count": null,
   "metadata": {},
   "outputs": [],
   "source": [
    "fig = plt.figure()\n",
    "\n",
    "# axisを縦2，横2の配置で合計4個用意．縦軸・縦軸を共有する\n",
    "axes = fig.subplots(2, 2, sharey=True, sharex=True)\n",
    "\n",
    "i = 0\n",
    "for row in range(2):\n",
    "    for col in range(2):\n",
    "        ax = axes[row, col]\n",
    "        ax.plot(x, np.sin(x + i), label=f\"sin(x + {i})\")\n",
    "        ax.legend()\n",
    "        i += 1\n",
    "\n",
    "\n",
    "plt.show()\n"
   ]
  },
  {
   "cell_type": "markdown",
   "metadata": {},
   "source": [
    "### 1.16.5. <a id='toc1_16_5_'></a>[プロットの例：級数の収束](#toc0_)\n",
    "\n",
    "以下の無限級数\n",
    "\n",
    "$$\n",
    "S_n = \\sum_{i=0}^n \\frac{1}{2^i}\n",
    "$$\n",
    "の和は2に収束する．\n",
    "$$\n",
    "\\lim_{n \\to \\infty} S_n = 2\n",
    "$$\n",
    "\n",
    "これを実装しプロットした例が以下のものである．$n=10$程度でほぼ収束していることが分かる．\n",
    "\n",
    "コードでは，まずゼロのndarray `S_list`を作成し，`S_list[n]`に$S_n$を格納している（forループは$n>1$について反復）．\n",
    "デフォルトではx軸の目盛りが自動で描画されてしまうため，`set_xticks()`を用いて`n_list`に一致した箇所に目盛りを描画している．\n",
    "\n",
    "- `set_xticks()`: https://matplotlib.org/stable/api/_as_gen/matplotlib.axes.Axes.set_xticks.html"
   ]
  },
  {
   "cell_type": "code",
   "execution_count": null,
   "metadata": {},
   "outputs": [],
   "source": [
    "N = 10\n",
    "n_list = np.arange(0, N)  # int\n",
    "S_list = np.zeros(N)  # float\n",
    "\n",
    "S_list[0] = 1.0\n",
    "for n in n_list[1:]:\n",
    "    S_list[n] = S_list[n - 1] + 1.0 / (2**n)\n",
    "\n",
    "fig = plt.figure(figsize=(6.4, 2.4))\n",
    "ax = fig.subplots()\n",
    "\n",
    "ax.plot(n_list, S_list, '.-')\n",
    "ax.set_xlabel(\"n\")\n",
    "ax.set_ylabel(\"$S_n$\")\n",
    "ax.set_ylim(0,)\n",
    "ax.set_xticks(n_list)\n",
    "\n",
    "plt.show()\n"
   ]
  },
  {
   "cell_type": "markdown",
   "metadata": {},
   "source": [
    "どの程度収束しているのかを見るために，$S_n$と2との誤差（差の絶対値）も同時にプロットしたのが以下のコードである．\n",
    "これをみると，$N=10$で誤差は1e-1以下になっていることが分かる．"
   ]
  },
  {
   "cell_type": "code",
   "execution_count": null,
   "metadata": {},
   "outputs": [],
   "source": [
    "fig = plt.figure()\n",
    "axs = fig.subplots(2, sharex=True)\n",
    "\n",
    "ax = axs[0]\n",
    "ax.plot(n_list, S_list, '.-')\n",
    "ax.set_ylabel(\"$S_n$\")\n",
    "ax.set_ylim(0,)\n",
    "\n",
    "ax = axs[1]\n",
    "ax.plot(n_list, np.abs(2 - S_list), '.-')\n",
    "ax.set_xlabel(\"n\")\n",
    "ax.set_ylabel(\"$|2 - S_n|$\")\n",
    "ax.set_yscale(\"log\")\n",
    "ax.set_xticks(n_list)\n",
    "\n",
    "plt.show()\n"
   ]
  },
  {
   "cell_type": "markdown",
   "metadata": {},
   "source": [
    "#### 1.16.5.1. <a id='toc1_16_5_1_'></a>[例：ライプニッツの公式](#toc0_)\n",
    "\n",
    "\n",
    "以下の無限級数の和\n",
    "$$\n",
    "S_n = 4 \\sum_{i=0}^n \\frac{(-1)^i}{2 i+1}\n",
    "$$\n",
    "は$\\pi$に収束する．\n",
    "$$\n",
    "\\lim_{n \\to \\infty} S_n = \\pi\n",
    "$$\n",
    "\n",
    "この公式は\n",
    "\n",
    "- https://ja.wikipedia.org/wiki/%E3%83%A9%E3%82%A4%E3%83%97%E3%83%8B%E3%83%83%E3%83%84%E3%81%AE%E5%85%AC%E5%BC%8F\n",
    "\n",
    "として知られており，\n",
    "$$\n",
    "\\pi = 4 \\sum_{n=0}^\\infty \\frac{(-1)^n}{2 n+1}\n",
    "$$\n",
    "とも書かれる．\n",
    "\n",
    "これを実装した例が以下のコードである．\n"
   ]
  },
  {
   "cell_type": "code",
   "execution_count": null,
   "metadata": {},
   "outputs": [],
   "source": [
    "\n",
    "def leibniz_formula(N: int) -> Tuple[np.ndarray, np.ndarray]:\n",
    "    \"\"\"\n",
    "    Leibniz formula for computing a series of length N approaching to pi\n",
    "    \"\"\"\n",
    "    n_list = np.arange(0, N)\n",
    "    S_n = np.zeros(N)\n",
    "\n",
    "    S_n[0] = 1.0\n",
    "    for n in n_list[1:]:\n",
    "        S_n[n] = S_n[n - 1] + (-1)**n / (2 * n + 1)\n",
    "    return n_list, 4 * S_n\n",
    "\n",
    "\n",
    "N = 10\n",
    "n_list, S_list = leibniz_formula(N)\n",
    "\n",
    "fig = plt.figure()\n",
    "ax = fig.subplots()\n",
    "\n",
    "ax.plot(n_list, S_list, '.-', label=\"Libniz\")\n",
    "\n",
    "ax.set_xlabel(\"n\")\n",
    "ax.set_ylabel(\"$S_n$\")\n",
    "ax.set_ylim(0,)\n",
    "ax.set_xticks(n_list)\n",
    "\n",
    "ax.hlines(np.pi, n_list.min(), n_list.max(), 'r', label='$\\pi$', lw=0.5)\n",
    "ax.legend()\n",
    "\n",
    "plt.show()\n"
   ]
  },
  {
   "cell_type": "markdown",
   "metadata": {},
   "source": [
    "どの程度収束しているのかを見るために，$S_n$と$\\pi$との誤差（差の絶対値）も同時にプロットしたのが以下のコードである．\n",
    "これをみると，誤差は対数軸で見ても直線的には減少しておらず，収束が遅いことが分かる．"
   ]
  },
  {
   "cell_type": "code",
   "execution_count": null,
   "metadata": {},
   "outputs": [],
   "source": [
    "N = 50\n",
    "n_list, S_list = leibniz_formula(N)\n",
    "\n",
    "fig = plt.figure()\n",
    "axs = fig.subplots(2, sharex=True)\n",
    "\n",
    "ax = axs[0]\n",
    "ax.plot(n_list, S_list, '-', label=\"Libniz\")\n",
    "ax.set_ylabel(\"$S_n$\")\n",
    "ax.hlines(np.pi, n_list.min(), n_list.max(), 'r', label='$\\pi$', lw=0.5)\n",
    "ax.legend()\n",
    "\n",
    "ax = axs[1]\n",
    "ax.plot(n_list, np.abs(np.pi - S_list), '-')\n",
    "ax.set_xlabel(\"n\")\n",
    "ax.set_ylabel(\"$|\\pi - S_n|$\")\n",
    "ax.set_yscale(\"log\")\n",
    "\n",
    "plt.show()\n"
   ]
  }
 ],
 "metadata": {
  "anaconda-cloud": {},
  "kernelspec": {
   "display_name": "python311",
   "language": "python",
   "name": "python3"
  },
  "language_info": {
   "codemirror_mode": {
    "name": "ipython",
    "version": 3
   },
   "file_extension": ".py",
   "mimetype": "text/x-python",
   "name": "python",
   "nbconvert_exporter": "python",
   "pygments_lexer": "ipython3",
   "version": "3.11.5"
  },
  "toc": {
   "base_numbering": 1,
   "nav_menu": {
    "height": "512px",
    "width": "252px"
   },
   "number_sections": true,
   "sideBar": true,
   "skip_h1_title": false,
   "title_cell": "Table of Contents",
   "title_sidebar": "Contents",
   "toc_cell": true,
   "toc_position": {
    "height": "1224px",
    "left": "0px",
    "right": "985px",
    "top": "110px",
    "width": "295px"
   },
   "toc_section_display": "block",
   "toc_window_display": false
  }
 },
 "nbformat": 4,
 "nbformat_minor": 4
}

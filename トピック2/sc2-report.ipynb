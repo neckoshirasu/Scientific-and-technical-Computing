{
 "cells": [
  {
   "cell_type": "markdown",
   "metadata": {},
   "source": [
    "# 科学技術計算 課題２\n"
   ]
  },
  {
   "cell_type": "code",
   "execution_count": 2,
   "metadata": {},
   "outputs": [
    {
     "data": {
      "text/plain": [
       "<Figure size 432x288 with 0 Axes>"
      ]
     },
     "metadata": {},
     "output_type": "display_data"
    }
   ],
   "source": [
    "import math\n",
    "import cmath\n",
    "from typing import Tuple, List\n",
    "import numpy as np\n",
    "import scipy\n",
    "\n",
    "import matplotlib.pyplot as plt\n",
    "from matplotlib import rcParams\n",
    "rcParams[\"savefig.bbox\"] = \"tight\"\n",
    "\n",
    "import numpy as np\n",
    "rng = np.random.default_rng()\n",
    "\n",
    "from typing import Tuple\n",
    "import sys\n",
    "import math\n",
    "import scipy\n",
    "\n",
    "import matplotlib.pyplot as plt\n",
    "from matplotlib import rcParams\n",
    "rcParams[\"savefig.bbox\"] = \"tight\"\n",
    "plt.gray()\n"
   ]
  },
  {
   "cell_type": "markdown",
   "metadata": {},
   "source": [
    "## 課題02-2"
   ]
  },
  {
   "cell_type": "code",
   "execution_count": 10,
   "metadata": {},
   "outputs": [
    {
     "name": "stdout",
     "output_type": "stream",
     "text": [
      "32.0\n",
      "0100000000110010000000000000000000000000000000000000000000000000\n",
      "a = ('0', '10000000011', '0010000000000000000000000000000000000000000000000000')\n",
      "0100001110000000000000000000000000000000000000000000000000000000\n",
      "a =\n"
     ]
    },
    {
     "data": {
      "text/plain": [
       "('0', '10000000011', '0010000000000000000000000000000000000000000000000000')"
      ]
     },
     "execution_count": 10,
     "metadata": {},
     "output_type": "execute_result"
    }
   ],
   "source": [
    "a = 18.0\n",
    "b = 2.0**57\n",
    "c = (a + b) - b\n",
    "print(c)\n",
    "\n",
    "def float64_to_binary(f: float | np.float64,separate: bool = False) -> str | Tuple[str, str, str]:\n",
    "    \"\"\"convert float64 to 64 bits as string\n",
    "\n",
    "        Args:\n",
    "        f (float | np.float64): IEEE754 binary64 floating point number\n",
    "        separate (bool, optional): return tuple of (sign bit, exponent bits, mantissa bits) if True,\n",
    "            return 64 bits if False. Defaults to False.\n",
    "\n",
    "    Returns:\n",
    "        str or Tuple of str: bit string of f\n",
    "    \"\"\"\n",
    "    assert isinstance(f, float)\n",
    "    from struct import pack, unpack\n",
    "\n",
    "    # see https://note.nkmk.me/python-float-hex/\n",
    "    s = format(unpack('>Q', pack('>d', f))[0], \"064b\")\n",
    "\n",
    "    if separate:\n",
    "        return s[0:1], s[1:12], s[12:]\n",
    "    else:\n",
    "        return s\n",
    "\n",
    "#a, bをIEEE754 binary64のビット表現に変換、符号・指数・仮数を確認\n",
    "print(float64_to_binary(a))\n",
    "print(\"a =\",float64_to_binary(a, separate=True))\n",
    "\n",
    "print(float64_to_binary(b))\n",
    "print(\"b =\",float64_to_binary(b, separate=True))\n",
    "\n"
   ]
  },
  {
   "cell_type": "markdown",
   "metadata": {},
   "source": [
    "## 課題02-5"
   ]
  },
  {
   "cell_type": "code",
   "execution_count": null,
   "metadata": {},
   "outputs": [],
   "source": []
  },
  {
   "cell_type": "markdown",
   "metadata": {},
   "source": [
    "## 課題02-6"
   ]
  },
  {
   "cell_type": "code",
   "execution_count": null,
   "metadata": {},
   "outputs": [],
   "source": []
  }
 ],
 "metadata": {
  "kernelspec": {
   "display_name": "Python 3.10.12 64-bit",
   "language": "python",
   "name": "python3"
  },
  "language_info": {
   "codemirror_mode": {
    "name": "ipython",
    "version": 3
   },
   "file_extension": ".py",
   "mimetype": "text/x-python",
   "name": "python",
   "nbconvert_exporter": "python",
   "pygments_lexer": "ipython3",
   "version": "3.10.12"
  },
  "orig_nbformat": 4,
  "vscode": {
   "interpreter": {
    "hash": "e7370f93d1d0cde622a1f8e1c04877d8463912d04d973331ad4851f04de6915a"
   }
  }
 },
 "nbformat": 4,
 "nbformat_minor": 2
}

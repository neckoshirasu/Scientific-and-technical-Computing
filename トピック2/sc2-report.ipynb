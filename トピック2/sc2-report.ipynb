{
 "cells": [
  {
   "cell_type": "markdown",
   "metadata": {},
   "source": [
    "# 科学技術計算 課題２\n"
   ]
  },
  {
   "cell_type": "code",
   "execution_count": 2,
   "metadata": {},
   "outputs": [
    {
     "data": {
      "text/plain": [
       "<Figure size 432x288 with 0 Axes>"
      ]
     },
     "metadata": {},
     "output_type": "display_data"
    }
   ],
   "source": [
    "import math\n",
    "import cmath\n",
    "from typing import Tuple, List\n",
    "import numpy as np\n",
    "import scipy\n",
    "\n",
    "import matplotlib.pyplot as plt\n",
    "from matplotlib import rcParams\n",
    "rcParams[\"savefig.bbox\"] = \"tight\"\n",
    "\n",
    "import numpy as np\n",
    "rng = np.random.default_rng()\n",
    "\n",
    "from typing import Tuple\n",
    "import sys\n",
    "import math\n",
    "import scipy\n",
    "\n",
    "import matplotlib.pyplot as plt\n",
    "from matplotlib import rcParams\n",
    "rcParams[\"savefig.bbox\"] = \"tight\"\n",
    "plt.gray()\n"
   ]
  },
  {
   "cell_type": "markdown",
   "metadata": {},
   "source": [
    "## 課題02-2"
   ]
  },
  {
   "cell_type": "code",
   "execution_count": 25,
   "metadata": {},
   "outputs": [
    {
     "name": "stdout",
     "output_type": "stream",
     "text": [
      "32.0\n",
      "decimal  s exponent    mantissa\n",
      "18.00 --> 0 10000000011 0010000000000000000000000000000000000000000000000000\n",
      "         + 2^+4      * 1.125\n",
      "144115188075855872.00 --> 0 10000111000 0000000000000000000000000000000000000000000000000000\n",
      "         + 2^+57     * 1.0\n",
      "144115188075855904.00 --> 0 10000111000 0000000000000000000000000000000000000000000000000001\n",
      "         + 2^+57     * 1.0000000000000002\n",
      "-144115188075855872.00 --> 1 10000111000 0000000000000000000000000000000000000000000000000000\n",
      "         - 2^+57     * 1.0\n",
      "32.00 --> 0 10000000100 0000000000000000000000000000000000000000000000000000\n",
      "         + 2^+5      * 1.0\n",
      "aaaaaaaaaaaaa\n",
      "0100000000110010000000000000000000000000000000000000000000000000\n",
      "a = ('0', '10000000011', '0010000000000000000000000000000000000000000000000000')\n",
      "0100001110000000000000000000000000000000000000000000000000000000\n",
      "b = ('0', '10000111000', '0000000000000000000000000000000000000000000000000000')\n"
     ]
    }
   ],
   "source": [
    "a = 18.0\n",
    "b = 2.0**57\n",
    "c = (a + b) - b\n",
    "print(c)\n",
    "\n",
    "def float64_to_binary(f: float | np.float64,separate: bool = False) -> str | Tuple[str, str, str]:\n",
    "    \"\"\"convert float64 to 64 bits as string\n",
    "\n",
    "        Args:\n",
    "        f (float | np.float64): IEEE754 binary64 floating point number\n",
    "        separate (bool, optional): return tuple of (sign bit, exponent bits, mantissa bits) if True,\n",
    "            return 64 bits if False. Defaults to False.\n",
    "\n",
    "    Returns:\n",
    "        str or Tuple of str: bit string of f\n",
    "    \"\"\"\n",
    "    assert isinstance(f, float)\n",
    "    from struct import pack, unpack\n",
    "\n",
    "    # see https://note.nkmk.me/python-float-hex/\n",
    "    s = format(unpack('>Q', pack('>d', f))[0], \"064b\")\n",
    "\n",
    "    if separate:\n",
    "        return s[0:1], s[1:12], s[12:]\n",
    "    else:\n",
    "        return s\n",
    "\n",
    "def sign_str_to_str(s: str) -> str:\n",
    "    \"\"\"sign bit to +/-\n",
    "\n",
    "    Args:\n",
    "        s (str): \"0\" or \"1\"\n",
    "\n",
    "    Returns:\n",
    "        str: \"+\" if s is \"0\" else \"-\" (if s is \"1\")\n",
    "    \"\"\"\n",
    "    assert isinstance(s, str)\n",
    "    assert len(s) == 1\n",
    "    assert s in [\"0\", \"1\"]\n",
    "\n",
    "    return \"+\" if s == \"0\" else \"-\"\n",
    "\n",
    "def exponent_str_to_int(\n",
    "        e: str,\n",
    "        len_e: int = 11,\n",
    "        bias: int = 1023\n",
    "    ) -> Tuple[int, bool]:\n",
    "    \"\"\"exponent string to exponent integer\n",
    "\n",
    "    Args:\n",
    "        e (str): exponent string consiting of of \"0\" and \"1\"\n",
    "        len_e (int, optional): the number of bits for the exponent. Defaults to 11.\n",
    "        bias (int, optional): bias to exponent. Defaults to 1023.\n",
    "\n",
    "    Returns:\n",
    "        Tuple[int, bool]: exponent in decimal integer, and True if normalized number else False\n",
    "    \"\"\"\n",
    "    assert isinstance(e, str)\n",
    "    assert len(e) == len_e\n",
    "    for bit in e:\n",
    "        assert bit in [\"0\", \"1\"]\n",
    "\n",
    "    p = sum([2**i * int(bit) for i, bit in enumerate(e[::-1])])\n",
    "    if p > 0:\n",
    "        p -= bias\n",
    "        is_normalized = True\n",
    "    else:\n",
    "        p = -bias + 1\n",
    "        is_normalized = False\n",
    "    if p > bias:\n",
    "        p = np.nan\n",
    "    return p, is_normalized\n",
    "\n",
    "\n",
    "def mantissa_str_to_float(\n",
    "        m: str,\n",
    "        is_normalized: bool,\n",
    "        len_m: int = 52\n",
    "    ) -> float:\n",
    "    \"\"\"mantissa string to mantissa integer\n",
    "\n",
    "    Args:\n",
    "        m (str): mantissa string consiting of of \"0\" and \"1\"\n",
    "        is_normalized (bool): True if m is normalized number else False\n",
    "        len_m (int, optional): the number of bits for the mantissa. Defaults to 52.\n",
    "\n",
    "    Returns:\n",
    "        float: mantissa in decimal float\n",
    "    \"\"\"\n",
    "    assert isinstance(m, str)\n",
    "    assert len(m) == len_m\n",
    "    for bit in m:\n",
    "        assert bit in [\"0\", \"1\"]\n",
    "\n",
    "    p = 1 if is_normalized else 0\n",
    "    p += sum([2 ** -(i + 1) * int(bit) for i, bit in enumerate(m)])\n",
    "\n",
    "    return p\n",
    "\n",
    "def sem_to_str(s: str, e: str, m: str, n_spaces: int = 0) -> str:\n",
    "    \"\"\"convert output strings of `float64_to_binary()` with `separate=True` to a human-readable string\n",
    "\n",
    "        Args:\n",
    "        s, e, m (str): bit strings of sign, exponent, and mantissa.\n",
    "        n_spaces (int, optional): the number of leading white spaces on the left. Defaults to 0.\n",
    "\n",
    "    Returns:\n",
    "        str: human-readable string represetnation of a number represented by s, e, and m\n",
    "    \"\"\"\n",
    "    s = sign_str_to_str(s)\n",
    "    e, is_normalized = exponent_str_to_int(e)\n",
    "    m = mantissa_str_to_float(m, is_normalized)\n",
    "\n",
    "    n_spaces = \" \" * n_spaces\n",
    "\n",
    "    if e is not np.nan:\n",
    "        return f\"{n_spaces}{s} 2^{e:<+7d} * {m}\"\n",
    "    else:\n",
    "        return f\"{n_spaces}{s} nan/inf   * {m}\"\n",
    "\n",
    "print(f\"decimal  s exponent    mantissa\")\n",
    "for f in [\n",
    "        a,\n",
    "        b,\n",
    "        a + b,\n",
    "        c,\n",
    "        \n",
    "    ]:\n",
    "    s, e, m = float64_to_binary(f, separate=True)\n",
    "    print(f\"{f:.2f} --> {s} {e} {m}\")\n",
    "    print(sem_to_str(s, e, m, n_spaces=9))\n",
    "\n",
    "print(\"aaaaaaaaaaaaa\")\n",
    "#a, bをIEEE754 binary64のビット表現に変換、符号・指数・仮数を確認\n",
    "print(float64_to_binary(a))\n",
    "print(\"a =\",float64_to_binary(a, separate=True))\n",
    "\n",
    "print(float64_to_binary(b))\n",
    "print(\"b =\",float64_to_binary(b, separate=True))\n",
    "\n"
   ]
  },
  {
   "cell_type": "markdown",
   "metadata": {},
   "source": [
    "## 課題02-5"
   ]
  },
  {
   "cell_type": "code",
   "execution_count": null,
   "metadata": {},
   "outputs": [],
   "source": []
  },
  {
   "cell_type": "markdown",
   "metadata": {},
   "source": [
    "## 課題02-6"
   ]
  },
  {
   "cell_type": "code",
   "execution_count": null,
   "metadata": {},
   "outputs": [],
   "source": []
  }
 ],
 "metadata": {
  "kernelspec": {
   "display_name": "Python 3.10.12 64-bit",
   "language": "python",
   "name": "python3"
  },
  "language_info": {
   "codemirror_mode": {
    "name": "ipython",
    "version": 3
   },
   "file_extension": ".py",
   "mimetype": "text/x-python",
   "name": "python",
   "nbconvert_exporter": "python",
   "pygments_lexer": "ipython3",
   "version": "3.10.12"
  },
  "orig_nbformat": 4,
  "vscode": {
   "interpreter": {
    "hash": "e7370f93d1d0cde622a1f8e1c04877d8463912d04d973331ad4851f04de6915a"
   }
  }
 },
 "nbformat": 4,
 "nbformat_minor": 2
}

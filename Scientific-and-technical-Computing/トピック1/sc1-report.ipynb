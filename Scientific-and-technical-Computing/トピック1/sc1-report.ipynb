{
 "cells": [
  {
   "cell_type": "markdown",
   "metadata": {},
   "source": [
    "# 科学技術計算 1 レポートテンプレート\n"
   ]
  },
  {
   "cell_type": "code",
   "execution_count": 5,
   "metadata": {},
   "outputs": [],
   "source": [
    "import math\n",
    "import cmath\n",
    "from typing import Tuple, List\n",
    "import numpy as np\n",
    "import scipy\n",
    "\n",
    "import matplotlib.pyplot as plt\n",
    "from matplotlib import rcParams\n",
    "rcParams[\"savefig.bbox\"] = \"tight\""
   ]
  },
  {
   "cell_type": "markdown",
   "metadata": {},
   "source": [
    "## 課題01-1"
   ]
  },
  {
   "cell_type": "code",
   "execution_count": 69,
   "metadata": {},
   "outputs": [
    {
     "name": "stdout",
     "output_type": "stream",
     "text": [
      "-2.0\n",
      "1.0\n"
     ]
    },
    {
     "ename": "AssertionError",
     "evalue": "行列のサイズは 2x2 または 3x3 のみ対応しています。",
     "output_type": "error",
     "traceback": [
      "\u001b[31m---------------------------------------------------------------------------\u001b[39m",
      "\u001b[31mAssertionError\u001b[39m                            Traceback (most recent call last)",
      "\u001b[36mCell\u001b[39m\u001b[36m \u001b[39m\u001b[32mIn[69]\u001b[39m\u001b[32m, line 36\u001b[39m\n\u001b[32m     32\u001b[39m \u001b[38;5;28mprint\u001b[39m(result)  \u001b[38;5;66;03m# 1.0\u001b[39;00m\n\u001b[32m     35\u001b[39m A = np.array([[\u001b[32m1\u001b[39m, \u001b[32m2\u001b[39m, \u001b[32m3\u001b[39m, \u001b[32m4\u001b[39m],[\u001b[32m5\u001b[39m, \u001b[32m6\u001b[39m, \u001b[32m7\u001b[39m, \u001b[32m8\u001b[39m],[\u001b[32m9\u001b[39m, \u001b[32m10\u001b[39m, \u001b[32m11\u001b[39m, \u001b[32m12\u001b[39m],[\u001b[32m13\u001b[39m, \u001b[32m14\u001b[39m, \u001b[32m15\u001b[39m, \u001b[32m16\u001b[39m]])\n\u001b[32m---> \u001b[39m\u001b[32m36\u001b[39m result = \u001b[43mdet_2x2or3x3\u001b[49m\u001b[43m(\u001b[49m\u001b[43mA\u001b[49m\u001b[43m)\u001b[49m\u001b[38;5;66;03m# AssertionError\u001b[39;00m\n",
      "\u001b[36mCell\u001b[39m\u001b[36m \u001b[39m\u001b[32mIn[69]\u001b[39m\u001b[32m, line 6\u001b[39m, in \u001b[36mdet_2x2or3x3\u001b[39m\u001b[34m(A)\u001b[39m\n\u001b[32m      3\u001b[39m \u001b[38;5;28;01mdef\u001b[39;00m\u001b[38;5;250m \u001b[39m\u001b[34mdet_2x2or3x3\u001b[39m(A: np.ndarray) -> \u001b[38;5;28mfloat\u001b[39m:\n\u001b[32m      4\u001b[39m \n\u001b[32m      5\u001b[39m     \u001b[38;5;66;03m# --- 行列サイズの確認 ---\u001b[39;00m\n\u001b[32m----> \u001b[39m\u001b[32m6\u001b[39m     \u001b[38;5;28;01massert\u001b[39;00m A.shape \u001b[38;5;129;01min\u001b[39;00m [(\u001b[32m2\u001b[39m, \u001b[32m2\u001b[39m), (\u001b[32m3\u001b[39m, \u001b[32m3\u001b[39m)], \u001b[33m\"\u001b[39m\u001b[33m行列のサイズは 2x2 または 3x3 のみ対応しています。\u001b[39m\u001b[33m\"\u001b[39m\n\u001b[32m      8\u001b[39m     \u001b[38;5;66;03m# --- 2x2 の場合 ---\u001b[39;00m\n\u001b[32m      9\u001b[39m     \u001b[38;5;28;01mif\u001b[39;00m A.shape == (\u001b[32m2\u001b[39m, \u001b[32m2\u001b[39m):\n",
      "\u001b[31mAssertionError\u001b[39m: 行列のサイズは 2x2 または 3x3 のみ対応しています。"
     ]
    }
   ],
   "source": [
    "import numpy as np\n",
    "\n",
    "def det_2x2or3x3(A: np.ndarray) -> float:\n",
    "\n",
    "    # --- 行列サイズの確認 ---\n",
    "    assert A.shape in [(2, 2), (3, 3)], \"行列のサイズは 2x2 または 3x3 のみ対応しています。\"\n",
    "\n",
    "    # --- 2x2 の場合 ---\n",
    "    if A.shape == (2, 2):\n",
    "        det = A[0, 0]*A[1, 1] - A[0, 1]*A[1, 0]\n",
    "\n",
    "    # --- 3x3 の場合 ---\n",
    "    else:\n",
    "        det = (\n",
    "            A[0, 0]*(A[1, 1]*A[2, 2] - A[1, 2]*A[2, 1])\n",
    "          - A[0, 1]*(A[1, 0]*A[2, 2] - A[1, 2]*A[2, 0])\n",
    "          + A[0, 2]*(A[1, 0]*A[2, 1] - A[1, 1]*A[2, 0])\n",
    "        )\n",
    "\n",
    "    return float(det)\n",
    "\n",
    "\n",
    "\n",
    "A = np.array([[1, 2],[3, 4]])\n",
    "result = det_2x2or3x3(A)\n",
    "print(result)  # -2.0\n",
    "\n",
    "\n",
    "A = np.array([[1, 2, 3],[0, 1, 4],[5, 6, 0]])\n",
    "\n",
    "result = det_2x2or3x3(A)\n",
    "print(result)  # 1.0\n",
    "\n",
    "\n",
    "A = np.array([[1, 2, 3, 4],[5, 6, 7, 8],[9, 10, 11, 12],[13, 14, 15, 16]])\n",
    "result = det_2x2or3x3(A)# AssertionError"
   ]
  },
  {
   "cell_type": "markdown",
   "metadata": {},
   "source": []
  },
  {
   "cell_type": "markdown",
   "metadata": {},
   "source": [
    "## 課題01-5"
   ]
  },
  {
   "cell_type": "code",
   "execution_count": 1,
   "metadata": {},
   "outputs": [
    {
     "ename": "NameError",
     "evalue": "name 'np' is not defined",
     "output_type": "error",
     "traceback": [
      "\u001b[31m---------------------------------------------------------------------------\u001b[39m",
      "\u001b[31mNameError\u001b[39m                                 Traceback (most recent call last)",
      "\u001b[36mCell\u001b[39m\u001b[36m \u001b[39m\u001b[32mIn[1]\u001b[39m\u001b[32m, line 1\u001b[39m\n\u001b[32m----> \u001b[39m\u001b[32m1\u001b[39m \u001b[38;5;28;01mdef\u001b[39;00m\u001b[38;5;250m \u001b[39m\u001b[34mexp_maclaurin_partial\u001b[39m(x: \u001b[43mnp\u001b[49m.ndarray,i: \u001b[38;5;28mint\u001b[39m) -> np.ndarray:\n\u001b[32m      2\u001b[39m     y = \u001b[32m0\u001b[39m\n\u001b[32m      3\u001b[39m     \u001b[38;5;28;01mfor\u001b[39;00m n \u001b[38;5;129;01min\u001b[39;00m \u001b[38;5;28mrange\u001b[39m(i + \u001b[32m1\u001b[39m):\n",
      "\u001b[31mNameError\u001b[39m: name 'np' is not defined"
     ]
    }
   ],
   "source": [
    "def exp_maclaurin_partial(x: np.ndarray,i: int) -> np.ndarray:\n",
    "    y = 0\n",
    "    for n in range(i + 1):\n",
    "        y += x ** n / math.factorial(n)\n",
    "    \n",
    "    return y\n",
    "\n",
    "    \"\"\"f_i(x)を計算する関数\"\"\"\n",
    "\n",
    "def norm(x: np.ndarray, i: int) -> float:\n",
    "    \"\"\"‖f_i(x) - e^x‖∞ を返す\"\"\"\n",
    "    f_i = exp_maclaurin_partial(x, i)\n",
    "    diff = np.abs(f_i - np.exp(x))\n",
    "    return np.max(diff)\n",
    "\n",
    "\n",
    "#グラフを出力する\n",
    "\n",
    "from matplotlib import rcParams\n",
    "rcParams[\"savefig.bbox\"] = \"tight\"  # 周囲の余白を削除する\n",
    "\n",
    "x = np.linspace(0, 10, 200)\n",
    "y1 = exp_maclaurin_partial(x, 5)\n",
    "y2 = exp_maclaurin_partial(x, 10)\n",
    "y3 = exp_maclaurin_partial(x, 15)\n",
    "y4 = np.exp(x)\n",
    "\n",
    "\n",
    "fig = plt.figure()  # プロット用figureを作成\n",
    "ax = fig.subplots()  # figureにaxisを作成\n",
    "\n",
    "\n",
    "# labelには凡例用のラベル文字列を指定\n",
    "ax.plot(x, y1, label=\"f_5(x)\") \n",
    "ax.plot(x, y2, label=\"f_10(x)\")\n",
    "ax.plot(x, y3, label=\"f_15(x)\")  \n",
    "ax.plot(x, y4, label=\"exp(x)\")\n",
    "\n",
    "ax.set_xlabel(\"x\")  # 横軸のラベル\n",
    "ax.set_ylabel(\"f_i(x) / exp(x)\")  # 縦軸のラベル\n",
    "ax.set_xlim(0,10)  # 横軸の表示範囲\n",
    "ax.set_ylim(0)  # 縦軸の表示範囲\n",
    "ax.grid(True)\n",
    "ax.legend()  # 凡例を作成\n",
    "\n",
    "\n",
    "# ノルム計算\n",
    "i = np.arange(0,20)\n",
    "sup_norms = [norm(x, n) for n in i]\n",
    "\n",
    "fig = plt.figure()  # プロット用figureを作成\n",
    "ax = fig.subplots()  # figureにaxisを作成\n",
    "\n",
    "\n",
    "\n",
    "#ここからプロットを作成するコードを書く\n",
    "\n",
    "ax.plot(i, sup_norms, label=\"norm\")\n",
    "ax.set_yscale(\"log\")  # 対数目盛\n",
    "ax.set_xlabel(\"i\")\n",
    "ax.set_ylabel(\"norm\")\n",
    "\n",
    "ax.set_xlim(0,10)  # 横軸の表示範囲\n",
    "ax.grid(True, which=\"both\")\n",
    "ax.legend()\n",
    "plt.show()\n"
   ]
  }
 ],
 "metadata": {
  "kernelspec": {
   "display_name": "myenv",
   "language": "python",
   "name": "python3"
  },
  "language_info": {
   "codemirror_mode": {
    "name": "ipython",
    "version": 3
   },
   "file_extension": ".py",
   "mimetype": "text/x-python",
   "name": "python",
   "nbconvert_exporter": "python",
   "pygments_lexer": "ipython3",
   "version": "3.13.7"
  },
  "orig_nbformat": 4
 },
 "nbformat": 4,
 "nbformat_minor": 2
}
